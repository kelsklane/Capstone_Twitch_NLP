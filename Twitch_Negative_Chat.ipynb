{
 "cells": [
  {
   "cell_type": "markdown",
   "metadata": {},
   "source": [
    "![twitch](Images/twitchlogo.jpg)"
   ]
  },
  {
   "cell_type": "markdown",
   "metadata": {},
   "source": [
    "# Twitch Hate Chat Identification\n",
    "---\n",
    "Author: [Kelsey Lane](kelsklane@gmail.com)"
   ]
  },
  {
   "cell_type": "markdown",
   "metadata": {},
   "source": [
    "## Overview\n",
    "---\n",
    "This project aims to better identify hate chats on Twitch livestreams. A subset of data consisting of four streamers and nine total streams from [this Harvard database](https://dataverse.harvard.edu/dataset.xhtml?persistentId=doi:10.7910/DVN/VE0IVQ) is used in this project. These streams occurred during April - June of 2018. Sentiment analysis is used to identify negative comments which can be used to flag hate chats as they are sent. The relative importance of different words that predict hate chats can also be pulled from the model to help build a better filter. The packages used for this project can be seen in the environment file provided in the repository."
   ]
  },
  {
   "cell_type": "markdown",
   "metadata": {},
   "source": [
    "## Technical Overview\n",
    "---\n",
    "The data I'm using for this project are chat messages scraped from Twitch livestreams with metadata about the time the message was sent, how far into the stream the message was sent and more. This is suited for the business problem as the aim is to help Twitch more efficiently screen and filter out hate messages, so modeling the sentiment of the messages is a step towards this. To prep the data I used VADER from NLTK to assign a negative or not negative label to each chat. As for cleaning the data I filtered out as many messages sent by bots as I could and got rid of any messages with links using regular expressions, as these are often just advertisements and not real chats. For the tokenization process, I used NLTK's Tweet tokenizer as chats are similar in structure to tweets. I left capitalization and stop words in, as short, casual messages can perform better when retaining this information. Finally, unnecessary punctuation is filtered out and the remaining words are lemmatized to help reduce the number of features. \n",
    "\n",
    "The main two models used for the sentiment analysis are the Multinomial Bayes and Logistic Regression models from sklearn, as these often work well with sentiment analysis and are simple enough to run effectively with the amount of data I have. Sklearn's CountVectorizer was used alongside a custom tokenization function to break the chats up and these vectorizers were tuned using a GridSearch to alter the maximum number of features in the dataset, the frequency cutoff for the higher frequency words, whether bigrams should be used or not, and if the words should all be lowercase or not. The logistic regression model was also tuned, but the only change from the default was to increase the number of iterations. While iterating throughout the models, a train test split was performed and the training data was further cross validated using sklearn's `cross_validate` library. The final model is a logistic regression that has an accuracy of 95% with a recall of 76%."
   ]
  },
  {
   "cell_type": "markdown",
   "metadata": {},
   "source": [
    "## Business Understanding\n",
    "---\n",
    "Twitch has an issue with cyberbullying in their chats. According to a [survey done in 2018](https://blog.streamelements.com/streamelements-analysis-on-twitch-bullying-c3f2b2240318), over a quarter of people using Twitch have seen some type of bullying in chat messages. In addition, over 13% of streamers have felt bullied at some point. While Twitch has measures in place for combating bullying, only 26.4% of people thought they were effective. This bullying can have serious consequences for the mental health of not only the streamers, but also the viewers participating in the chat. Therefore, in an effort to help Twitch's safety operations team better tackle this issue and create a safer platform, I propose using a sentiment analysis model to help better identify hate chats. This model can help flag these chats faster for moderators to view and deal with. Words common to hate messages can also be identified and added to existing filters to strengthen them. This can help combat the bullying issue present on Twitch's platform while also creating a more welcoming environment, especially for BIPOC and LGBTQ+ people that are often the target of this bullying."
   ]
  },
  {
   "cell_type": "markdown",
   "metadata": {},
   "source": [
    "## Data Understanding\n",
    "---\n",
    "The dataset for this project comes from a [Harvard study](https://dataverse.harvard.edu/dataset.xhtml?persistentId=doi:10.7910/DVN/VE0IVQ) and contains chat logs from 50 different streamers with around 25 streams per streamer. As the total original data contains too many rows to efficiently run on my computer, I paired the dataset down to four streamers with nine streams total. This means there are two streams per streamer. However, KingRichard has three streams to keep the number of chats at about 25,000 for each person. In the end, this resulted in a dataset with 102,700 rows where each row is a unique chat. When creating the dataset read in below, only chats with the user commenter type were kept, as chats from admins and moderators are not going to contain hate messages. The `fragments` column from the original dataset was broken out into a `twitch_chat` column and `emotes` column to better manipulate the data. The original dataset also contained chats that were edited, though it was never made clear if this was by users or moderators editing the chat for content. Due to this uncertainty and the fact there weren't that many edited chats, any edited rows are dropped. Finally, any chats that start with an exclamation point are filtered out, as on Twitch these are commands used to call bots and are not actual comments. The final dataset was created by merging the nine streams together and dropping the `fragments` and `updated_at` columns, as these supply no additional information. This smaller dataset is imported in the cell below and the code for generating it can be found in the Merge_datasets notebook in the notebook folder."
   ]
  },
  {
   "cell_type": "code",
   "execution_count": 1,
   "metadata": {},
   "outputs": [],
   "source": [
    "#Imports libraries for labeling data\n",
    "from textblob import TextBlob\n",
    "import string\n",
    "from nltk.sentiment.vader import SentimentIntensityAnalyzer\n",
    "\n",
    "#Imports libraries for data manipulation and visualization\n",
    "import pandas as pd\n",
    "import numpy as np\n",
    "import matplotlib.pyplot as plt\n",
    "import seaborn as sns\n",
    "\n",
    "#Imports libraries for text cleaning and manipulation\n",
    "import nltk\n",
    "import re\n",
    "import collections\n",
    "from nltk.tokenize import TweetTokenizer\n",
    "from nltk.corpus import stopwords, wordnet\n",
    "from nltk import pos_tag\n",
    "from nltk.stem import WordNetLemmatizer\n",
    "\n",
    "#Imports libraries for modeling and evaluation\n",
    "from sklearn.model_selection import train_test_split, cross_validate\n",
    "from imblearn.pipeline import Pipeline as imbpipeline\n",
    "from sklearn.compose import ColumnTransformer\n",
    "from sklearn.preprocessing import OneHotEncoder, StandardScaler\n",
    "from imblearn.over_sampling import SMOTE\n",
    "from sklearn.feature_extraction.text import CountVectorizer, TfidfVectorizer\n",
    "from sklearn.naive_bayes import MultinomialNB\n",
    "from sklearn.model_selection import GridSearchCV\n",
    "from sklearn.metrics import ConfusionMatrixDisplay, confusion_matrix, recall_score, accuracy_score, make_scorer\n",
    "from sklearn.linear_model import LogisticRegression\n",
    "from sklearn.ensemble import RandomForestClassifier \n",
    "\n",
    "#Imports dataset\n",
    "df = pd.read_csv('data/small_merged_chats')"
   ]
  },
  {
   "cell_type": "markdown",
   "metadata": {},
   "source": [
    "Unfortunately, in the process of saving the modified dataframe and opening it again eight of the chats get corrupted and become NaNs, so these rows are dropped."
   ]
  },
  {
   "cell_type": "code",
   "execution_count": 2,
   "metadata": {},
   "outputs": [],
   "source": [
    "#Gets rid of rows that got turned to NaNs\n",
    "df = df.dropna(subset = ['body'])"
   ]
  },
  {
   "cell_type": "markdown",
   "metadata": {},
   "source": [
    "While doing data exploration, I found some bot messages sending links to the streamers Patreon or Discord server, as well as advertisements for other Twitch streams. In an effort to narrow the data down to only human messages, any chat message with a link is dropped from the dataset. While this may drop some non-bot related messages, it seemed to be the cleanest way to identify these false rows."
   ]
  },
  {
   "cell_type": "code",
   "execution_count": 3,
   "metadata": {},
   "outputs": [],
   "source": [
    "#Get rid of chats with links (often promo/not real messages)\n",
    "def ad(chat):\n",
    "    result = False\n",
    "    #Change result to True if link present in chat\n",
    "    result = bool(re.search(r'www\\.[a-z]?\\.?(com)+|[a-z]+\\.(com)', chat))\n",
    "    result = bool(re.search(r'http\\S+', chat))\n",
    "    return result\n",
    "\n",
    "#Makes ad column and gets rid of any ad messages\n",
    "df['is_ad'] = df['body'].apply(ad)\n",
    "df = df[df['is_ad'] == False]"
   ]
  },
  {
   "cell_type": "markdown",
   "metadata": {},
   "source": [
    "Finally, in preparation for generating the labels for the data, certain emotes are truncated down to one form. Some emotes have different variants that are simply cosmetic, but the way they get rendered in text is as different \"words.\" To reduce the number of extra words that get counted, the most popular emotes with a lot of variations are replaced with their basic form."
   ]
  },
  {
   "cell_type": "code",
   "execution_count": 4,
   "metadata": {},
   "outputs": [],
   "source": [
    "#Changes popular emojis to one type so no variants ie) pog + pogChamp -> pog + pog\n",
    "def emoji_shorten(chat):\n",
    "    chat = re.sub(r'(?i) \\bpog(\\w)*\\b |\\bpog(\\w)*\\b', 'pog', chat)\n",
    "    chat = re.sub(r'(?i) \\blul(\\w)*\\b |\\blul(\\w)*\\b', 'lul', chat)\n",
    "    chat = re.sub(r'(?i) \\bkappa(\\w)*\\b |\\bkappa(\\w)*\\b', 'kappa', chat)\n",
    "    return chat\n",
    "\n",
    "#Creates new column with emojis shortened to simple form\n",
    "df['chats'] = df.body.apply(lambda x: emoji_shorten(x))"
   ]
  },
  {
   "cell_type": "markdown",
   "metadata": {},
   "source": [
    "VADER is used to create the target labels for the data. As Twitch has a lot of platform specific words, some of the more popular ones are added to VADER's lexicon to generate more accurate labels. The full added vocabulary is included below, where the sentiment values are calculated from [this study](https://dl.acm.org/doi/10.1145/3365523) that had people rate the positive, negative, or neutral sentiment of various Twitch emotes and slang. Some variations of words that are intentional misspellings of existing ones are also included below and marked with the same sentiment value as the original word, ie) nice vs. noice."
   ]
  },
  {
   "cell_type": "code",
   "execution_count": 5,
   "metadata": {},
   "outputs": [],
   "source": [
    "#Words to add to VADER\n",
    "new_words = {\n",
    "    'noice': 1.8,\n",
    "    'scum': -2.0,\n",
    "    'kap': 0.5,\n",
    "    'kappa': 0.5,\n",
    "    'lul': 1.8,\n",
    "    'omegalol': 1.8,\n",
    "    'strats': 2.0,\n",
    "    'rekt': 0,\n",
    "    'owo': 1.0,\n",
    "    'tweaker': -2.3,\n",
    "    'pog': 2.8,\n",
    "    'pag': 2.8,\n",
    "    'incel': -3.1,\n",
    "    'tilted': -0.7,\n",
    "    'feelsbadman': -2.6,\n",
    "    'feelsgoodman': 3.7,\n",
    "    'trash': -2.0,\n",
    "    'rip': -1.2,\n",
    "    'ez': 1.9,\n",
    "    'clap': 2.7,\n",
    "    'hyperbruh': -0.6,\n",
    "    'f': 0.5,\n",
    "    'F': 0.5,\n",
    "    #Discord changed to 0 as it refers to a messaging platform\n",
    "    'discord': 0,\n",
    "    'PJSalt': -1.2,\n",
    "    'Kreygasm': 2.8,\n",
    "    'kreygasm': 2.8,\n",
    "    'homo': -3.5,\n",
    "    'clip': 0.5,\n",
    "    'rAcIsM': -3.1,\n",
    "    'based': 2.0,\n",
    "    'Based': 2.0,\n",
    "    'PepeHands': -1.7,\n",
    "    'WutFace': -1.7,\n",
    "    'FailFish': -2.0,\n",
    "    'BabyRage': -1.6,\n",
    "    'ANELE': -0.8,\n",
    "    'haHAA': -0.5,\n",
    "    'ResidentSleeper': -1.2,\n",
    "    'cmonBruh': -1.0,\n",
    "    #Change sentiment to neutral as looking for hate specifically\n",
    "    ':(': 0\n",
    "}"
   ]
  },
  {
   "cell_type": "markdown",
   "metadata": {},
   "source": [
    "Finally, the labels are generated using VADER below. Each chat is sorted into either a positive, neutral, or negative sentiment list. A one is assigned to any chat in the negative list, while a 0 is assigned to any positive or neutral chat in the dataframe to create the target. Since I am only looking for chats with hate, the positive and neutral chats are lumped together. The normalized count of these labels is printed as well, and there is a class imbalance present in the data that will need to be addressed."
   ]
  },
  {
   "cell_type": "code",
   "execution_count": 6,
   "metadata": {},
   "outputs": [
    {
     "data": {
      "text/plain": [
       "0    0.89037\n",
       "1    0.10963\n",
       "Name: label, dtype: float64"
      ]
     },
     "execution_count": 6,
     "metadata": {},
     "output_type": "execute_result"
    }
   ],
   "source": [
    "#Creates labels for data\n",
    "# WARNING: Takes a while to run\n",
    "polarity = 0\n",
    "neutral_list = []\n",
    "negative_list = []\n",
    "positive_list = []\n",
    "for chat in df.chats:\n",
    "    #Sets up chat for analysis and initializes VADER object\n",
    "    analysis = TextBlob(chat)\n",
    "    vad = SentimentIntensityAnalyzer()\n",
    "    #New words get added to vocabulary\n",
    "    vad.lexicon.update(new_words)\n",
    "    score = vad.polarity_scores(chat)\n",
    "    neg = score['neg']\n",
    "    neu = score['neu']\n",
    "    pos = score['pos']\n",
    "    comp = score['compound']\n",
    "    polarity += analysis.sentiment.polarity\n",
    "    #Assigns chat to either positive, negative, or neutral\n",
    "    if neg > pos:\n",
    "        negative_list.append(chat)\n",
    "    elif pos > neg:\n",
    "        positive_list.append(chat) \n",
    "    elif pos == neg:\n",
    "        neutral_list.append(chat)\n",
    "\n",
    "#Labels the data based on VADER results\n",
    "df[\"label\"] = np.where(df[\"chats\"].isin(negative_list), 1, 0)\n",
    "df.label.value_counts(normalize = True)"
   ]
  },
  {
   "cell_type": "markdown",
   "metadata": {},
   "source": [
    "Unfortunately, there are a lot of limitations present with the data. For one, the VADER labeling assigns chats as negative or not negative, but these negative chats aren't all hate. However, there is no neat way to filter out specifically the hate messages from ones that aren’t. While expanding VADER's lexicon can help with identification, models built with these labels will pick up on other negative chats in addition to hate chats. Another limitation is that words can be intentionally misspelled to bypass the filters on Twitch. However, due to the wide variation in misspellings and potential overlap with other words, I didn't attempt to spell check chats to target these words. As a result, there may also be hate messages that slip by. Another limitation is the potential presence of other bot chats aside from the advertisements filtered out earlier. As different streamers can set up custom bots that say different things in response to user prompts, it's not easy to find and filter for all these messages. The streamers included in this dataset are also all well known. As a result, they have more moderators and may actually regulate their chats better when compared to smaller or mid-sized streamers. Therefore, scraping and looking at Twitch chats for smaller streamers would make for more robust data. Finally, the lack of diversity in streamers in the dataset I pulled from originally means that these hate messages may not fully encompass what’s on the platform. As a result, hate directed towards certain minority groups may be underrepresented in the data and not picked up by the models."
   ]
  },
  {
   "cell_type": "markdown",
   "metadata": {},
   "source": [
    "## Data Preparation\n",
    "---\n",
    "In an effort to help better identify hate chats, additional features were added to the data. The first is the time of day of the stream, as streams at night may receive more or less hate than those during the day. Due to the overwhelming amount of streams occurring at night, the stream are split into three groups. A stream is marked as being in the day if it falls between 7am to 8pm. After that, night is broken into night, consisting of 8pm to midnight, and late night, which is midnight to 7am."
   ]
  },
  {
   "cell_type": "code",
   "execution_count": 7,
   "metadata": {},
   "outputs": [],
   "source": [
    "#Finds the hour of stream at time of comment\n",
    "df['created_at'] = pd.to_datetime(df['created_at'])\n",
    "df['hour'] = df.created_at.apply(lambda x: x.hour)\n",
    "\n",
    "#Sorts chat into day/night/late night based on hour chat was made\n",
    "def day_night(hour):\n",
    "    if (hour >= 7) and (hour < 20):\n",
    "        return 'Day'\n",
    "    elif (hour >= 20) and (hour <= 23):\n",
    "        return 'Night'\n",
    "    else:\n",
    "        return 'Late Night'\n",
    "    \n",
    "#Creates the column\n",
    "df['day_night'] = df.hour.apply(day_night)"
   ]
  },
  {
   "cell_type": "markdown",
   "metadata": {},
   "source": [
    "Other features added were if the original chat included an emote, as some emotes require the user to subscribe to the Twitch streamer. Therefore, these users are less likely to comment hate messages and this information could help improve the model. The ratio of capital letters in the chat is also included as its’ own feature to help capture the energy of the sentiment. As some models make all the chats lowercase, this information can get lost so it is preserved and amplified here."
   ]
  },
  {
   "cell_type": "code",
   "execution_count": 8,
   "metadata": {},
   "outputs": [],
   "source": [
    "#Did the user include an emote\n",
    "def any_emojis(emotes):\n",
    "    if emotes[2] == 'N':\n",
    "        return 0\n",
    "    else:\n",
    "        return 1\n",
    "    \n",
    "#Adds if chat contains emojis or not\n",
    "df['any_emojis'] = df.emotes.apply(any_emojis)\n",
    "    \n",
    "    \n",
    "#Ratio capital to length tweet\n",
    "def capital_letter_ratio(chat):\n",
    "    if type(chat) == float:\n",
    "        return 0\n",
    "    if len(chat) == 0:\n",
    "        return 0\n",
    "    capital_count = 0\n",
    "    for c in chat:\n",
    "        if c.isupper():\n",
    "            capital_count += 1\n",
    "    return capital_count / len(chat)\n",
    "\n",
    "#Adds ratio of capital letters\n",
    "df['cap_ratio'] = df.twitch_chat.apply(capital_letter_ratio)"
   ]
  },
  {
   "cell_type": "markdown",
   "metadata": {},
   "source": [
    "Another feature added is `offset_percent`. In the original dataset, offset represents how many seconds from the start of the stream the chat was made. To make this consistent, the offset was divided by the length of the stream to get the percent value for how far into the stream the comment was made. This is a useful feature to add as certain events in the stream may have triggered people to leave hate chats, and thus the timing the chat was sent may give us useful information."
   ]
  },
  {
   "cell_type": "code",
   "execution_count": 9,
   "metadata": {},
   "outputs": [],
   "source": [
    "#Grabs the max offset value as the length of stream and the stream associated with it\n",
    "graph = df.groupby(['video_id'])['offset'].max()\n",
    "videos = list(graph.index)\n",
    "max_time = list(graph.values)\n",
    "\n",
    "#Creates list of sets of the max time for each stream\n",
    "time_pairings = []\n",
    "for i, v in enumerate(videos):\n",
    "    time_pairings.append((videos[i], max_time[i]))\n",
    "\n",
    "#Finds the length of the stream for each chat\n",
    "def find_time(video):\n",
    "    for pair in time_pairings:\n",
    "        if video == pair[0]:\n",
    "            return pair[1]\n",
    "\n",
    "#Creates the length of stream and uses that to make the offset percent\n",
    "df['max_time'] = df.video_id.apply(find_time)\n",
    "df['offset_percent'] = (df.offset / df.max_time) * 100"
   ]
  },
  {
   "cell_type": "markdown",
   "metadata": {},
   "source": [
    "The last feature added is the total comments made by each user during a stream. While it's not clear if these anonymized ids are kept between streams, they are treated as unique to each stream. This can be a useful feature as sometimes people may spam hate comments, so the quantity of chats made by a user may help distinguish hate chats from regular ones."
   ]
  },
  {
   "cell_type": "code",
   "execution_count": 10,
   "metadata": {},
   "outputs": [],
   "source": [
    "#Counts the number of comments made by each user\n",
    "counter = collections.Counter(df.commenter_id)\n",
    "\n",
    "#Adds the number of comments made by the user\n",
    "def commenter_count(id):\n",
    "    return counter[id]\n",
    "df['total_comments'] = df.commenter_id.apply(commenter_count)"
   ]
  },
  {
   "cell_type": "markdown",
   "metadata": {},
   "source": [
    "This leaves the dataset with a lot of features. Many are leftover columns used to create other ones, so the dataset is paired down to the relevant columns. The `body` and `twitch_chat` columns are dropped as they have the same information as the processed `chat` column. `channel_id` and `commenter_id` are dropped as they provide redundant information with other columns in the dataset. For similar reasons, `is_ad`, `created_at`, `offset`, `hour`, `emotes`, and `max_time` are dropped as they were used as intermediaries to create other columns or to drop irrelevant rows and aren't necessarily useful on their own."
   ]
  },
  {
   "cell_type": "code",
   "execution_count": 11,
   "metadata": {},
   "outputs": [],
   "source": [
    "#Drops irrelevant columns\n",
    "df = df.drop(columns = ['body', 'channel_id', 'commenter_id', 'is_ad', 'created_at', \n",
    "                  'offset', 'hour', 'max_time', 'twitch_chat', 'emotes'], axis = 1)"
   ]
  },
  {
   "cell_type": "markdown",
   "metadata": {},
   "source": [
    "This leaves the final dataset with eight columns. `label` is the target column while `chats` now contains the processed chat message to be analyzed. The remaining six columns are extra features that can help enhance the performance of the model. `day_night`, `any_emojis`, `cap_ratio`, `offset_percent`, and `total_comments` are kept as engineered features. Finally, `video_id` is kept as a variable, since different streams can attract different amounts of hate. As this is a categorical column, it is converted to a string below."
   ]
  },
  {
   "cell_type": "code",
   "execution_count": 12,
   "metadata": {},
   "outputs": [],
   "source": [
    "#Changes id to string\n",
    "df['video_id'] = df['video_id'].astype(str)"
   ]
  },
  {
   "cell_type": "markdown",
   "metadata": {},
   "source": [
    "Finally, the function used to tokenize the chats in the vectorizers is included below. Any non-English characters are stripped from any chats as the emotes are represented as words, so there is no worry of getting rid of emoji-related information by doing this. The chats are then tokenized using NLTK's Tweet Tokenizer to help capture the nuances of causal language present on Twitch. Finally, any punctuation that is not likely to indicate emotion are stripped from the tokens and the resulting words are lemmatized, as word variations aren't important for differentiating chats."
   ]
  },
  {
   "cell_type": "code",
   "execution_count": 13,
   "metadata": {},
   "outputs": [],
   "source": [
    "#Replaces pos tags with lemmatize compatable tags\n",
    "def pos_replace(treebank_tag):\n",
    "    if treebank_tag.startswith('J'):\n",
    "        return wordnet.ADJ\n",
    "    elif treebank_tag.startswith('V'):\n",
    "        return wordnet.VERB\n",
    "    elif treebank_tag.startswith('N'):\n",
    "        return wordnet.NOUN\n",
    "    elif treebank_tag.startswith('R'):\n",
    "        return wordnet.ADV\n",
    "    else:\n",
    "        return wordnet.NOUN\n",
    "    \n",
    "#Makes list of punctuation to exclude, keeps certain symbols\n",
    "punct = list(string.punctuation)\n",
    "keep_punct = ['?', '!', '@', ',', '.']\n",
    "punct = [p for p in punct if p not in keep_punct]\n",
    "\n",
    "#Removes non-ASCII characters (aka emojis that cant be converted to original symbol)\n",
    "def remove_junk(tweet):\n",
    "    return ''.join([i if ord(i) < 128 else ' ' for i in tweet])\n",
    "\n",
    "def chat_tokenizer(doc):\n",
    "    #Gets rid of weird characters\n",
    "    doc = remove_junk(doc)\n",
    "    #Tokenizes using NLTK Twitter Tokenizer as chats like tweets\n",
    "    chat_token = TweetTokenizer(strip_handles = True)\n",
    "    doc = chat_token.tokenize(doc)\n",
    "    #Strips extra puntuation I don't want to keep\n",
    "    doc = [w for w in doc if w not in punct]\n",
    "    #Lemmatizes tokens\n",
    "    doc = pos_tag(doc)\n",
    "    doc = [(w[0], pos_replace(w[1])) for w in doc]\n",
    "    lemmatizer = WordNetLemmatizer() \n",
    "    doc = [lemmatizer.lemmatize(word[0], word[1]) for word in doc]\n",
    "    \n",
    "    return doc"
   ]
  },
  {
   "cell_type": "markdown",
   "metadata": {},
   "source": [
    "## Modeling\n",
    "---\n"
   ]
  },
  {
   "cell_type": "markdown",
   "metadata": {},
   "source": [
    "### First Simple Model\n",
    "The first simple model in this case is a Naive Bayes model that takes in only the chat messages. This just gives us a raw estimation of how well we could expect a model to do based on chats alone. Bayes also works well for language analysis, so it makes for a good first model. While recall is the metric used, I’ve printed accuracy as well to get a sense of how well the models fit. The negative chats are also SMOTEd to account for class imbalance. I tried mixtures of under and oversampling, but simply using SMOTE returned the best results. "
   ]
  },
  {
   "cell_type": "code",
   "execution_count": 24,
   "metadata": {},
   "outputs": [
    {
     "name": "stdout",
     "output_type": "stream",
     "text": [
      "Training Recall: 0.5494953832939661\n",
      "Training Accuracy: 0.9084582927620902\n",
      "Validation Recall:0.825469626429447\n",
      "Validation Accuracy:0.8824277831872769\n"
     ]
    }
   ],
   "source": [
    "#Creates features and target then performs train test split\n",
    "y = df['label']\n",
    "X = df['chats']\n",
    "X_train, X_test, y_train, y_test = train_test_split(X, y, random_state = 213)\n",
    "\n",
    "#Pipeline for processing and fitting model\n",
    "mnb_cv = imbpipeline(steps=[\n",
    "    ('preproc', CountVectorizer(lowercase = False, tokenizer = chat_tokenizer)),\n",
    "    ('smote', SMOTE(sampling_strategy = 'minority', random_state = 213)),\n",
    "    ('mnb', MultinomialNB())\n",
    "])\n",
    "\n",
    "#Fits model and prints training score\n",
    "mnb_cv.fit(X_train, y_train)\n",
    "preds = mnb_cv.predict(X_train)\n",
    "print(\"Training Recall:\", recall_score(preds, y_train))\n",
    "print(\"Training Accuracy:\", mnb_cv.score(X_train, y_train))\n",
    "#Cross validates model and prints average result\n",
    "scoring = {\n",
    "    'acc': make_scorer(accuracy_score),\n",
    "    'rec': 'recall'\n",
    "}\n",
    "scores = cross_validate(mnb_cv, X_train, y_train, cv = 5, scoring = scoring)\n",
    "print(\"Validation Recall:\" + str(np.mean(scores['test_rec'])))\n",
    "print(\"Validation Accuracy:\" + str(np.mean(scores['test_acc'])))"
   ]
  },
  {
   "cell_type": "markdown",
   "metadata": {},
   "source": [
    "### Bayes models\n",
    "For the next iteration I changed out the vectorizer for the Tf_idf vectorizer to see if including information regarding document frequency would improve the recall. The model continues to use only the chats as input, since adding in the additional features would not improve model performance. I also tested Complement Bayes to see if it would perform better, as that version of Bayes is intended to help with cases of class imbalance more. The performance was worse than the Multinomial Bayes though, so it is not included in this notebook."
   ]
  },
  {
   "cell_type": "code",
   "execution_count": 26,
   "metadata": {},
   "outputs": [
    {
     "name": "stdout",
     "output_type": "stream",
     "text": [
      "Training Recall: 0.4457721082943108\n",
      "Training Accuracy: 0.8643427458617332\n",
      "Validation Recall:0.915461336112242\n",
      "Validation Accuracy:0.8210321324245374\n"
     ]
    }
   ],
   "source": [
    "#Pipeline for processing and fitting model\n",
    "mnb_tfidf = imbpipeline(steps=[\n",
    "    ('preproc', TfidfVectorizer(lowercase = False, tokenizer = chat_tokenizer)),\n",
    "    ('smote', SMOTE(sampling_strategy = 'minority', random_state = 213)),\n",
    "    ('mnb', MultinomialNB())\n",
    "])\n",
    "\n",
    "#Fits model and prints training score\n",
    "mnb_tfidf.fit(X_train, y_train)\n",
    "preds = mnb_tfidf.predict(X_train)\n",
    "print(\"Training Recall:\", recall_score(preds, y_train))\n",
    "print(\"Training Accuracy:\", mnb_tfidf.score(X_train, y_train))\n",
    "\n",
    "#Cross validates model and prints average result\n",
    "scores = cross_validate(mnb_tfidf, X_train, y_train, cv = 5, scoring = scoring)\n",
    "print(\"Validation Recall:\" + str(np.mean(scores['test_rec'])))\n",
    "print(\"Validation Accuracy:\" + str(np.mean(scores['test_acc'])))"
   ]
  },
  {
   "cell_type": "markdown",
   "metadata": {},
   "source": [
    "Compared to CountVectorizer, Tf_idf performs worse on recall and accuracy, so I stuck with Count Vectorizer for Multinomial Bayes. I then used a GridSearch to tune the parameters of the vectorizer and the tuned model is included below."
   ]
  },
  {
   "cell_type": "code",
   "execution_count": 27,
   "metadata": {},
   "outputs": [
    {
     "name": "stdout",
     "output_type": "stream",
     "text": [
      "Training Recall: 0.5494953832939661\n",
      "Training Accuracy: 0.9084582927620902\n",
      "Validation Recall:0.825469626429447\n",
      "Validation Accuracy:0.8824277831872769\n"
     ]
    }
   ],
   "source": [
    "#Pipeline for processing and fitting model\n",
    "mnb_tuned = imbpipeline(steps=[\n",
    "    ('preproc', CountVectorizer(max_df = .5, lowercase = False, tokenizer = chat_tokenizer)),\n",
    "    ('smote', SMOTE(sampling_strategy = 'minority', random_state = 213)),\n",
    "    ('mnb', MultinomialNB())\n",
    "])\n",
    "\n",
    "#Fits model and prints training score\n",
    "mnb_tuned.fit(X_train, y_train)\n",
    "preds = mnb_tuned.predict(X_train)\n",
    "print(\"Training Recall:\", recall_score(preds, y_train))\n",
    "print(\"Training Accuracy:\", mnb_tuned.score(X_train, y_train))\n",
    "#Cross validates model and prints average result\n",
    "scores = cross_validate(mnb_tuned, X_train, y_train, cv = 5, scoring = scoring)\n",
    "print(\"Validation Recall:\" + str(np.mean(scores['test_rec'])))\n",
    "print(\"Validation Accuracy:\" + str(np.mean(scores['test_acc'])))"
   ]
  },
  {
   "cell_type": "markdown",
   "metadata": {},
   "source": [
    "### Logistic Regression\n",
    "After tuning the Multinomial Bayes model above, there wasn't really any improvement from the baseline. Therefore, I opted to try a different model to see if I could improve my results. The next model I tried was Logistic Regression, as it was another simple model that could run in a reasonable amount of time and works well with text analysis. I added the additional features back in and the untuned model is shown below. The numerical columns are scaled as leaving these unscaled could affect the performance of the logistic regression. I also had to increase the max iterations of the model to ensure that all the cross validation folds would complete."
   ]
  },
  {
   "cell_type": "code",
   "execution_count": 15,
   "metadata": {},
   "outputs": [
    {
     "name": "stdout",
     "output_type": "stream",
     "text": [
      "Training Recall: 0.8368109623170352\n",
      "Training Accuracy: 0.9747484582927621\n",
      "Validation Recall:0.8349547618696036\n",
      "Validation Accuracy:0.9553391755923402\n"
     ]
    }
   ],
   "source": [
    "#Creates a new train test split with the added features\n",
    "y = df['label']\n",
    "X = df[['chats', 'video_id', 'day_night', \n",
    "            'any_emojis', 'cap_ratio', 'offset_percent', 'total_comments']]\n",
    "X_train, X_test, y_train, y_test = train_test_split(X, y, random_state = 213)\n",
    "\n",
    "#Pipeline for processing and fitting model\n",
    "count_vec = ColumnTransformer([\n",
    "    ('cv', CountVectorizer(lowercase = False, tokenizer = chat_tokenizer), 'chats'),\n",
    "    ('ohe', OneHotEncoder(), ['video_id', 'day_night']),\n",
    "    ('ss', StandardScaler(), ['any_emojis', 'cap_ratio', 'offset_percent', 'total_comments'])],\n",
    "    remainder = 'passthrough')\n",
    "\n",
    "logreg = imbpipeline(steps=[\n",
    "    ('preproc', count_vec),\n",
    "    ('smote', SMOTE(sampling_strategy = 'minority', random_state = 213)),\n",
    "    ('lr', LogisticRegression(max_iter = 10000, random_state = 213))\n",
    "])\n",
    "\n",
    "#Fits model and prints training score\n",
    "logreg.fit(X_train, y_train)\n",
    "preds = logreg.predict(X_train)\n",
    "print(\"Training Recall:\", recall_score(preds, y_train))\n",
    "print(\"Training Accuracy:\", logreg.score(X_train, y_train))\n",
    "\n",
    "#Cross validates model and prints average result\n",
    "scores = cross_validate(logreg, X_train, y_train, cv = 5, scoring = scoring)\n",
    "print(\"Validation Recall:\" + str(np.mean(scores['test_rec'])))\n",
    "print(\"Validation Accuracy:\" + str(np.mean(scores['test_acc'])))"
   ]
  },
  {
   "cell_type": "markdown",
   "metadata": {},
   "source": [
    "Compared to the Bayes models, the recall and accuracy of the logistic regression are much higher and more consistent, indicating a better model. The accuracy scores are also fairly close, so there doesn't seem to be much overfitting here. I ran a GridSearch to find the optimal model parameters. As the tuning of logistic regression model resulted in the default metrics being the best, the GridSearch for the vectorizer parameters is included below instead. The tuned model is then ran right after the GridSearch to see the updated results."
   ]
  },
  {
   "cell_type": "code",
   "execution_count": 29,
   "metadata": {},
   "outputs": [
    {
     "data": {
      "text/plain": [
       "{'preproc__cv__lowercase': True,\n",
       " 'preproc__cv__max_df': 0.5,\n",
       " 'preproc__cv__max_features': 8000,\n",
       " 'preproc__cv__ngram_range': (1, 1)}"
      ]
     },
     "execution_count": 29,
     "metadata": {},
     "output_type": "execute_result"
    }
   ],
   "source": [
    "#Creates parameters to test\n",
    "params = {\n",
    "    'preproc__cv__max_features': [None, 4000, 8000],\n",
    "    'preproc__cv__max_df': [.5, .8, 1],\n",
    "    'preproc__cv__ngram_range': [(1,1), (2,2)],\n",
    "    'preproc__cv__lowercase': [False, True]\n",
    "}\n",
    "\n",
    "#Fits gridsearch on model and prints out the best parameters\n",
    "search = GridSearchCV(logreg, param_grid = params, scoring = scoring, cv = 3, refit = 'rec')\n",
    "search.fit(X_train, y_train)\n",
    "search.best_params_"
   ]
  },
  {
   "cell_type": "code",
   "execution_count": 30,
   "metadata": {},
   "outputs": [
    {
     "name": "stdout",
     "output_type": "stream",
     "text": [
      "Training Recall: 0.7988183456839575\n",
      "Training Accuracy: 0.9679844206426484\n",
      "Validation Recall:0.8732520193145404\n",
      "Validation Accuracy:0.9558195391106784\n"
     ]
    }
   ],
   "source": [
    "#Pipeline for processing and fitting model\n",
    "count_vec = ColumnTransformer([\n",
    "    ('cv', CountVectorizer(lowercase = True, max_df = .5, max_features = 8000, tokenizer = chat_tokenizer), 'chats'),\n",
    "    ('ohe', OneHotEncoder(), ['video_id', 'day_night']),\n",
    "    ('ss', StandardScaler(), ['any_emojis', 'cap_ratio', 'offset_percent', 'total_comments'])],\n",
    "    remainder = 'passthrough')\n",
    "\n",
    "logreg_tune = imbpipeline(steps=[\n",
    "    ('preproc', count_vec),\n",
    "    ('smote', SMOTE(sampling_strategy = 'minority', random_state = 213)),\n",
    "    ('lr', LogisticRegression(max_iter = 10000, random_state = 213))\n",
    "])\n",
    "\n",
    "#Fits model and prints training score\n",
    "logreg_tune.fit(X_train, y_train)\n",
    "preds = logreg_tune.predict(X_train)\n",
    "print(\"Training Recall:\", recall_score(preds, y_train))\n",
    "print(\"Training Accuracy:\", logreg_tune.score(X_train, y_train))\n",
    "\n",
    "#Cross validates model and prints average result\n",
    "scores = cross_validate(logreg_tune, X_train, y_train, cv = 5, scoring = scoring)\n",
    "print(\"Validation Recall:\" + str(np.mean(scores['test_rec'])))\n",
    "print(\"Validation Accuracy:\" + str(np.mean(scores['test_acc'])))"
   ]
  },
  {
   "cell_type": "markdown",
   "metadata": {},
   "source": [
    "The results are pretty comparable to the untuned logistic regression. While the accuracy scores are closer, the recall scores are more consistent for the untuned version, so that is the final version I will go with. The assumption test for the logistic regression is included below and it is not met since there is not a linear relationship between the variable and the log-odds.  However, though research this doesn't seem to be uncommon for logistic regression models when used for text analysis, so I am not concerned."
   ]
  },
  {
   "cell_type": "markdown",
   "metadata": {},
   "source": [
    "### Assumption Test"
   ]
  },
  {
   "cell_type": "code",
   "execution_count": 34,
   "metadata": {},
   "outputs": [
    {
     "name": "stderr",
     "output_type": "stream",
     "text": [
      "<ipython-input-34-e5143d9e8a07>:3: RuntimeWarning: divide by zero encountered in true_divide\n",
      "  log_odds = np.log(pred / (1 - pred))\n",
      "<ipython-input-34-e5143d9e8a07>:3: RuntimeWarning: divide by zero encountered in log\n",
      "  log_odds = np.log(pred / (1 - pred))\n"
     ]
    },
    {
     "data": {
      "image/png": "[encoded data removed]",
      "text/plain": [
       "<Figure size 432x288 with 1 Axes>"
      ]
     },
     "metadata": {
      "needs_background": "light"
     },
     "output_type": "display_data"
    }
   ],
   "source": [
    "#Grabs probabilities and calculates log odds\n",
    "pred = logreg.predict_proba(X_train)[:, 0]\n",
    "log_odds = np.log(pred / (1 - pred))\n",
    "#Plots log odds versus continuous variable to check for linearity\n",
    "#Only one variable is tested as assumption is not met\n",
    "plt.scatter(x = X_train['offset_percent'], y = log_odds)\n",
    "plt.xlabel(\"offset_percent\")\n",
    "plt.ylabel(\"Log-odds\")\n",
    "plt.show()"
   ]
  },
  {
   "cell_type": "markdown",
   "metadata": {},
   "source": [
    "### Random Forest Classifier\n",
    "Finally, I tried a random forest classifier to see if an ensemble model would perform better than the logistic regression. I also tuned this model using a GridSearch and the resulting parameters are used below. While the training recall and accuracy of the random forest are better, it seems to overfit more and the recall for the validation set is much worse. As a result, I opted to stick with the untuned logistic regression as my best model."
   ]
  },
  {
   "cell_type": "code",
   "execution_count": 36,
   "metadata": {},
   "outputs": [
    {
     "name": "stdout",
     "output_type": "stream",
     "text": [
      "Training Recall: 0.995819397993311\n",
      "Training Accuracy: 0.998286270691334\n",
      "Validation Recall:0.4155823508358173\n",
      "Validation Accuracy:0.9305679974034404\n"
     ]
    }
   ],
   "source": [
    "#Pipeline for processing and fitting model\n",
    "count_vec = ColumnTransformer([\n",
    "    ('cv', CountVectorizer(lowercase = False, tokenizer = chat_tokenizer), 'chats'),\n",
    "    ('ohe', OneHotEncoder(), ['video_id', 'day_night'])],\n",
    "    remainder = 'passthrough')\n",
    "\n",
    "rfc_tune = imbpipeline(steps=[\n",
    "    ('preproc', count_vec),\n",
    "    ('smote', SMOTE(sampling_strategy = 'minority', random_state = 213)),\n",
    "    ('rf', RandomForestClassifier(min_samples_split = 10, random_state = 213))\n",
    "])\n",
    "\n",
    "#Fits model and prints training score\n",
    "rfc_tune.fit(X_train, y_train)\n",
    "preds = rfc_tune.predict(X_train)\n",
    "print(\"Training Recall:\", recall_score(preds, y_train))\n",
    "print(\"Training Accuracy:\", rfc_tune.score(X_train, y_train))\n",
    "#Cross validates model and prints average result\n",
    "scores = cross_validate(rfc_tune, X_train, y_train, cv = 5, scoring = scoring)\n",
    "print(\"Validation Recall:\" + str(np.mean(scores['test_rec'])))\n",
    "print(\"Validation Accuracy:\" + str(np.mean(scores['test_acc'])))"
   ]
  },
  {
   "cell_type": "markdown",
   "metadata": {},
   "source": [
    "## Evaluation\n",
    "---\n",
    "The main metric used to evaluate this is recall as I wanted to weight the model against false negatives. Since chats are ultimately being flagged for manual review, mislabeling some neutral and positive chats as negative is a fair tradeoff for capturing as many negative chats as possible. The results for the test set are displayed below, with the final model reaching a recall of 76%. The confusion matrix for this model is also printed to get a sense of how well the model does overall."
   ]
  },
  {
   "cell_type": "code",
   "execution_count": 16,
   "metadata": {},
   "outputs": [
    {
     "name": "stdout",
     "output_type": "stream",
     "text": [
      "Test Recall: 0.7553497285212393\n",
      "Test Accuracy: 0.9522492697176241\n"
     ]
    }
   ],
   "source": [
    "#Test results for final model\n",
    "preds = logreg.predict(X_test)\n",
    "print(\"Test Recall:\", recall_score(preds, y_test))\n",
    "print(\"Test Accuracy:\", logreg.score(X_test, y_test))"
   ]
  },
  {
   "cell_type": "code",
   "execution_count": 26,
   "metadata": {},
   "outputs": [
    {
     "data": {
      "image/png": "[encoded data removed]",
      "text/plain": [
       "<Figure size 432x288 with 2 Axes>"
      ]
     },
     "metadata": {
      "needs_background": "light"
     },
     "output_type": "display_data"
    }
   ],
   "source": [
    "#Plts confusion matric for test data\n",
    "cm = confusion_matrix(y_test, preds)\n",
    "cmdis = ConfusionMatrixDisplay(cm)\n",
    "cmdis.plot();"
   ]
  },
  {
   "cell_type": "markdown",
   "metadata": {},
   "source": [
    "The final model overall does fairly well. Due to the recall score and labels coming from VADER, I would recommend implementing the model as a tool for moderators to use to help them sort through chats more efficiently. Therefore, the final model could help flag potential hate comments that would inform moderators faster of potentially problematic chats. Furthermore, the log odds of certain words predicting a negative chat can be drawn out from the model. These can be used to decide what words might be good to add to the chat filter to help improve it."
   ]
  },
  {
   "cell_type": "markdown",
   "metadata": {},
   "source": [
    "## Conclusion\n",
    "---\n",
    "Overall, this model has high potential as a tool to help streamers and moderators identify hate faster. This model can also help strengthen existing filters to make the system more effective. On its own though, the model is still lacking in fully tackling the hate speech problem present on Twitch. Going forward, it would therefore be useful to get more accurate labels for the data to help train a more useable model. It would also be useful to model other languages. Finally, training models for different streaming categories would also be useful, as word contexts change depending on what’s being streamed."
   ]
  },
  {
   "cell_type": "markdown",
   "metadata": {},
   "source": [
    "## References\n",
    "---\n",
    "#### Data:\n",
    "Kim, J. (2019, August 1). Twitch.tv chat log data. Harvard Dataverse. Retrieved November 30, 2021, from https://dataverse.harvard.edu/dataset.xhtml?persistentId=doi%3A10.7910%2FDVN%2FVE0IVQ. \n",
    "\n",
    "#### Sources:\n",
    "Würzburg, K. K. J.-M.-U., Kobs, K., Würzburg, J.-M.-U., Würzburg, A. Z. J.-M.-U., Zehe, A., Würzburg, A. B. J.-M.-U., Bernstetter, A., Würzburg, J. C. J.-M.-U., Chibane, J., Würzburg, J. P. J.-M.-U., Pfister, J., Würzburg, J. T. J.-M.-U., Tritscher, J., Würzburg, A. H. J.-M.-U., Hotho, A., University, S., &amp; Metrics, O. M. V. A. (2020, May 1). Emote-controlled: Obtaining implicit viewer feedback through emote-based sentiment analysis on comments of popular Twitch.tv channels. ACM Transactions on Social Computing. Retrieved November 30, 2021, from https://dl.acm.org/doi/10.1145/3365523. \n",
    "\n",
    "Yosilewitz, A. (2018, August 6). Streamelements analysis on Twitch bullying. Medium. Retrieved November 30, 2021, from https://blog.streamelements.com/streamelements-analysis-on-twitch-bullying-c3f2b2240318. "
   ]
  }
 ],
 "metadata": {
  "kernelspec": {
   "display_name": "Python 3",
   "language": "python",
   "name": "python3"
  },
  "language_info": {
   "codemirror_mode": {
    "name": "ipython",
    "version": 3
   },
   "file_extension": ".py",
   "mimetype": "text/x-python",
   "name": "python",
   "nbconvert_exporter": "python",
   "pygments_lexer": "ipython3",
   "version": "3.8.5"
  }
 },
 "nbformat": 4,
 "nbformat_minor": 4
}

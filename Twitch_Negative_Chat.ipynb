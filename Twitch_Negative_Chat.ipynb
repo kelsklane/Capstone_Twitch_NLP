{
 "cells": [
  {
   "cell_type": "markdown",
   "metadata": {},
   "source": [
    "# Overview\n",
    "---"
   ]
  },
  {
   "cell_type": "markdown",
   "metadata": {},
   "source": [
    "# Technical Overview\n",
    "---"
   ]
  },
  {
   "cell_type": "markdown",
   "metadata": {},
   "source": [
    "Business and data understanding:\n",
    "\n",
    "- what kind of data are you using, and what makes it well-suited for the business problem?\n",
    "- You do not need to include any data visualizations in your summary, but consider including relevant descriptive statistics\n",
    "\n",
    "Data preparation:\n",
    "\n",
    "- why did you choose the data preparation steps that you did, and what was the result?\n",
    "    - This should be specific to the kind of data you are working with. For example, if you are doing an NLP project, what did you decide to do with stopwords?\n",
    "- Be sure to list the packages/libraries used to prepare the data, and why\n",
    "\n",
    "\n",
    "Modeling:\n",
    "\n",
    "- what modeling package(s) did you use, which model(s) within the package(s), and what tuning steps did you take?\n",
    "- For some projects there may be only one applicable package; you should still briefly explain why this was the - appropriate choice\n",
    "\n",
    "Evaluation:\n",
    "\n",
    "- how well did your final model perform?\n",
    "- Include one or more relevant metrics\n",
    "- Be sure to briefly describe your validation approach"
   ]
  },
  {
   "cell_type": "markdown",
   "metadata": {},
   "source": [
    "# Business Understanding\n",
    "---\n",
    "- Trying to make a more advanced filter system for Twitch due to recent hate raids/issues with negativity in general during streams\n",
    "- There's been a recent issue with massive amounts of hate raids happening on Twitch, where random streams get invaded by a bunch of random people that spam the chat with hateful comments. These raiders specifically targeted LGBTQ+ and POC streamers in an attempt to kick them off Twitch. This not only negatively impacts the diversity present on the platform, but more importantly can be extraordinarily stressful and damaging to the streamers that are the targets of these raids. Therefore, putting a better system in place to screen for these comments and preemptively mute them until they can be reviewed can help alleviate this stress.\n",
    "    - https://www.washingtonpost.com/video-games/2021/08/11/twitch-do-better-hate-raids/\n",
    "    - https://blog.streamelements.com/streamelements-analysis-on-twitch-bullying-c3f2b2240318\n",
    "    - https://www.pewresearch.org/internet/2014/10/22/part-1-experiencing-online-harassment/\n",
    "- Applies to Twitch streamers + viewers\n",
    "- Stakeholder: Twitch (Community team? Shared space/user experience team?)\n",
    "- Provide \"cleaner\" chats so better for streamers mental health + viewers (especially if mostly target a young audience, probably want a stricter chat) For the company helps retain diversity as already bad diveristy percentage adn these people tend to be the target of harrassement, diversity good as expands audience and creates open/welcoming space. Also issue of retaining high profile streamers that leave due to lack of support for non-white creators (ie losing Toast who ended up making a bunch of money on Facebook streaming)\n",
    "    - https://help.twitch.tv/s/article/how-to-manage-harassment-in-chat?language=en_US"
   ]
  },
  {
   "cell_type": "markdown",
   "metadata": {},
   "source": [
    "- Real world problem aim to solve\n",
    "- Identify stakeholder and how use\n",
    "- Summarize implications of project for stakeholder/real world"
   ]
  },
  {
   "cell_type": "markdown",
   "metadata": {},
   "source": [
    "# Data Understanding\n",
    "---\n",
    "- Limitation: Some negative tweets not hate, just sad but no distinction in labeling\n",
    "    - - Account for misspellings/spaces in filter system as see these used to circumvent commonly filtered words"
   ]
  },
  {
   "cell_type": "markdown",
   "metadata": {},
   "source": [
    "- Describe source and why suitable for project\n",
    "- Present size of dataset and descriptive statistics\n",
    "- Justify inclusion of features\n",
    "- Any limitations"
   ]
  },
  {
   "cell_type": "markdown",
   "metadata": {},
   "source": [
    "# Data Preparation\n",
    "---\n",
    "- Instructions/code for preparing data\n",
    "- Valid justification for steps\n",
    "- Feature creation"
   ]
  },
  {
   "cell_type": "markdown",
   "metadata": {},
   "source": [
    "# Modeling\n",
    "---\n",
    "- Simple first model\n",
    "- New modles + iterations and justifies them and interprets results\n",
    "- Describe any improvements"
   ]
  },
  {
   "cell_type": "markdown",
   "metadata": {},
   "source": [
    "# Evaluation\n",
    "---\n",
    "- Justify metric choice (Chose recall as want to root out any negative comment)\n",
    "    - Consequence of saying its negative when its not is not bad as can unmute/let comment through\n",
    "- Identify final model\n",
    "- Evaluate model on test set\n",
    "- Discuss implications of final model for real-world problem"
   ]
  },
  {
   "cell_type": "markdown",
   "metadata": {},
   "source": [
    "# Conclusion\n",
    "---"
   ]
  }
 ],
 "metadata": {
  "kernelspec": {
   "display_name": "Python (learn-env)",
   "language": "python",
   "name": "learn-env"
  },
  "language_info": {
   "codemirror_mode": {
    "name": "ipython",
    "version": 3
   },
   "file_extension": ".py",
   "mimetype": "text/x-python",
   "name": "python",
   "nbconvert_exporter": "python",
   "pygments_lexer": "ipython3",
   "version": "3.8.5"
  }
 },
 "nbformat": 4,
 "nbformat_minor": 4
}

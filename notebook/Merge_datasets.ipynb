{
 "cells": [
  {
   "cell_type": "code",
   "execution_count": 1,
   "metadata": {},
   "outputs": [],
   "source": [
    "#Imports\n",
    "import pandas as pd\n",
    "import matplotlib.pyplot as plt\n",
    "import seaborn as sns\n",
    "import numpy as np\n",
    "import nltk"
   ]
  },
  {
   "cell_type": "code",
   "execution_count": 2,
   "metadata": {},
   "outputs": [],
   "source": [
    "#toast = pd.read_pickle('../data/ICWSM19_data/disguisedtoasths.pkl')\n",
    "#dafran = pd.read_pickle('../data/ICWSM19_data/dafran.pkl')\n",
    "kingrichard = pd.read_pickle('../data/ICWSM19_data/kingrichard.pkl')\n",
    "scarra = pd.read_pickle('../data/ICWSM19_data/scarra.pkl')\n",
    "#tsm_hamlinz = pd.read_pickle('../data/ICWSM19_data/tsm_hamlinz.pkl')\n",
    "#tsm_myth = pd.read_pickle('../data/ICWSM19_data/tsm_myth.pkl')\n",
    "xchocobars = pd.read_pickle('../data/ICWSM19_data/xchocobars.pkl')\n",
    "xqcow = pd.read_pickle('../data/ICWSM19_data/xqcow.pkl')"
   ]
  },
  {
   "cell_type": "markdown",
   "metadata": {},
   "source": [
    "# KR smaller videos"
   ]
  },
  {
   "cell_type": "code",
   "execution_count": 3,
   "metadata": {},
   "outputs": [
    {
     "data": {
      "text/plain": [
       "array(['276926280', '276511828', '276112720', '275726764', '275316847',\n",
       "       '274592109', '274216531', '273616046', '271924516', '270929349',\n",
       "       '270674078', '270350156', '270093931', '269938943', '269675573',\n",
       "       '269543679', '267613464', '267229722', '266838054', '266439587',\n",
       "       '266032978', '265418627', '265226178', '264855335', '264485130',\n",
       "       '264114203', '263344861', '262786607'], dtype=object)"
      ]
     },
     "execution_count": 3,
     "metadata": {},
     "output_type": "execute_result"
    }
   ],
   "source": [
    "kingrichard.video_id.unique()"
   ]
  },
  {
   "cell_type": "code",
   "execution_count": 5,
   "metadata": {},
   "outputs": [
    {
     "data": {
      "text/plain": [
       "12047"
      ]
     },
     "execution_count": 5,
     "metadata": {},
     "output_type": "execute_result"
    }
   ],
   "source": [
    "test1 = kingrichard[kingrichard['video_id'] == '264485130']\n",
    "len(test1)"
   ]
  },
  {
   "cell_type": "code",
   "execution_count": 6,
   "metadata": {},
   "outputs": [
    {
     "data": {
      "text/plain": [
       "7191"
      ]
     },
     "execution_count": 6,
     "metadata": {},
     "output_type": "execute_result"
    }
   ],
   "source": [
    "test2 = kingrichard[kingrichard['video_id'] == '269543679']\n",
    "len(test2)"
   ]
  },
  {
   "cell_type": "code",
   "execution_count": 7,
   "metadata": {},
   "outputs": [
    {
     "data": {
      "text/plain": [
       "8973"
      ]
     },
     "execution_count": 7,
     "metadata": {},
     "output_type": "execute_result"
    }
   ],
   "source": [
    "test3 = kingrichard[kingrichard['video_id'] == '270350156']\n",
    "len(test3)"
   ]
  },
  {
   "cell_type": "code",
   "execution_count": 8,
   "metadata": {},
   "outputs": [],
   "source": [
    "kr_short = pd.concat([test1, test2, test3], axis = 0, ignore_index = True)"
   ]
  },
  {
   "cell_type": "code",
   "execution_count": 9,
   "metadata": {},
   "outputs": [
    {
     "data": {
      "text/plain": [
       "28211"
      ]
     },
     "execution_count": 9,
     "metadata": {},
     "output_type": "execute_result"
    }
   ],
   "source": [
    "len(kr_short)"
   ]
  },
  {
   "cell_type": "markdown",
   "metadata": {},
   "source": [
    "# SC smaller"
   ]
  },
  {
   "cell_type": "code",
   "execution_count": 10,
   "metadata": {},
   "outputs": [
    {
     "data": {
      "text/plain": [
       "array(['276871390', '265145608', '276126026', '265494216', '273665972',\n",
       "       '256000010', '275591372', '273290281', '270608898', '275948338',\n",
       "       '277232102', '262534145', '263682474', '274775304', '266981878',\n",
       "       '267821017', '272206088', '270162155', '267422890', '272522549',\n",
       "       '262866347', '264726993', '263229758', '269054231', '269855583',\n",
       "       '264362512', '265885663', '267887160', '268199587', '269400478',\n",
       "       '270966857', '268659666', '276347730', '260269647', '275181618',\n",
       "       '264001539'], dtype=object)"
      ]
     },
     "execution_count": 10,
     "metadata": {},
     "output_type": "execute_result"
    }
   ],
   "source": [
    "scarra.video_id.unique()"
   ]
  },
  {
   "cell_type": "code",
   "execution_count": 13,
   "metadata": {},
   "outputs": [
    {
     "data": {
      "text/plain": [
       "11791"
      ]
     },
     "execution_count": 13,
     "metadata": {},
     "output_type": "execute_result"
    }
   ],
   "source": [
    "test1 = scarra[scarra['video_id'] == '265494216']\n",
    "len(test1)"
   ]
  },
  {
   "cell_type": "code",
   "execution_count": 14,
   "metadata": {},
   "outputs": [
    {
     "data": {
      "text/plain": [
       "16300"
      ]
     },
     "execution_count": 14,
     "metadata": {},
     "output_type": "execute_result"
    }
   ],
   "source": [
    "test2 = scarra[scarra['video_id'] == '262866347']\n",
    "len(test2)"
   ]
  },
  {
   "cell_type": "code",
   "execution_count": 15,
   "metadata": {},
   "outputs": [
    {
     "data": {
      "text/plain": [
       "28091"
      ]
     },
     "execution_count": 15,
     "metadata": {},
     "output_type": "execute_result"
    }
   ],
   "source": [
    "sc_short = pd.concat([test1, test2], axis = 0, ignore_index = True)\n",
    "len(sc_short)"
   ]
  },
  {
   "cell_type": "markdown",
   "metadata": {},
   "source": [
    "# XCB smaller"
   ]
  },
  {
   "cell_type": "code",
   "execution_count": 19,
   "metadata": {},
   "outputs": [
    {
     "data": {
      "text/plain": [
       "array(['273695352', '269063618', '260714060', '272928217', '263653805',\n",
       "       '269427254', '270210427', '272554225', '275596553', '268663172',\n",
       "       '276776971', '274463688', '265544787', '267441261', '275994445',\n",
       "       '267883435', '268411278', '260313080', '265914709', '266324109',\n",
       "       '265140785', '274073677', '272307298', '274938182', '277180226',\n",
       "       '263260087', '262529008', '273313464'], dtype=object)"
      ]
     },
     "execution_count": 19,
     "metadata": {},
     "output_type": "execute_result"
    }
   ],
   "source": [
    "xchocobars.video_id.unique()"
   ]
  },
  {
   "cell_type": "code",
   "execution_count": 27,
   "metadata": {},
   "outputs": [
    {
     "data": {
      "text/plain": [
       "14770"
      ]
     },
     "execution_count": 27,
     "metadata": {},
     "output_type": "execute_result"
    }
   ],
   "source": [
    "test1 = xchocobars[xchocobars['video_id'] == '275994445']\n",
    "len(test1)"
   ]
  },
  {
   "cell_type": "code",
   "execution_count": 36,
   "metadata": {},
   "outputs": [
    {
     "data": {
      "text/plain": [
       "12158"
      ]
     },
     "execution_count": 36,
     "metadata": {},
     "output_type": "execute_result"
    }
   ],
   "source": [
    "test2 = xchocobars[xchocobars['video_id'] == '274073677']\n",
    "len(test2)"
   ]
  },
  {
   "cell_type": "code",
   "execution_count": 37,
   "metadata": {},
   "outputs": [
    {
     "data": {
      "text/plain": [
       "26928"
      ]
     },
     "execution_count": 37,
     "metadata": {},
     "output_type": "execute_result"
    }
   ],
   "source": [
    "cb_short = pd.concat([test1, test2], axis = 0, ignore_index = True)\n",
    "len(cb_short)"
   ]
  },
  {
   "cell_type": "markdown",
   "metadata": {},
   "source": [
    "# xQc smaller"
   ]
  },
  {
   "cell_type": "code",
   "execution_count": 38,
   "metadata": {},
   "outputs": [
    {
     "data": {
      "text/plain": [
       "array(['277097733', '276435378', '275892945', '274534777', '274357758',\n",
       "       '274126179', '273749460', '273353339', '272983188', '272971464',\n",
       "       '271731098', '270484445', '270298976', '269840141', '269367694',\n",
       "       '268930808', '268737446', '268173015', '267979155', '267439886',\n",
       "       '266949532', '266807790', '265041320', '264862228', '264272646',\n",
       "       '263960192', '263718552', '263320813', '262825910', '262437389',\n",
       "       '260693531', '260322780', '253780433'], dtype=object)"
      ]
     },
     "execution_count": 38,
     "metadata": {},
     "output_type": "execute_result"
    }
   ],
   "source": [
    "xqcow.video_id.unique()"
   ]
  },
  {
   "cell_type": "code",
   "execution_count": 42,
   "metadata": {},
   "outputs": [
    {
     "data": {
      "text/plain": [
       "14900"
      ]
     },
     "execution_count": 42,
     "metadata": {},
     "output_type": "execute_result"
    }
   ],
   "source": [
    "test1 = xqcow[xqcow['video_id'] == '272971464']\n",
    "len(test1)"
   ]
  },
  {
   "cell_type": "code",
   "execution_count": 58,
   "metadata": {},
   "outputs": [
    {
     "data": {
      "text/plain": [
       "10468"
      ]
     },
     "execution_count": 58,
     "metadata": {},
     "output_type": "execute_result"
    }
   ],
   "source": [
    "test2 = xqcow[xqcow['video_id'] == '273749460']\n",
    "len(test2)"
   ]
  },
  {
   "cell_type": "code",
   "execution_count": 59,
   "metadata": {},
   "outputs": [
    {
     "data": {
      "text/plain": [
       "25368"
      ]
     },
     "execution_count": 59,
     "metadata": {},
     "output_type": "execute_result"
    }
   ],
   "source": [
    "xq_short = pd.concat([test1, test2], axis = 0, ignore_index = True)\n",
    "len(xq_short)"
   ]
  },
  {
   "cell_type": "markdown",
   "metadata": {},
   "source": [
    "# Making final df"
   ]
  },
  {
   "cell_type": "code",
   "execution_count": 60,
   "metadata": {},
   "outputs": [],
   "source": [
    "dfs = [kr_short, sc_short, cb_short, xq_short]\n",
    "final_df = pd.concat(dfs, axis = 0, ignore_index = True)"
   ]
  },
  {
   "cell_type": "markdown",
   "metadata": {},
   "source": [
    "- Drop commenter type as only one value left in it (Got rid of admins/staff)\n",
    "- Get rid of any edited chats (TO DO) then drop updated_at\n",
    "    - OR drop updated_at but make new replacement column that marks if edited\n",
    "- Use fragments to replace text so only text and break out emoticons to seperate column"
   ]
  },
  {
   "cell_type": "code",
   "execution_count": 62,
   "metadata": {},
   "outputs": [
    {
     "data": {
      "text/plain": [
       "Index(['body', 'channel_id', 'commenter_id', 'commenter_type', 'created_at',\n",
       "       'fragments', 'offset', 'updated_at', 'video_id'],\n",
       "      dtype='object')"
      ]
     },
     "execution_count": 62,
     "metadata": {},
     "output_type": "execute_result"
    }
   ],
   "source": [
    "final_df.columns"
   ]
  },
  {
   "cell_type": "markdown",
   "metadata": {},
   "source": [
    "Find only users and drop admin/staff comments"
   ]
  },
  {
   "cell_type": "code",
   "execution_count": 63,
   "metadata": {},
   "outputs": [],
   "source": [
    "df = final_df[final_df.commenter_type == 'user']"
   ]
  },
  {
   "cell_type": "code",
   "execution_count": 64,
   "metadata": {},
   "outputs": [],
   "source": [
    "df = df.drop('commenter_type', axis = 1)"
   ]
  },
  {
   "cell_type": "markdown",
   "metadata": {},
   "source": [
    "Drop any edited Twitch chats (can't tell if commentor or mod edited)"
   ]
  },
  {
   "cell_type": "code",
   "execution_count": 65,
   "metadata": {},
   "outputs": [],
   "source": [
    "df['created_at'] = pd.to_datetime(df['created_at'])\n",
    "df['updated_at'] = pd.to_datetime(df['updated_at'])"
   ]
  },
  {
   "cell_type": "code",
   "execution_count": 66,
   "metadata": {},
   "outputs": [],
   "source": [
    "df['edited'] = df.apply(lambda row: row.updated_at - row.created_at, axis=1)"
   ]
  },
  {
   "cell_type": "code",
   "execution_count": 67,
   "metadata": {},
   "outputs": [],
   "source": [
    "no_edits = df[df['edited'] == pd.Timedelta(\"0 days 00:00:00\")]"
   ]
  },
  {
   "cell_type": "markdown",
   "metadata": {},
   "source": [
    "Replace text with non-emoticon one"
   ]
  },
  {
   "cell_type": "code",
   "execution_count": 68,
   "metadata": {},
   "outputs": [
    {
     "data": {
      "text/plain": [
       "[{'emoticon_id': '115846'},\n",
       " {'text': ' '},\n",
       " {'emoticon_id': '115846'},\n",
       " {'text': ' '},\n",
       " {'emoticon_id': '115846'}]"
      ]
     },
     "execution_count": 68,
     "metadata": {},
     "output_type": "execute_result"
    }
   ],
   "source": [
    "test = no_edits.iloc[2355]\n",
    "test.fragments"
   ]
  },
  {
   "cell_type": "code",
   "execution_count": 69,
   "metadata": {},
   "outputs": [
    {
     "name": "stdout",
     "output_type": "stream",
     "text": [
      " \n",
      " \n"
     ]
    }
   ],
   "source": [
    "for d in test.fragments:\n",
    "    if 'text' in d.keys():\n",
    "        items = list(d.items())\n",
    "        print(items[0][1])"
   ]
  },
  {
   "cell_type": "code",
   "execution_count": 70,
   "metadata": {},
   "outputs": [],
   "source": [
    "def replace_text(fragments):\n",
    "    twitch_chat = ''\n",
    "    for d in fragments:\n",
    "        if 'text' in d.keys():\n",
    "            if len(twitch_chat) == 0:\n",
    "                items = list(d.items())\n",
    "                twitch_chat = items[0][1]\n",
    "            else:\n",
    "                items = list(d.items())\n",
    "                twitch_chat = twitch_chat + ' ' + items[0][1]\n",
    "    return twitch_chat"
   ]
  },
  {
   "cell_type": "code",
   "execution_count": 71,
   "metadata": {},
   "outputs": [],
   "source": [
    "no_edits['twitch_chat'] = no_edits['fragments'].apply(replace_text)"
   ]
  },
  {
   "cell_type": "markdown",
   "metadata": {},
   "source": [
    "Break emoticons out into a list in their own column"
   ]
  },
  {
   "cell_type": "code",
   "execution_count": 72,
   "metadata": {},
   "outputs": [],
   "source": [
    "def emoticon_list(fragments):\n",
    "    emotes = []\n",
    "    for d in fragments:\n",
    "        if 'emoticon_id' in d.keys():\n",
    "            items = list(d.items())\n",
    "            emotes.append(items[0][1])\n",
    "    if emotes == []:\n",
    "        return ['None']\n",
    "    return emotes"
   ]
  },
  {
   "cell_type": "code",
   "execution_count": 73,
   "metadata": {},
   "outputs": [],
   "source": [
    "no_edits['emotes'] = no_edits['fragments'].apply(emoticon_list)"
   ]
  },
  {
   "cell_type": "markdown",
   "metadata": {},
   "source": [
    "Get rid of any rows that are chat commands (start w/ !)"
   ]
  },
  {
   "cell_type": "code",
   "execution_count": 74,
   "metadata": {},
   "outputs": [
    {
     "data": {
      "text/plain": [
       "'START IT'"
      ]
     },
     "execution_count": 74,
     "metadata": {},
     "output_type": "execute_result"
    }
   ],
   "source": [
    "test = no_edits.iloc[344]\n",
    "test.twitch_chat"
   ]
  },
  {
   "cell_type": "code",
   "execution_count": 75,
   "metadata": {},
   "outputs": [],
   "source": [
    "command = no_edits['twitch_chat'].str.startswith('!')  \n",
    "no_edits = no_edits[~command].reset_index(drop=True)"
   ]
  },
  {
   "cell_type": "code",
   "execution_count": 76,
   "metadata": {},
   "outputs": [],
   "source": [
    "no_edits = no_edits.drop(['body', 'fragments', 'updated_at', 'edited'], axis = 1)"
   ]
  },
  {
   "cell_type": "markdown",
   "metadata": {},
   "source": [
    "Check for duplicates and nulls"
   ]
  },
  {
   "cell_type": "code",
   "execution_count": 77,
   "metadata": {},
   "outputs": [
    {
     "data": {
      "text/plain": [
       "channel_id      0\n",
       "commenter_id    0\n",
       "created_at      0\n",
       "offset          0\n",
       "video_id        0\n",
       "twitch_chat     0\n",
       "emotes          0\n",
       "dtype: int64"
      ]
     },
     "execution_count": 77,
     "metadata": {},
     "output_type": "execute_result"
    }
   ],
   "source": [
    "no_edits.isna().sum()"
   ]
  },
  {
   "cell_type": "code",
   "execution_count": 78,
   "metadata": {},
   "outputs": [],
   "source": [
    "um = no_edits.copy()"
   ]
  },
  {
   "cell_type": "code",
   "execution_count": 79,
   "metadata": {},
   "outputs": [],
   "source": [
    "um = um.drop('emotes', axis = 1)"
   ]
  },
  {
   "cell_type": "code",
   "execution_count": 80,
   "metadata": {},
   "outputs": [
    {
     "data": {
      "text/plain": [
       "0"
      ]
     },
     "execution_count": 80,
     "metadata": {},
     "output_type": "execute_result"
    }
   ],
   "source": [
    "um.duplicated().sum()"
   ]
  },
  {
   "cell_type": "code",
   "execution_count": 81,
   "metadata": {},
   "outputs": [
    {
     "data": {
      "text/plain": [
       "Index(['channel_id', 'commenter_id', 'created_at', 'offset', 'video_id',\n",
       "       'twitch_chat', 'emotes'],\n",
       "      dtype='object')"
      ]
     },
     "execution_count": 81,
     "metadata": {},
     "output_type": "execute_result"
    }
   ],
   "source": [
    "no_edits.columns"
   ]
  },
  {
   "cell_type": "code",
   "execution_count": 82,
   "metadata": {},
   "outputs": [
    {
     "data": {
      "text/html": [
       "<div>\n",
       "<style scoped>\n",
       "    .dataframe tbody tr th:only-of-type {\n",
       "        vertical-align: middle;\n",
       "    }\n",
       "\n",
       "    .dataframe tbody tr th {\n",
       "        vertical-align: top;\n",
       "    }\n",
       "\n",
       "    .dataframe thead th {\n",
       "        text-align: right;\n",
       "    }\n",
       "</style>\n",
       "<table border=\"1\" class=\"dataframe\">\n",
       "  <thead>\n",
       "    <tr style=\"text-align: right;\">\n",
       "      <th></th>\n",
       "      <th>channel_id</th>\n",
       "      <th>commenter_id</th>\n",
       "      <th>created_at</th>\n",
       "      <th>offset</th>\n",
       "      <th>video_id</th>\n",
       "      <th>twitch_chat</th>\n",
       "      <th>emotes</th>\n",
       "    </tr>\n",
       "  </thead>\n",
       "  <tbody>\n",
       "    <tr>\n",
       "      <th>0</th>\n",
       "      <td>66691674</td>\n",
       "      <td>147879911</td>\n",
       "      <td>2018-05-23 03:08:19.137000+00:00</td>\n",
       "      <td>10.337</td>\n",
       "      <td>264485130</td>\n",
       "      <td>wazupp</td>\n",
       "      <td>[None]</td>\n",
       "    </tr>\n",
       "    <tr>\n",
       "      <th>1</th>\n",
       "      <td>66691674</td>\n",
       "      <td>224598352</td>\n",
       "      <td>2018-05-23 03:08:22.299000+00:00</td>\n",
       "      <td>13.499</td>\n",
       "      <td>264485130</td>\n",
       "      <td>Yo</td>\n",
       "      <td>[None]</td>\n",
       "    </tr>\n",
       "    <tr>\n",
       "      <th>2</th>\n",
       "      <td>66691674</td>\n",
       "      <td>184337096</td>\n",
       "      <td>2018-05-23 03:08:24.780000+00:00</td>\n",
       "      <td>15.980</td>\n",
       "      <td>264485130</td>\n",
       "      <td>What up</td>\n",
       "      <td>[None]</td>\n",
       "    </tr>\n",
       "    <tr>\n",
       "      <th>3</th>\n",
       "      <td>66691674</td>\n",
       "      <td>182777162</td>\n",
       "      <td>2018-05-23 03:08:30.072000+00:00</td>\n",
       "      <td>21.272</td>\n",
       "      <td>264485130</td>\n",
       "      <td>yes!!!</td>\n",
       "      <td>[None]</td>\n",
       "    </tr>\n",
       "    <tr>\n",
       "      <th>4</th>\n",
       "      <td>66691674</td>\n",
       "      <td>225109124</td>\n",
       "      <td>2018-05-23 03:08:32.427000+00:00</td>\n",
       "      <td>23.627</td>\n",
       "      <td>264485130</td>\n",
       "      <td>Wassgud</td>\n",
       "      <td>[None]</td>\n",
       "    </tr>\n",
       "    <tr>\n",
       "      <th>...</th>\n",
       "      <td>...</td>\n",
       "      <td>...</td>\n",
       "      <td>...</td>\n",
       "      <td>...</td>\n",
       "      <td>...</td>\n",
       "      <td>...</td>\n",
       "      <td>...</td>\n",
       "    </tr>\n",
       "    <tr>\n",
       "      <th>106254</th>\n",
       "      <td>71092938</td>\n",
       "      <td>30650660</td>\n",
       "      <td>2018-06-16 02:23:50.439000+00:00</td>\n",
       "      <td>4472.739</td>\n",
       "      <td>273749460</td>\n",
       "      <td>F</td>\n",
       "      <td>[None]</td>\n",
       "    </tr>\n",
       "    <tr>\n",
       "      <th>106255</th>\n",
       "      <td>71092938</td>\n",
       "      <td>150039008</td>\n",
       "      <td>2018-06-16 02:23:50.487000+00:00</td>\n",
       "      <td>4472.787</td>\n",
       "      <td>273749460</td>\n",
       "      <td>f</td>\n",
       "      <td>[None]</td>\n",
       "    </tr>\n",
       "    <tr>\n",
       "      <th>106256</th>\n",
       "      <td>71092938</td>\n",
       "      <td>180514940</td>\n",
       "      <td>2018-06-16 02:23:50.523000+00:00</td>\n",
       "      <td>4472.823</td>\n",
       "      <td>273749460</td>\n",
       "      <td>f</td>\n",
       "      <td>[None]</td>\n",
       "    </tr>\n",
       "    <tr>\n",
       "      <th>106257</th>\n",
       "      <td>71092938</td>\n",
       "      <td>43836580</td>\n",
       "      <td>2018-06-16 02:23:50.537000+00:00</td>\n",
       "      <td>4472.837</td>\n",
       "      <td>273749460</td>\n",
       "      <td>F</td>\n",
       "      <td>[None]</td>\n",
       "    </tr>\n",
       "    <tr>\n",
       "      <th>106258</th>\n",
       "      <td>71092938</td>\n",
       "      <td>182073466</td>\n",
       "      <td>2018-06-16 02:23:50.604000+00:00</td>\n",
       "      <td>4472.904</td>\n",
       "      <td>273749460</td>\n",
       "      <td>F</td>\n",
       "      <td>[None]</td>\n",
       "    </tr>\n",
       "  </tbody>\n",
       "</table>\n",
       "<p>106259 rows × 7 columns</p>\n",
       "</div>"
      ],
      "text/plain": [
       "       channel_id commenter_id                       created_at    offset  \\\n",
       "0        66691674    147879911 2018-05-23 03:08:19.137000+00:00    10.337   \n",
       "1        66691674    224598352 2018-05-23 03:08:22.299000+00:00    13.499   \n",
       "2        66691674    184337096 2018-05-23 03:08:24.780000+00:00    15.980   \n",
       "3        66691674    182777162 2018-05-23 03:08:30.072000+00:00    21.272   \n",
       "4        66691674    225109124 2018-05-23 03:08:32.427000+00:00    23.627   \n",
       "...           ...          ...                              ...       ...   \n",
       "106254   71092938     30650660 2018-06-16 02:23:50.439000+00:00  4472.739   \n",
       "106255   71092938    150039008 2018-06-16 02:23:50.487000+00:00  4472.787   \n",
       "106256   71092938    180514940 2018-06-16 02:23:50.523000+00:00  4472.823   \n",
       "106257   71092938     43836580 2018-06-16 02:23:50.537000+00:00  4472.837   \n",
       "106258   71092938    182073466 2018-06-16 02:23:50.604000+00:00  4472.904   \n",
       "\n",
       "         video_id twitch_chat  emotes  \n",
       "0       264485130      wazupp  [None]  \n",
       "1       264485130          Yo  [None]  \n",
       "2       264485130     What up  [None]  \n",
       "3       264485130      yes!!!  [None]  \n",
       "4       264485130     Wassgud  [None]  \n",
       "...           ...         ...     ...  \n",
       "106254  273749460           F  [None]  \n",
       "106255  273749460           f  [None]  \n",
       "106256  273749460           f  [None]  \n",
       "106257  273749460           F  [None]  \n",
       "106258  273749460           F  [None]  \n",
       "\n",
       "[106259 rows x 7 columns]"
      ]
     },
     "execution_count": 82,
     "metadata": {},
     "output_type": "execute_result"
    }
   ],
   "source": [
    "no_edits"
   ]
  },
  {
   "cell_type": "code",
   "execution_count": 83,
   "metadata": {},
   "outputs": [],
   "source": [
    "no_edits.to_csv('../data/small_merged_chats', index = False)"
   ]
  },
  {
   "cell_type": "code",
   "execution_count": null,
   "metadata": {},
   "outputs": [],
   "source": []
  }
 ],
 "metadata": {
  "kernelspec": {
   "display_name": "Python (learn-env)",
   "language": "python",
   "name": "learn-env"
  },
  "language_info": {
   "codemirror_mode": {
    "name": "ipython",
    "version": 3
   },
   "file_extension": ".py",
   "mimetype": "text/x-python",
   "name": "python",
   "nbconvert_exporter": "python",
   "pygments_lexer": "ipython3",
   "version": "3.8.5"
  }
 },
 "nbformat": 4,
 "nbformat_minor": 4
}

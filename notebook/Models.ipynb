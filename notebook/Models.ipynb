{
 "cells": [
  {
   "cell_type": "code",
   "execution_count": 1,
   "metadata": {},
   "outputs": [],
   "source": [
    "#Imports\n",
    "from textblob import TextBlob\n",
    "import string\n",
    "import pandas as pd\n",
    "import numpy as np\n",
    "import matplotlib.pyplot as plt\n",
    "import seaborn as sns\n",
    "import nltk\n",
    "import re\n",
    "from nltk.tokenize import TweetTokenizer\n",
    "from nltk.corpus import stopwords, wordnet\n",
    "from nltk import pos_tag\n",
    "from nltk.stem import WordNetLemmatizer\n",
    "from sklearn.model_selection import train_test_split, cross_val_score\n",
    "from sklearn.tree import DecisionTreeClassifier\n",
    "from imblearn.pipeline import Pipeline as imbpipeline\n",
    "from sklearn.compose import ColumnTransformer\n",
    "from sklearn.preprocessing import OneHotEncoder\n",
    "from imblearn.over_sampling import SMOTE\n",
    "from sklearn.naive_bayes import MultinomialNB\n",
    "from sklearn.feature_extraction.text import CountVectorizer, TfidfVectorizer\n",
    "from sklearn.model_selection import GridSearchCV\n",
    "\n",
    "df = pd.read_csv('../data/small_merged_chats')\n",
    "sw = stopwords.words('english')"
   ]
  },
  {
   "cell_type": "markdown",
   "metadata": {},
   "source": [
    "# Assign Labels"
   ]
  },
  {
   "cell_type": "code",
   "execution_count": 2,
   "metadata": {},
   "outputs": [],
   "source": [
    "from nltk.sentiment.vader import SentimentIntensityAnalyzer\n",
    "\n",
    "vad = SentimentIntensityAnalyzer()"
   ]
  },
  {
   "cell_type": "code",
   "execution_count": 3,
   "metadata": {},
   "outputs": [],
   "source": [
    "df = df.dropna(subset = ['body'])"
   ]
  },
  {
   "cell_type": "markdown",
   "metadata": {},
   "source": [
    "### Clean up messages first"
   ]
  },
  {
   "cell_type": "code",
   "execution_count": 4,
   "metadata": {},
   "outputs": [],
   "source": [
    "#Get rid of chats with links (often promo)\n",
    "def ad(chat):\n",
    "    result = False\n",
    "    result = bool(re.search(r'www\\.[a-z]?\\.?(com)+|[a-z]+\\.(com)', chat))\n",
    "    result = bool(re.search(r'http\\S+', chat))\n",
    "    return result\n",
    "\n",
    "df['is_ad'] = df['body'].apply(ad)\n",
    "\n",
    "df = df[df['is_ad'] == False]"
   ]
  },
  {
   "cell_type": "code",
   "execution_count": 5,
   "metadata": {},
   "outputs": [],
   "source": [
    "#change popular emojis to one type so no variants\n",
    "def emoji_shorten(chat):\n",
    "    chat = re.sub(r'(?i) \\bpog(\\w)*\\b |\\bpog(\\w)*\\b', '', chat)\n",
    "    chat = re.sub(r'(?i) \\blul(\\w)*\\b |\\blul(\\w)*\\b', '', chat)\n",
    "    chat = re.sub(r'(?i) \\bkappa(\\w)*\\b |\\bkappa(\\w)*\\b', '', chat)\n",
    "    return chat"
   ]
  },
  {
   "cell_type": "code",
   "execution_count": 6,
   "metadata": {},
   "outputs": [],
   "source": [
    "df['chats'] = df.body.apply(lambda x: emoji_shorten(x))"
   ]
  },
  {
   "cell_type": "code",
   "execution_count": 7,
   "metadata": {},
   "outputs": [],
   "source": [
    "df = df.drop(['is_ad'], axis = 1)"
   ]
  },
  {
   "cell_type": "code",
   "execution_count": 8,
   "metadata": {},
   "outputs": [],
   "source": [
    "#Words to add to VADER\n",
    "# EMOTES: https://dl.acm.org/doi/10.1145/3365523\n",
    "new_words = {\n",
    "    'noice': 1.8,\n",
    "    'scum': -2.0,\n",
    "    'kap': 0.5,\n",
    "    'kappa': 0.5,\n",
    "    'lul': 1.8,\n",
    "    'omegalol': 1.8,\n",
    "    'strats': 2.0,\n",
    "    'rekt': 0,\n",
    "    'owo': 1.0,\n",
    "    'tweaker': -2.3,\n",
    "    'pog': 2.8,\n",
    "    'pag': 2.8,\n",
    "    'incel': -3.1,\n",
    "    'tilted': -0.7,\n",
    "    'feelsbadman': -2.6,\n",
    "    'feelsgoodman': 3.7,\n",
    "    'trash': -2.0,\n",
    "    'rip': -1.2,\n",
    "    'ez': 1.9,\n",
    "    'clap': 2.7,\n",
    "    'hyperbruh': -0.6,\n",
    "    'f': 0.5,\n",
    "    'F': 0.5,\n",
    "    'discord': 0,\n",
    "    'PJSalt': -1.2,\n",
    "    'Kreygasm': 2.8,\n",
    "    'kreygasm': 2.8,\n",
    "    'homo': -3.5,\n",
    "    'clip': 0.5,\n",
    "    'rAcIsM': -3.1,\n",
    "    'based': 2.0,\n",
    "    'Based': 2.0,\n",
    "    'PepeHands': -1.7,\n",
    "    'WutFace': -1.7,\n",
    "    'FailFish': -2.0,\n",
    "    'BabyRage': -1.6,\n",
    "    'ANELE': -0.8,\n",
    "    'haHAA': -0.5,\n",
    "    'ResidentSleeper': -1.2,\n",
    "    'cmonBruh': -1.0\n",
    "}\n",
    "\n",
    "vad.lexicon.update(new_words)"
   ]
  },
  {
   "cell_type": "code",
   "execution_count": 101,
   "metadata": {},
   "outputs": [
    {
     "name": "stdout",
     "output_type": "stream",
     "text": [
      "yes\n"
     ]
    }
   ],
   "source": [
    "if 'gang' in not_in_vocab:\n",
    "    print('yes')"
   ]
  },
  {
   "cell_type": "code",
   "execution_count": 104,
   "metadata": {},
   "outputs": [
    {
     "ename": "KeyError",
     "evalue": "'notification'",
     "output_type": "error",
     "traceback": [
      "\u001b[0;31m---------------------------------------------------------------------------\u001b[0m",
      "\u001b[0;31mKeyError\u001b[0m                                  Traceback (most recent call last)",
      "\u001b[0;32m<ipython-input-104-1a34c4b917e3>\u001b[0m in \u001b[0;36m<module>\u001b[0;34m\u001b[0m\n\u001b[0;32m----> 1\u001b[0;31m \u001b[0mvad\u001b[0m\u001b[0;34m.\u001b[0m\u001b[0mlexicon\u001b[0m\u001b[0;34m[\u001b[0m\u001b[0;34m'notification'\u001b[0m\u001b[0;34m]\u001b[0m\u001b[0;34m\u001b[0m\u001b[0;34m\u001b[0m\u001b[0m\n\u001b[0m",
      "\u001b[0;31mKeyError\u001b[0m: 'notification'"
     ]
    }
   ],
   "source": [
    "vad.lexicon['notification']"
   ]
  },
  {
   "cell_type": "code",
   "execution_count": 78,
   "metadata": {},
   "outputs": [],
   "source": [
    "tt = TweetTokenizer()\n",
    "all_words = []\n",
    "for chat in df['chats']:\n",
    "    all_words.extend(tt.tokenize(chat))"
   ]
  },
  {
   "cell_type": "code",
   "execution_count": 79,
   "metadata": {},
   "outputs": [],
   "source": [
    "vocab = set(all_words)\n",
    "not_in_vocab = []\n",
    "for word in vocab:\n",
    "    if word in vad.lexicon:\n",
    "        continue\n",
    "    else:\n",
    "        not_in_vocab.append(word)"
   ]
  },
  {
   "cell_type": "code",
   "execution_count": 80,
   "metadata": {},
   "outputs": [
    {
     "data": {
      "text/plain": [
       "34352"
      ]
     },
     "execution_count": 80,
     "metadata": {},
     "output_type": "execute_result"
    }
   ],
   "source": [
    "len(not_in_vocab)"
   ]
  },
  {
   "cell_type": "code",
   "execution_count": 160,
   "metadata": {},
   "outputs": [],
   "source": [
    "not_in_vocab"
   ]
  },
  {
   "cell_type": "markdown",
   "metadata": {},
   "source": [
    "### Assign the labels here"
   ]
  },
  {
   "cell_type": "code",
   "execution_count": 9,
   "metadata": {},
   "outputs": [],
   "source": [
    "positive = 0\n",
    "negative = 0\n",
    "neutral = 0\n",
    "polarity = 0\n",
    "neutral_list = []\n",
    "negative_list = []\n",
    "positive_list = []\n",
    "for chat in df.chats:\n",
    "    analysis = TextBlob(chat)\n",
    "    vad = SentimentIntensityAnalyzer()\n",
    "    vad.lexicon.update(new_words)\n",
    "    score = vad.polarity_scores(chat)\n",
    "    neg = score['neg']\n",
    "    neu = score['neu']\n",
    "    pos = score['pos']\n",
    "    comp = score['compound']\n",
    "    polarity += analysis.sentiment.polarity\n",
    " \n",
    "    if neg > pos:\n",
    "        negative_list.append(chat)\n",
    "        negative += 1\n",
    "    elif pos > neg:\n",
    "        positive_list.append(chat)\n",
    "        positive += 1\n",
    " \n",
    "    elif pos == neg:\n",
    "        neutral_list.append(chat)\n",
    "        neutral += 1"
   ]
  },
  {
   "cell_type": "code",
   "execution_count": 108,
   "metadata": {},
   "outputs": [
    {
     "name": "stdout",
     "output_type": "stream",
     "text": [
      "68112\n",
      "11585\n",
      "22786\n"
     ]
    }
   ],
   "source": [
    "print(len(neutral_list))\n",
    "print(len(negative_list))\n",
    "print(len(positive_list))"
   ]
  },
  {
   "cell_type": "code",
   "execution_count": 161,
   "metadata": {},
   "outputs": [],
   "source": [
    "negative_list"
   ]
  },
  {
   "cell_type": "markdown",
   "metadata": {},
   "source": [
    "# Add labels to dataset"
   ]
  },
  {
   "cell_type": "code",
   "execution_count": 10,
   "metadata": {},
   "outputs": [],
   "source": [
    "df[\"label\"] = np.where(df[\"chats\"].isin(negative_list), 1, 0)"
   ]
  },
  {
   "cell_type": "markdown",
   "metadata": {},
   "source": [
    "# Cleaning chats for model"
   ]
  },
  {
   "cell_type": "code",
   "execution_count": 11,
   "metadata": {},
   "outputs": [],
   "source": [
    "#Functions to tokenize text\n",
    "from nltk.stem.snowball import SnowballStemmer\n",
    "\n",
    "#Replaces pos tags with lemmatize compatable tags\n",
    "def pos_replace(treebank_tag):\n",
    "    if treebank_tag.startswith('J'):\n",
    "        return wordnet.ADJ\n",
    "    elif treebank_tag.startswith('V'):\n",
    "        return wordnet.VERB\n",
    "    elif treebank_tag.startswith('N'):\n",
    "        return wordnet.NOUN\n",
    "    elif treebank_tag.startswith('R'):\n",
    "        return wordnet.ADV\n",
    "    else:\n",
    "        return wordnet.NOUN\n",
    "    \n",
    "#Makes list of punctuation to exclude, keeps certain symbols\n",
    "punct = list(string.punctuation)\n",
    "keep_punct = ['?', '!', '@', ',', '.']\n",
    "punct = [p for p in punct if p not in keep_punct]\n",
    "\n",
    "#Removes non-ASCII characters (aka emojis that cant be converted to original symbol)\n",
    "def remove_junk(tweet):\n",
    "    return ''.join([i if ord(i) < 128 else ' ' for i in tweet])\n",
    "    \n",
    "\"\"\"\n",
    "Try handling misspellings?\n",
    "True reduce_len = True\n",
    "\"\"\"\n",
    "\n",
    "def chat_tokenizer(doc, stop_words = sw):\n",
    "    #Any regex needed\n",
    "    doc = re.sub(r'http\\S+', '', doc)\n",
    "    #Gets rid of weird characters\n",
    "    doc = remove_junk(doc)\n",
    "    #Tokenizes using NLTK Twitter Tokenizer as similar to tweets\n",
    "    chat_token = TweetTokenizer(strip_handles = True)\n",
    "    doc = chat_token.tokenize(doc)\n",
    "    #Gets rid of numbers\n",
    "#     doc_2 = []\n",
    "#     for w in doc:\n",
    "#         if any([c.isdigit() for c in w]):\n",
    "#             pass\n",
    "#         else:\n",
    "#             doc_2.append(w)\n",
    "    #Gets rid of leftover stopwords/punctuation\n",
    "    #doc = [w for w in doc if w.lower() not in sw]\n",
    "    doc = [w for w in doc if w not in punct]\n",
    "    #Stemmer\n",
    "#     snows = SnowballStemmer('english')\n",
    "#     doc = [snows.stem(w) for w in doc]\n",
    "    #Lemmatizes tokens\n",
    "    doc = pos_tag(doc)\n",
    "    doc = [(w[0], pos_replace(w[1])) for w in doc]\n",
    "    lemmatizer = WordNetLemmatizer() \n",
    "    doc = [lemmatizer.lemmatize(word[0], word[1]) for word in doc]\n",
    "    \n",
    "    return doc"
   ]
  },
  {
   "cell_type": "markdown",
   "metadata": {},
   "source": [
    "# Data Exploration"
   ]
  },
  {
   "cell_type": "code",
   "execution_count": 12,
   "metadata": {},
   "outputs": [
    {
     "name": "stderr",
     "output_type": "stream",
     "text": [
      "<ipython-input-12-e30479c4c8b0>:3: SettingWithCopyWarning: \n",
      "A value is trying to be set on a copy of a slice from a DataFrame.\n",
      "Try using .loc[row_indexer,col_indexer] = value instead\n",
      "\n",
      "See the caveats in the documentation: https://pandas.pydata.org/pandas-docs/stable/user_guide/indexing.html#returning-a-view-versus-a-copy\n",
      "  one_vid['time'] = one_vid['offset'] // 60\n"
     ]
    },
    {
     "data": {
      "text/plain": [
       "<AxesSubplot:xlabel='time'>"
      ]
     },
     "execution_count": 12,
     "metadata": {},
     "output_type": "execute_result"
    },
    {
     "data": {
      "image/png": "[encoded data removed]",
      "text/plain": [
       "<Figure size 432x288 with 1 Axes>"
      ]
     },
     "metadata": {
      "needs_background": "light"
     },
     "output_type": "display_data"
    }
   ],
   "source": [
    "#Graphing hate over course of a single stream\n",
    "one_vid = df[df['video_id'] == 262866347]\n",
    "one_vid['time'] = one_vid['offset'] // 60\n",
    "graph = one_vid.groupby('time')['label'].sum()\n",
    "graph.plot()"
   ]
  },
  {
   "cell_type": "code",
   "execution_count": 116,
   "metadata": {},
   "outputs": [
    {
     "ename": "KeyError",
     "evalue": "'day_night'",
     "output_type": "error",
     "traceback": [
      "\u001b[0;31m---------------------------------------------------------------------------\u001b[0m",
      "\u001b[0;31mKeyError\u001b[0m                                  Traceback (most recent call last)",
      "\u001b[0;32m<ipython-input-116-263086913176>\u001b[0m in \u001b[0;36m<module>\u001b[0;34m\u001b[0m\n\u001b[1;32m      1\u001b[0m \u001b[0;31m#Most frequent time of day for hate speech\u001b[0m\u001b[0;34m\u001b[0m\u001b[0;34m\u001b[0m\u001b[0;34m\u001b[0m\u001b[0m\n\u001b[0;32m----> 2\u001b[0;31m \u001b[0mgraph\u001b[0m \u001b[0;34m=\u001b[0m \u001b[0mdf\u001b[0m\u001b[0;34m.\u001b[0m\u001b[0mgroupby\u001b[0m\u001b[0;34m(\u001b[0m\u001b[0;34m'day_night'\u001b[0m\u001b[0;34m)\u001b[0m\u001b[0;34m[\u001b[0m\u001b[0;34m'label'\u001b[0m\u001b[0;34m]\u001b[0m\u001b[0;34m.\u001b[0m\u001b[0msum\u001b[0m\u001b[0;34m(\u001b[0m\u001b[0;34m)\u001b[0m\u001b[0;34m\u001b[0m\u001b[0;34m\u001b[0m\u001b[0m\n\u001b[0m\u001b[1;32m      3\u001b[0m \u001b[0mbar_heights\u001b[0m \u001b[0;34m=\u001b[0m \u001b[0mlist\u001b[0m\u001b[0;34m(\u001b[0m\u001b[0mgraph\u001b[0m\u001b[0;34m.\u001b[0m\u001b[0mvalues\u001b[0m\u001b[0;34m)\u001b[0m\u001b[0;34m\u001b[0m\u001b[0;34m\u001b[0m\u001b[0m\n\u001b[1;32m      4\u001b[0m \u001b[0mindex\u001b[0m \u001b[0;34m=\u001b[0m \u001b[0mlist\u001b[0m\u001b[0;34m(\u001b[0m\u001b[0mgraph\u001b[0m\u001b[0;34m.\u001b[0m\u001b[0mindex\u001b[0m\u001b[0;34m)\u001b[0m\u001b[0;34m\u001b[0m\u001b[0;34m\u001b[0m\u001b[0m\n\u001b[1;32m      5\u001b[0m \u001b[0;34m\u001b[0m\u001b[0m\n",
      "\u001b[0;32m~/opt/anaconda3/envs/learn-env/lib/python3.8/site-packages/pandas/core/frame.py\u001b[0m in \u001b[0;36mgroupby\u001b[0;34m(self, by, axis, level, as_index, sort, group_keys, squeeze, observed, dropna)\u001b[0m\n\u001b[1;32m   6509\u001b[0m         \u001b[0maxis\u001b[0m \u001b[0;34m=\u001b[0m \u001b[0mself\u001b[0m\u001b[0;34m.\u001b[0m\u001b[0m_get_axis_number\u001b[0m\u001b[0;34m(\u001b[0m\u001b[0maxis\u001b[0m\u001b[0;34m)\u001b[0m\u001b[0;34m\u001b[0m\u001b[0;34m\u001b[0m\u001b[0m\n\u001b[1;32m   6510\u001b[0m \u001b[0;34m\u001b[0m\u001b[0m\n\u001b[0;32m-> 6511\u001b[0;31m         return DataFrameGroupBy(\n\u001b[0m\u001b[1;32m   6512\u001b[0m             \u001b[0mobj\u001b[0m\u001b[0;34m=\u001b[0m\u001b[0mself\u001b[0m\u001b[0;34m,\u001b[0m\u001b[0;34m\u001b[0m\u001b[0;34m\u001b[0m\u001b[0m\n\u001b[1;32m   6513\u001b[0m             \u001b[0mkeys\u001b[0m\u001b[0;34m=\u001b[0m\u001b[0mby\u001b[0m\u001b[0;34m,\u001b[0m\u001b[0;34m\u001b[0m\u001b[0;34m\u001b[0m\u001b[0m\n",
      "\u001b[0;32m~/opt/anaconda3/envs/learn-env/lib/python3.8/site-packages/pandas/core/groupby/groupby.py\u001b[0m in \u001b[0;36m__init__\u001b[0;34m(self, obj, keys, axis, level, grouper, exclusions, selection, as_index, sort, group_keys, squeeze, observed, mutated, dropna)\u001b[0m\n\u001b[1;32m    523\u001b[0m             \u001b[0;32mfrom\u001b[0m \u001b[0mpandas\u001b[0m\u001b[0;34m.\u001b[0m\u001b[0mcore\u001b[0m\u001b[0;34m.\u001b[0m\u001b[0mgroupby\u001b[0m\u001b[0;34m.\u001b[0m\u001b[0mgrouper\u001b[0m \u001b[0;32mimport\u001b[0m \u001b[0mget_grouper\u001b[0m\u001b[0;34m\u001b[0m\u001b[0;34m\u001b[0m\u001b[0m\n\u001b[1;32m    524\u001b[0m \u001b[0;34m\u001b[0m\u001b[0m\n\u001b[0;32m--> 525\u001b[0;31m             grouper, exclusions, obj = get_grouper(\n\u001b[0m\u001b[1;32m    526\u001b[0m                 \u001b[0mobj\u001b[0m\u001b[0;34m,\u001b[0m\u001b[0;34m\u001b[0m\u001b[0;34m\u001b[0m\u001b[0m\n\u001b[1;32m    527\u001b[0m                 \u001b[0mkeys\u001b[0m\u001b[0;34m,\u001b[0m\u001b[0;34m\u001b[0m\u001b[0;34m\u001b[0m\u001b[0m\n",
      "\u001b[0;32m~/opt/anaconda3/envs/learn-env/lib/python3.8/site-packages/pandas/core/groupby/grouper.py\u001b[0m in \u001b[0;36mget_grouper\u001b[0;34m(obj, key, axis, level, sort, observed, mutated, validate, dropna)\u001b[0m\n\u001b[1;32m    779\u001b[0m                 \u001b[0min_axis\u001b[0m\u001b[0;34m,\u001b[0m \u001b[0mname\u001b[0m\u001b[0;34m,\u001b[0m \u001b[0mlevel\u001b[0m\u001b[0;34m,\u001b[0m \u001b[0mgpr\u001b[0m \u001b[0;34m=\u001b[0m \u001b[0;32mFalse\u001b[0m\u001b[0;34m,\u001b[0m \u001b[0;32mNone\u001b[0m\u001b[0;34m,\u001b[0m \u001b[0mgpr\u001b[0m\u001b[0;34m,\u001b[0m \u001b[0;32mNone\u001b[0m\u001b[0;34m\u001b[0m\u001b[0;34m\u001b[0m\u001b[0m\n\u001b[1;32m    780\u001b[0m             \u001b[0;32melse\u001b[0m\u001b[0;34m:\u001b[0m\u001b[0;34m\u001b[0m\u001b[0;34m\u001b[0m\u001b[0m\n\u001b[0;32m--> 781\u001b[0;31m                 \u001b[0;32mraise\u001b[0m \u001b[0mKeyError\u001b[0m\u001b[0;34m(\u001b[0m\u001b[0mgpr\u001b[0m\u001b[0;34m)\u001b[0m\u001b[0;34m\u001b[0m\u001b[0;34m\u001b[0m\u001b[0m\n\u001b[0m\u001b[1;32m    782\u001b[0m         \u001b[0;32melif\u001b[0m \u001b[0misinstance\u001b[0m\u001b[0;34m(\u001b[0m\u001b[0mgpr\u001b[0m\u001b[0;34m,\u001b[0m \u001b[0mGrouper\u001b[0m\u001b[0;34m)\u001b[0m \u001b[0;32mand\u001b[0m \u001b[0mgpr\u001b[0m\u001b[0;34m.\u001b[0m\u001b[0mkey\u001b[0m \u001b[0;32mis\u001b[0m \u001b[0;32mnot\u001b[0m \u001b[0;32mNone\u001b[0m\u001b[0;34m:\u001b[0m\u001b[0;34m\u001b[0m\u001b[0;34m\u001b[0m\u001b[0m\n\u001b[1;32m    783\u001b[0m             \u001b[0;31m# Add key to exclusions\u001b[0m\u001b[0;34m\u001b[0m\u001b[0;34m\u001b[0m\u001b[0;34m\u001b[0m\u001b[0m\n",
      "\u001b[0;31mKeyError\u001b[0m: 'day_night'"
     ]
    }
   ],
   "source": [
    "#Most frequent time of day for hate speech\n",
    "graph = df.groupby('day_night')['label'].sum()\n",
    "bar_heights = list(graph.values)\n",
    "index = list(graph.index)\n",
    "\n",
    "fig, ax = plt.subplots()\n",
    "sns.barplot(x = index, y = bar_heights)"
   ]
  },
  {
   "cell_type": "code",
   "execution_count": 150,
   "metadata": {},
   "outputs": [
    {
     "data": {
      "text/plain": [
       "<AxesSubplot:>"
      ]
     },
     "execution_count": 150,
     "metadata": {},
     "output_type": "execute_result"
    },
    {
     "data": {
      "image/png": "[encoded data removed]",
      "text/plain": [
       "<Figure size 432x288 with 1 Axes>"
      ]
     },
     "metadata": {
      "needs_background": "light"
     },
     "output_type": "display_data"
    }
   ],
   "source": [
    "graph = df.groupby('hour')['label'].sum()\n",
    "bar_heights = list(graph.values)\n",
    "index = list(graph.index)\n",
    "\n",
    "fig, ax = plt.subplots()\n",
    "sns.barplot(x = index, y = bar_heights)"
   ]
  },
  {
   "cell_type": "code",
   "execution_count": 151,
   "metadata": {},
   "outputs": [
    {
     "data": {
      "text/plain": [
       "<AxesSubplot:>"
      ]
     },
     "execution_count": 151,
     "metadata": {},
     "output_type": "execute_result"
    },
    {
     "data": {
      "image/png": "[encoded data removed]",
      "text/plain": [
       "<Figure size 432x288 with 1 Axes>"
      ]
     },
     "metadata": {
      "needs_background": "light"
     },
     "output_type": "display_data"
    }
   ],
   "source": [
    "#Hate per streamer\n",
    "graph = df.groupby('channel_id')['label'].sum()\n",
    "bar_heights = list(graph.values)\n",
    "index = list(graph.index)\n",
    "\n",
    "fig, ax = plt.subplots()\n",
    "sns.barplot(x = index, y = bar_heights)"
   ]
  },
  {
   "cell_type": "code",
   "execution_count": 152,
   "metadata": {},
   "outputs": [
    {
     "data": {
      "text/plain": [
       "<AxesSubplot:>"
      ]
     },
     "execution_count": 152,
     "metadata": {},
     "output_type": "execute_result"
    },
    {
     "data": {
      "image/png": "[encoded data removed]",
      "text/plain": [
       "<Figure size 432x288 with 1 Axes>"
      ]
     },
     "metadata": {
      "needs_background": "light"
     },
     "output_type": "display_data"
    }
   ],
   "source": [
    "#Hate per stream\n",
    "graph = df.groupby(['video_id'])['label'].sum()\n",
    "bar_heights = list(graph.values)\n",
    "index = list(graph.index)\n",
    "\n",
    "fig, ax = plt.subplots()\n",
    "sns.barplot(x = index, y = bar_heights)"
   ]
  },
  {
   "cell_type": "code",
   "execution_count": 153,
   "metadata": {},
   "outputs": [
    {
     "data": {
      "text/plain": [
       "<AxesSubplot:>"
      ]
     },
     "execution_count": 153,
     "metadata": {},
     "output_type": "execute_result"
    },
    {
     "data": {
      "image/png": "[encoded data removed]",
      "text/plain": [
       "<Figure size 432x288 with 1 Axes>"
      ]
     },
     "metadata": {
      "needs_background": "light"
     },
     "output_type": "display_data"
    }
   ],
   "source": [
    "#Hate per stream by creator\n",
    "graph = df.groupby(['channel_id', 'video_id'])['label'].sum()\n",
    "video = []\n",
    "creator = []\n",
    "for i in graph.index:\n",
    "    creator.append(i[0])\n",
    "    video.append(i[1])\n",
    "height = graph.values\n",
    "\n",
    "fig, ax = plt.subplots()\n",
    "sns.barplot(x = video, y = height, hue = creator)"
   ]
  },
  {
   "cell_type": "markdown",
   "metadata": {},
   "source": [
    "# Feature Engineering"
   ]
  },
  {
   "cell_type": "code",
   "execution_count": 13,
   "metadata": {},
   "outputs": [],
   "source": [
    "#Hour of stream\n",
    "df['created_at'] = pd.to_datetime(df['created_at'])\n",
    "df['hour'] = df.created_at.apply(lambda x: x.hour)\n",
    "\n",
    "#Sorts streams into night/day\n",
    "def day_night(hour):\n",
    "    if (hour >= 7) and (hour < 20):\n",
    "        return 'Day'\n",
    "    elif (hour >= 20) and (hour <= 23):\n",
    "        return 'Night'\n",
    "    else:\n",
    "        return 'Late Night'\n",
    "df['day_night'] = df.hour.apply(day_night)"
   ]
  },
  {
   "cell_type": "code",
   "execution_count": 14,
   "metadata": {},
   "outputs": [],
   "source": [
    "#Has emojis\n",
    "def any_emojis(emotes):\n",
    "    if emotes[2] == 'N':\n",
    "        return 0\n",
    "    else:\n",
    "        return 1\n",
    "    \n",
    "#Ratio capital to length tweet\n",
    "def capital_letter_ratio(chat):\n",
    "    if type(chat) == float:\n",
    "        return 0\n",
    "    if len(chat) == 0:\n",
    "        return 0\n",
    "    capital_count = 0\n",
    "    for c in chat:\n",
    "        if c.isupper():\n",
    "            capital_count += 1\n",
    "    return capital_count / len(chat)"
   ]
  },
  {
   "cell_type": "code",
   "execution_count": 15,
   "metadata": {},
   "outputs": [],
   "source": [
    "#Convert offset to minutes not seconds\n",
    "df['stream_min'] = df['offset'] // 60\n",
    "\n",
    "#Adds if chat contains emojis or not\n",
    "df['any_emojis'] = df.emotes.apply(any_emojis)\n",
    "\n",
    "#Adds ratio of capital letters\n",
    "df['cap_ratio'] = df.twitch_chat.apply(capital_letter_ratio)"
   ]
  },
  {
   "cell_type": "code",
   "execution_count": 16,
   "metadata": {},
   "outputs": [],
   "source": [
    "#Length of stream\n",
    "graph = df.groupby(['video_id'])['offset'].max()\n",
    "videos = list(graph.index)\n",
    "max_time = list(graph.values)\n",
    "time_pairings = []\n",
    "for i, v in enumerate(videos):\n",
    "    time_pairings.append((videos[i], max_time[i]))\n",
    "    \n",
    "def find_time(video):\n",
    "    for pair in time_pairings:\n",
    "        if video == pair[0]:\n",
    "            return pair[1]\n",
    "\n",
    "df['max_time'] = df.video_id.apply(find_time)\n",
    "df['offset_percent'] = (df.offset / df.max_time) * 100"
   ]
  },
  {
   "cell_type": "code",
   "execution_count": 17,
   "metadata": {},
   "outputs": [],
   "source": [
    "#User post frequency\n",
    "import collections\n",
    "\n",
    "counter = collections.Counter(df.commenter_id)\n",
    "\n",
    "def commenter_count(id):\n",
    "    return counter[id]\n",
    "\n",
    "df['total_comments'] = df.commenter_id.apply(commenter_count)"
   ]
  },
  {
   "cell_type": "markdown",
   "metadata": {},
   "source": [
    "# First Simple Model"
   ]
  },
  {
   "cell_type": "code",
   "execution_count": 112,
   "metadata": {},
   "outputs": [
    {
     "data": {
      "text/plain": [
       "0    0.886957\n",
       "1    0.113043\n",
       "Name: label, dtype: float64"
      ]
     },
     "execution_count": 112,
     "metadata": {},
     "output_type": "execute_result"
    }
   ],
   "source": [
    "df.label.value_counts(normalize = True)"
   ]
  },
  {
   "cell_type": "code",
   "execution_count": 113,
   "metadata": {},
   "outputs": [
    {
     "name": "stdout",
     "output_type": "stream",
     "text": [
      "Training Score: 0.8732943469785575\n",
      "Validation Score:0.2038220467944348\n"
     ]
    }
   ],
   "source": [
    "from sklearn.metrics import recall_score, accuracy_score\n",
    "\n",
    "y = df['label']\n",
    "X = df['chats']\n",
    "X_train, X_test, y_train, y_test = train_test_split(X, y, random_state = 213)\n",
    "\n",
    "first = imbpipeline(steps=[\n",
    "    ('preproc', CountVectorizer(lowercase = False, tokenizer = chat_tokenizer)),\n",
    "    ('smote', SMOTE(sampling_strategy = 'minority', random_state = 213)),\n",
    "    ('dtc', DecisionTreeClassifier(random_state = 213, max_depth = 5))\n",
    "])\n",
    "\n",
    "first.fit(X_train, y_train)\n",
    "preds = first.predict(X_train)\n",
    "print(\"Training Score:\", recall_score(preds, y_train))\n",
    "scores = np.mean(cross_val_score(first, X_train, y_train, cv = 5, scoring = 'recall'))\n",
    "print(\"Validation Score:\" + str(scores))"
   ]
  },
  {
   "cell_type": "code",
   "execution_count": 114,
   "metadata": {},
   "outputs": [
    {
     "data": {
      "image/png": "[encoded data removed]",
      "text/plain": [
       "<Figure size 432x288 with 2 Axes>"
      ]
     },
     "metadata": {
      "needs_background": "light"
     },
     "output_type": "display_data"
    }
   ],
   "source": [
    "from sklearn.metrics import ConfusionMatrixDisplay, confusion_matrix\n",
    "\n",
    "y_hat = first.predict(X_train)\n",
    "cm = confusion_matrix(y_train, y_hat)\n",
    "cmdis = ConfusionMatrixDisplay(cm)\n",
    "cmdis.plot();"
   ]
  },
  {
   "cell_type": "markdown",
   "metadata": {},
   "source": [
    "# Iterations"
   ]
  },
  {
   "cell_type": "code",
   "execution_count": 18,
   "metadata": {},
   "outputs": [],
   "source": [
    "df['channel_id'] = df['channel_id'].astype(str)\n",
    "df['video_id'] = df['video_id'].astype(str)"
   ]
  },
  {
   "cell_type": "markdown",
   "metadata": {},
   "source": [
    "## Multinomial Bayes + Complement Bayes"
   ]
  },
  {
   "cell_type": "code",
   "execution_count": 23,
   "metadata": {},
   "outputs": [],
   "source": [
    "from sklearn.metrics import recall_score, accuracy_score, make_scorer\n",
    "from sklearn.model_selection import cross_validate\n",
    "\n",
    "#Creates features and target then performs train test split\n",
    "y = df['label']\n",
    "X = df[['chats', 'channel_id', 'video_id', 'hour', 'day_night', \n",
    "            'any_emojis', 'cap_ratio', 'offset_percent', 'total_comments']]\n",
    "X_train, X_test, y_train, y_test = train_test_split(X, y, random_state = 213)\n",
    "\n",
    "count_vec = ColumnTransformer([\n",
    "    ('cv', CountVectorizer(lowercase = False, tokenizer = chat_tokenizer), 'chats'),\n",
    "    ('ohe', OneHotEncoder(), ['channel_id', 'video_id', 'day_night'])],\n",
    "    remainder = 'passthrough')\n",
    "\n",
    "mnb_cv = imbpipeline(steps=[\n",
    "    ('preproc', count_vec),\n",
    "    ('smote', SMOTE(sampling_strategy = 'minority', random_state = 213)),\n",
    "    ('mnb', MultinomialNB())\n",
    "])\n",
    "\n",
    "#Fits model and prints training score\n",
    "mnb_cv.fit(X_train, y_train)\n",
    "preds = mnb_cv.predict(X_train)\n",
    "print(\"Training Recall:\", recall_score(preds, y_train))\n",
    "print(\"Training Accuracy:\", mnb_cv.score(X_train, y_train))\n",
    "Cross validates model and prints average result\n",
    "scoring = {\n",
    "    'acc': make_scorer(accuracy_score),\n",
    "    'rec': 'recall'\n",
    "}\n",
    "scores = cross_validate(mnb_cv, X_train, y_train, cv = 5, scoring = scoring)\n",
    "print(\"Validation Recall:\" + str(np.mean(scores['test_rec'])))\n",
    "print(\"Validation Accuracy:\" + str(np.mean(scores['test_acc'])))"
   ]
  },
  {
   "cell_type": "code",
   "execution_count": 156,
   "metadata": {},
   "outputs": [
    {
     "name": "stdout",
     "output_type": "stream",
     "text": [
      "Training Recall: 0.21377432125108797\n",
      "Training Accuracy: 0.6216856183809946\n",
      "Validation Recall:0.7881241747838456\n",
      "Validation Accuracy:0.5588586920856187\n"
     ]
    }
   ],
   "source": [
    "tfidf_vec = ColumnTransformer([\n",
    "    ('cv', TfidfVectorizer(lowercase = False, tokenizer = chat_tokenizer), 'chats'),\n",
    "    ('ohe', OneHotEncoder(), ['channel_id', 'video_id', 'day_night'])],\n",
    "    remainder = 'passthrough')\n",
    "\n",
    "mnb_tfidf = imbpipeline(steps=[\n",
    "    ('preproc', tfidf_vec),\n",
    "    ('smote', SMOTE(sampling_strategy = 'minority', random_state = 213)),\n",
    "    ('mnb', MultinomialNB())\n",
    "])\n",
    "\n",
    "#Fits model and prints training score\n",
    "mnb_tfidf.fit(X_train, y_train)\n",
    "preds = mnb_cv.predict(X_train)\n",
    "print(\"Training Recall:\", recall_score(preds, y_train))\n",
    "print(\"Training Accuracy:\", mnb_cv.score(X_train, y_train))\n",
    "#Cross validates model and prints average result\n",
    "scores = cross_validate(mnb_tfidf, X_train, y_train, cv = 5, scoring = scoring)\n",
    "print(\"Validation Recall:\" + str(np.mean(scores['test_rec'])))\n",
    "print(\"Validation Accuracy:\" + str(np.mean(scores['test_acc'])))"
   ]
  },
  {
   "cell_type": "code",
   "execution_count": 159,
   "metadata": {},
   "outputs": [
    {
     "name": "stdout",
     "output_type": "stream",
     "text": [
      "Training Recall: 0.1985851298828398\n",
      "Training Accuracy: 0.6064635320444433\n",
      "Validation Recall:0.7808720112517581\n",
      "Validation Accuracy:0.6130987245617645\n"
     ]
    }
   ],
   "source": [
    "from sklearn.naive_bayes import ComplementNB\n",
    "\n",
    "cnb = imbpipeline(steps=[\n",
    "    ('preproc', count_vec),\n",
    "    ('mnb', ComplementNB())\n",
    "])\n",
    "\n",
    "#Fits model and prints training score\n",
    "cnb.fit(X_train, y_train)\n",
    "preds = cnb.predict(X_train)\n",
    "print(\"Training Recall:\", recall_score(preds, y_train))\n",
    "print(\"Training Accuracy:\", cnb.score(X_train, y_train))\n",
    "#Cross validates model and prints average result\n",
    "scores = cross_validate(cnb, X_train, y_train, cv = 5, scoring = scoring)\n",
    "print(\"Validation Recall:\" + str(np.mean(scores['test_rec'])))\n",
    "print(\"Validation Accuracy:\" + str(np.mean(scores['test_acc'])))"
   ]
  },
  {
   "cell_type": "markdown",
   "metadata": {},
   "source": [
    "### Grid Search"
   ]
  },
  {
   "cell_type": "code",
   "execution_count": 162,
   "metadata": {},
   "outputs": [
    {
     "data": {
      "text/plain": [
       "{'preproc__cv__max_df': 0.5,\n",
       " 'preproc__cv__max_features': None,\n",
       " 'preproc__cv__ngram_range': (1, 1)}"
      ]
     },
     "execution_count": 162,
     "metadata": {},
     "output_type": "execute_result"
    }
   ],
   "source": [
    "#Creates parameters to test\n",
    "params = {\n",
    "    'preproc__cv__max_features': [None, 4000, 8000],\n",
    "    'preproc__cv__max_df': [.5, .8, 1],\n",
    "    'preproc__cv__ngram_range': [(1,1), (2,2)]\n",
    "}\n",
    "\n",
    "#Fits gridsearch on model and prints out the best parameters\n",
    "search = GridSearchCV(mnb_cv, param_grid = params, scoring = scoring, cv = 3, refit = 'rec')\n",
    "search.fit(X_train, y_train)\n",
    "search.best_params_"
   ]
  },
  {
   "cell_type": "code",
   "execution_count": 163,
   "metadata": {},
   "outputs": [
    {
     "name": "stdout",
     "output_type": "stream",
     "text": [
      "Training Recall: 0.21377432125108797\n",
      "Training Accuracy: 0.6216856183809946\n",
      "Validation Recall:0.8341574066897082\n",
      "Validation Accuracy:0.597733555553152\n"
     ]
    }
   ],
   "source": [
    "count_vec = ColumnTransformer([\n",
    "    ('cv', CountVectorizer(max_df = .5, lowercase = False, tokenizer = chat_tokenizer), 'chats'),\n",
    "    ('ohe', OneHotEncoder(), ['channel_id', 'video_id', 'day_night'])],\n",
    "    remainder = 'passthrough')\n",
    "\n",
    "mnb_tuned = imbpipeline(steps=[\n",
    "    ('preproc', count_vec),\n",
    "    ('smote', SMOTE(sampling_strategy = 'minority', random_state = 213)),\n",
    "    ('mnb', MultinomialNB())\n",
    "])\n",
    "\n",
    "#Fits model and prints training score\n",
    "mnb_tuned.fit(X_train, y_train)\n",
    "preds = mnb_tuned.predict(X_train)\n",
    "print(\"Training Recall:\", recall_score(preds, y_train))\n",
    "print(\"Training Accuracy:\", mnb_tuned.score(X_train, y_train))\n",
    "#Cross validates model and prints average result\n",
    "scores = cross_validate(mnb_tuned, X_train, y_train, cv = 5, scoring = scoring)\n",
    "print(\"Validation Recall:\" + str(np.mean(scores['test_rec'])))\n",
    "print(\"Validation Accuracy:\" + str(np.mean(scores['test_acc'])))"
   ]
  },
  {
   "cell_type": "markdown",
   "metadata": {},
   "source": [
    "## Logistic Regression"
   ]
  },
  {
   "cell_type": "code",
   "execution_count": 24,
   "metadata": {},
   "outputs": [
    {
     "name": "stdout",
     "output_type": "stream",
     "text": [
      "Training Recall: 0.8502261513157895\n",
      "Training Accuracy: 0.9755533917559234\n",
      "Validation Recall:0.8437398954346863\n",
      "Validation Accuracy:0.9581434599156118\n"
     ]
    }
   ],
   "source": [
    "from sklearn.linear_model import LogisticRegression\n",
    "from sklearn.preprocessing import StandardScaler\n",
    "\n",
    "count_vec = ColumnTransformer([\n",
    "    ('cv', CountVectorizer(lowercase = False, tokenizer = chat_tokenizer), 'chats'),\n",
    "    ('ohe', OneHotEncoder(), ['channel_id', 'video_id', 'day_night']),\n",
    "    ('ss', StandardScaler(), ['hour', 'any_emojis', 'cap_ratio', 'offset_percent', 'total_comments'])],\n",
    "    remainder = 'passthrough')\n",
    "\n",
    "logreg = imbpipeline(steps=[\n",
    "    ('preproc', count_vec),\n",
    "    ('smote', SMOTE(sampling_strategy = 'minority', random_state = 213)),\n",
    "    ('lr', LogisticRegression(max_iter = 10000, random_state = 213))\n",
    "])\n",
    "\n",
    "#Fits model and prints training score\n",
    "logreg.fit(X_train, y_train)\n",
    "preds = logreg.predict(X_train)\n",
    "print(\"Training Recall:\", recall_score(preds, y_train))\n",
    "print(\"Training Accuracy:\", logreg.score(X_train, y_train))\n",
    "\n",
    "#Cross validates model and prints average result\n",
    "scores = cross_validate(logreg, X_train, y_train, cv = 5, scoring = scoring)\n",
    "print(\"Validation Recall:\" + str(np.mean(scores['test_rec'])))\n",
    "print(\"Validation Accuracy:\" + str(np.mean(scores['test_acc'])))"
   ]
  },
  {
   "cell_type": "markdown",
   "metadata": {},
   "source": [
    "#### Assumption test"
   ]
  },
  {
   "cell_type": "code",
   "execution_count": 33,
   "metadata": {},
   "outputs": [
    {
     "data": {
      "image/png": "[encoded data removed]",
      "text/plain": [
       "<Figure size 432x288 with 1 Axes>"
      ]
     },
     "metadata": {
      "needs_background": "light"
     },
     "output_type": "display_data"
    }
   ],
   "source": [
    "#Grabs probabilities and calculates log odds\n",
    "pred = logreg.predict_proba(X_train)[:, 0]\n",
    "log_odds = np.log(pred / (1 - pred))\n",
    "#Plots log odds versus continuous variable to check for linearity\n",
    "plt.scatter(x = X_train['offset_percent'].values, y = log_odds)\n",
    "plt.xlabel(\"offset_percent\")\n",
    "plt.ylabel(\"Log-odds\")\n",
    "plt.show()"
   ]
  },
  {
   "cell_type": "code",
   "execution_count": 225,
   "metadata": {},
   "outputs": [
    {
     "data": {
      "text/plain": [
       "'rip'"
      ]
     },
     "execution_count": 225,
     "metadata": {},
     "output_type": "execute_result"
    }
   ],
   "source": [
    "words = logreg.named_steps[\"preproc\"].transformers_[0][1].get_feature_names()\n",
    "ohe = logreg.named_steps[\"preproc\"].transformers_[1][1].get_feature_names()\n",
    "numbers = logreg.named_steps[\"preproc\"].transformers_[2][2]\n",
    "\n",
    "columns = [*words, *ohe, *numbers]\n",
    "\n",
    "coef_dict = {}\n",
    "for coef, feat in zip(logreg['lr'].coef_[0, :], columns):\n",
    "    coef_dict[feat] = coef"
   ]
  },
  {
   "cell_type": "code",
   "execution_count": 226,
   "metadata": {},
   "outputs": [
    {
     "data": {
      "image/png": "[encoded data removed]",
      "text/plain": [
       "<Figure size 432x288 with 2 Axes>"
      ]
     },
     "metadata": {
      "needs_background": "light"
     },
     "output_type": "display_data"
    }
   ],
   "source": [
    "y_hat = logreg.predict(X_train)\n",
    "cm = confusion_matrix(y_train, y_hat)\n",
    "cmdis = ConfusionMatrixDisplay(cm)\n",
    "cmdis.plot();"
   ]
  },
  {
   "cell_type": "markdown",
   "metadata": {},
   "source": [
    "## Random Forest"
   ]
  },
  {
   "cell_type": "code",
   "execution_count": 230,
   "metadata": {},
   "outputs": [
    {
     "name": "stdout",
     "output_type": "stream",
     "text": [
      "Training Recall: 1.0\n",
      "Training Accuracy: 1.0\n",
      "Validation Recall:0.3858905179558423\n",
      "Validation Accuracy:0.9256979978770259\n"
     ]
    }
   ],
   "source": [
    "from sklearn.ensemble import RandomForestClassifier \n",
    "\n",
    "count_vec = ColumnTransformer([\n",
    "    ('cv', CountVectorizer(lowercase = False, tokenizer = chat_tokenizer), 'chats'),\n",
    "    ('ohe', OneHotEncoder(), ['channel_id', 'video_id', 'day_night'])],\n",
    "    remainder = 'passthrough')\n",
    "\n",
    "rfc = imbpipeline(steps=[\n",
    "    ('preproc', count_vec),\n",
    "    ('smote', SMOTE(sampling_strategy = 'minority', random_state = 213)),\n",
    "    ('rf', RandomForestClassifier(random_state = 213))\n",
    "])\n",
    "\n",
    "#Fits model and prints training score\n",
    "rfc.fit(X_train, y_train)\n",
    "preds = rfc.predict(X_train)\n",
    "print(\"Training Recall:\", recall_score(preds, y_train))\n",
    "print(\"Training Accuracy:\", rfc.score(X_train, y_train))\n",
    "#Cross validates model and prints average result\n",
    "scores = cross_validate(rfc, X_train, y_train, cv = 5, scoring = scoring)\n",
    "print(\"Validation Recall:\" + str(np.mean(scores['test_rec'])))\n",
    "print(\"Validation Accuracy:\" + str(np.mean(scores['test_acc'])))"
   ]
  },
  {
   "cell_type": "code",
   "execution_count": 239,
   "metadata": {},
   "outputs": [
    {
     "data": {
      "text/plain": [
       "{'rf__criterion': 'gini', 'rf__max_depth': None, 'rf__min_samples_split': 10}"
      ]
     },
     "execution_count": 239,
     "metadata": {},
     "output_type": "execute_result"
    }
   ],
   "source": [
    "#Creates parameters to test\n",
    "params = {\n",
    "    'rf__criterion': ['gini', 'entropy'],\n",
    "    'rf__max_depth': [None, 50, 100],\n",
    "    'rf__min_samples_split': [2, 5, 10]\n",
    "}\n",
    "\n",
    "#Fits gridsearch on model and prints out the best parameters\n",
    "search = GridSearchCV(rfc, param_grid = params, scoring = scoring, cv = 3, refit = 'rec')\n",
    "search.fit(X_train, y_train)\n",
    "search.best_params_"
   ]
  },
  {
   "cell_type": "code",
   "execution_count": 243,
   "metadata": {},
   "outputs": [
    {
     "name": "stdout",
     "output_type": "stream",
     "text": [
      "Training Recall: 0.9960725424511956\n",
      "Training Accuracy: 0.998698966979782\n",
      "Validation Recall:0.4344583766437246\n",
      "Validation Accuracy:0.9297962645898616\n"
     ]
    }
   ],
   "source": [
    "count_vec = ColumnTransformer([\n",
    "    ('cv', CountVectorizer(lowercase = False, tokenizer = chat_tokenizer), 'chats'),\n",
    "    ('ohe', OneHotEncoder(), ['channel_id', 'video_id', 'day_night'])],\n",
    "    remainder = 'passthrough')\n",
    "\n",
    "rfc_tune = imbpipeline(steps=[\n",
    "    ('preproc', count_vec),\n",
    "    ('smote', SMOTE(sampling_strategy = 'minority', random_state = 213)),\n",
    "    ('rf', RandomForestClassifier(min_samples_split = 10, random_state = 213))\n",
    "])\n",
    "\n",
    "#Fits model and prints training score\n",
    "rfc_tune.fit(X_train, y_train)\n",
    "preds = rfc_tune.predict(X_train)\n",
    "print(\"Training Recall:\", recall_score(preds, y_train))\n",
    "print(\"Training Accuracy:\", rfc_tune.score(X_train, y_train))\n",
    "#Cross validates model and prints average result\n",
    "scores = cross_validate(rfc_tune, X_train, y_train, cv = 5, scoring = scoring)\n",
    "print(\"Validation Recall:\" + str(np.mean(scores['test_rec'])))\n",
    "print(\"Validation Accuracy:\" + str(np.mean(scores['test_acc'])))"
   ]
  },
  {
   "cell_type": "code",
   "execution_count": 238,
   "metadata": {},
   "outputs": [
    {
     "name": "stdout",
     "output_type": "stream",
     "text": [
      "no\n"
     ]
    },
    {
     "data": {
      "text/plain": [
       "0.038538826298286304"
      ]
     },
     "execution_count": 238,
     "metadata": {},
     "output_type": "execute_result"
    }
   ],
   "source": [
    "words = rfc_tune.named_steps[\"preproc\"].transformers_[0][1].get_feature_names()\n",
    "ohe = rfc_tune.named_steps[\"preproc\"].transformers_[1][1].get_feature_names()\n",
    "numbers = ['hour', 'any_emojis', 'cap_ratio', 'offset_percent', 'total_comments']\n",
    "\n",
    "columns = [*words, *ohe, *numbers]\n",
    "\n",
    "for name, importance in zip(columns, rfc_tune['rf'].feature_importances_):\n",
    "    print(name, importance)"
   ]
  },
  {
   "cell_type": "markdown",
   "metadata": {},
   "source": [
    "## SVM"
   ]
  },
  {
   "cell_type": "code",
   "execution_count": null,
   "metadata": {},
   "outputs": [],
   "source": [
    "from sklearn.svm import SVC\n",
    "\n",
    "count_vec = ColumnTransformer([\n",
    "    ('cv', CountVectorizer(lowercase = False, tokenizer = chat_tokenizer), 'chats'),\n",
    "    ('ohe', OneHotEncoder(), ['channel_id', 'video_id', 'day_night']),\n",
    "    ('ss', StandardScaler(), ['hour', 'any_emojis', 'cap_ratio', 'offset_percent', 'total_comments'])],\n",
    "    remainder = 'passthrough')\n",
    "\n",
    "svm_untune = imbpipeline(steps=[\n",
    "    ('preproc', count_vec),\n",
    "    ('smote', SMOTE(sampling_strategy = 'minority', random_state = 213)),\n",
    "    ('svm', SVC(kernel='linear', gamma='auto'))\n",
    "])\n",
    "\n",
    "#Fits model and prints training score\n",
    "svm_untune.fit(X_train, y_train)\n",
    "preds = svm_untune.predict(X_train)\n",
    "print(\"Training Recall:\", recall_score(preds, y_train))\n",
    "print(\"Training Accuracy:\", svm_untune.score(X_train, y_train))\n",
    "#Cross validates model and prints average result\n",
    "scores = cross_validate(svm_untune, X_train, y_train, cv = 5, scoring = scoring)\n",
    "print(\"Validation Recall:\" + str(np.mean(scores['test_rec'])))\n",
    "print(\"Validation Accuracy:\" + str(np.mean(scores['test_acc'])))"
   ]
  },
  {
   "cell_type": "code",
   "execution_count": null,
   "metadata": {},
   "outputs": [],
   "source": []
  }
 ],
 "metadata": {
  "kernelspec": {
   "display_name": "Python 3",
   "language": "python",
   "name": "python3"
  },
  "language_info": {
   "codemirror_mode": {
    "name": "ipython",
    "version": 3
   },
   "file_extension": ".py",
   "mimetype": "text/x-python",
   "name": "python",
   "nbconvert_exporter": "python",
   "pygments_lexer": "ipython3",
   "version": "3.8.5"
  }
 },
 "nbformat": 4,
 "nbformat_minor": 4
}

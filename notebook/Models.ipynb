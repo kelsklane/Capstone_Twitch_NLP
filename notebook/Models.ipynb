{
 "cells": [
  {
   "cell_type": "code",
   "execution_count": 1,
   "metadata": {},
   "outputs": [],
   "source": [
    "#Imports\n",
    "from textblob import TextBlob\n",
    "import string\n",
    "import pandas as pd\n",
    "import numpy as np\n",
    "import matplotlib.pyplot as plt\n",
    "import seaborn as sns\n",
    "import nltk\n",
    "import re\n",
    "from nltk.tokenize import TweetTokenizer\n",
    "from nltk.corpus import stopwords, wordnet\n",
    "from nltk import pos_tag\n",
    "from nltk.stem import WordNetLemmatizer\n",
    "from sklearn.model_selection import train_test_split, cross_val_score\n",
    "from sklearn.tree import DecisionTreeClassifier\n",
    "from imblearn.pipeline import Pipeline as imbpipeline\n",
    "from sklearn.compose import ColumnTransformer\n",
    "from sklearn.preprocessing import OneHotEncoder\n",
    "from imblearn.over_sampling import SMOTE\n",
    "from sklearn.naive_bayes import MultinomialNB\n",
    "from sklearn.feature_extraction.text import CountVectorizer, TfidfVectorizer\n",
    "from sklearn.model_selection import GridSearchCV\n",
    "\n",
    "df = pd.read_csv('../data/small_merged_chats')\n",
    "sw = stopwords.words('english')"
   ]
  },
  {
   "cell_type": "markdown",
   "metadata": {},
   "source": [
    "# Assign Labels"
   ]
  },
  {
   "cell_type": "code",
   "execution_count": 2,
   "metadata": {},
   "outputs": [],
   "source": [
    "from nltk.sentiment.vader import SentimentIntensityAnalyzer\n",
    "\n",
    "vad = SentimentIntensityAnalyzer()"
   ]
  },
  {
   "cell_type": "code",
   "execution_count": 3,
   "metadata": {},
   "outputs": [],
   "source": [
    "df = df.dropna(subset = ['body'])"
   ]
  },
  {
   "cell_type": "markdown",
   "metadata": {},
   "source": [
    "### Clean up messages first"
   ]
  },
  {
   "cell_type": "code",
   "execution_count": 4,
   "metadata": {},
   "outputs": [],
   "source": [
    "#Get rid of chats with links (often promo)\n",
    "def ad(chat):\n",
    "    result = False\n",
    "    result = bool(re.search(r'www\\.[a-z]?\\.?(com)+|[a-z]+\\.(com)', chat))\n",
    "    result = bool(re.search(r'http\\S+', chat))\n",
    "    return result\n",
    "\n",
    "df['is_ad'] = df['body'].apply(ad)\n",
    "\n",
    "df = df[df['is_ad'] == False]"
   ]
  },
  {
   "cell_type": "code",
   "execution_count": 5,
   "metadata": {},
   "outputs": [],
   "source": [
    "#change popular emojis to one type so no variants\n",
    "def emoji_shorten(chat):\n",
    "    chat = re.sub(r'(?i) \\bpog(\\w)*\\b |\\bpog(\\w)*\\b', 'pog', chat)\n",
    "    chat = re.sub(r'(?i) \\blul(\\w)*\\b |\\blul(\\w)*\\b', 'lul', chat)\n",
    "    chat = re.sub(r'(?i) \\bkappa(\\w)*\\b |\\bkappa(\\w)*\\b', 'kappa', chat)\n",
    "    return chat\n",
    "\n",
    "df['chats'] = df.body.apply(lambda x: emoji_shorten(x))"
   ]
  },
  {
   "cell_type": "code",
   "execution_count": 6,
   "metadata": {},
   "outputs": [],
   "source": [
    "df['chats'] = df.body.apply(lambda x: emoji_shorten(x))"
   ]
  },
  {
   "cell_type": "code",
   "execution_count": 7,
   "metadata": {},
   "outputs": [],
   "source": [
    "df = df.drop(['is_ad'], axis = 1)"
   ]
  },
  {
   "cell_type": "code",
   "execution_count": 8,
   "metadata": {},
   "outputs": [],
   "source": [
    "#Words to add to VADER\n",
    "# EMOTES: https://dl.acm.org/doi/10.1145/3365523\n",
    "new_words = {\n",
    "    'noice': 1.8,\n",
    "    'scum': -2.0,\n",
    "    'kap': 0.5,\n",
    "    'kappa': 0.5,\n",
    "    'lul': 1.8,\n",
    "    'omegalol': 1.8,\n",
    "    'strats': 2.0,\n",
    "    'rekt': 0,\n",
    "    'owo': 1.0,\n",
    "    'tweaker': -2.3,\n",
    "    'pog': 2.8,\n",
    "    'pag': 2.8,\n",
    "    'incel': -3.1,\n",
    "    'tilted': -0.7,\n",
    "    'feelsbadman': -2.6,\n",
    "    'feelsgoodman': 3.7,\n",
    "    'trash': -2.0,\n",
    "    'rip': -1.2,\n",
    "    'ez': 1.9,\n",
    "    'clap': 2.7,\n",
    "    'hyperbruh': -0.6,\n",
    "    'f': 0.5,\n",
    "    'F': 0.5,\n",
    "    'discord': 0,\n",
    "    'PJSalt': -1.2,\n",
    "    'Kreygasm': 2.8,\n",
    "    'kreygasm': 2.8,\n",
    "    'homo': -3.5,\n",
    "    'clip': 0.5,\n",
    "    'rAcIsM': -3.1,\n",
    "    'based': 2.0,\n",
    "    'Based': 2.0,\n",
    "    'PepeHands': -1.7,\n",
    "    'WutFace': -1.7,\n",
    "    'FailFish': -2.0,\n",
    "    'BabyRage': -1.6,\n",
    "    'ANELE': -0.8,\n",
    "    'haHAA': -0.5,\n",
    "    'ResidentSleeper': -1.2,\n",
    "    'cmonBruh': -1.0,\n",
    "    ':(': 0\n",
    "}\n",
    "\n",
    "vad.lexicon.update(new_words)"
   ]
  },
  {
   "cell_type": "code",
   "execution_count": 24,
   "metadata": {},
   "outputs": [],
   "source": [
    "if ':()' in not_in_vocab:\n",
    "    print('yes')"
   ]
  },
  {
   "cell_type": "code",
   "execution_count": 10,
   "metadata": {},
   "outputs": [
    {
     "data": {
      "text/plain": [
       "0"
      ]
     },
     "execution_count": 10,
     "metadata": {},
     "output_type": "execute_result"
    }
   ],
   "source": [
    "vad.lexicon[':(']"
   ]
  },
  {
   "cell_type": "code",
   "execution_count": 21,
   "metadata": {},
   "outputs": [],
   "source": [
    "tt = TweetTokenizer()\n",
    "all_words = []\n",
    "for chat in df['chats']:\n",
    "    all_words.extend(tt.tokenize(chat))"
   ]
  },
  {
   "cell_type": "code",
   "execution_count": 22,
   "metadata": {},
   "outputs": [],
   "source": [
    "vocab = set(all_words)\n",
    "not_in_vocab = []\n",
    "for word in vocab:\n",
    "    if word in vad.lexicon:\n",
    "        continue\n",
    "    else:\n",
    "        not_in_vocab.append(word)"
   ]
  },
  {
   "cell_type": "code",
   "execution_count": 23,
   "metadata": {},
   "outputs": [
    {
     "data": {
      "text/plain": [
       "34348"
      ]
     },
     "execution_count": 23,
     "metadata": {},
     "output_type": "execute_result"
    }
   ],
   "source": [
    "len(not_in_vocab)"
   ]
  },
  {
   "cell_type": "code",
   "execution_count": 160,
   "metadata": {},
   "outputs": [],
   "source": [
    "not_in_vocab"
   ]
  },
  {
   "cell_type": "code",
   "execution_count": 9,
   "metadata": {},
   "outputs": [
    {
     "data": {
      "text/plain": [
       "102700"
      ]
     },
     "execution_count": 9,
     "metadata": {},
     "output_type": "execute_result"
    }
   ],
   "source": [
    "len(df)"
   ]
  },
  {
   "cell_type": "markdown",
   "metadata": {},
   "source": [
    "### Assign the labels here"
   ]
  },
  {
   "cell_type": "code",
   "execution_count": 9,
   "metadata": {},
   "outputs": [],
   "source": [
    "positive = 0\n",
    "negative = 0\n",
    "neutral = 0\n",
    "polarity = 0\n",
    "neutral_list = []\n",
    "negative_list = []\n",
    "positive_list = []\n",
    "for chat in df.chats:\n",
    "    analysis = TextBlob(chat)\n",
    "    vad = SentimentIntensityAnalyzer()\n",
    "    vad.lexicon.update(new_words)\n",
    "    score = vad.polarity_scores(chat)\n",
    "    neg = score['neg']\n",
    "    neu = score['neu']\n",
    "    pos = score['pos']\n",
    "    comp = score['compound']\n",
    "    polarity += analysis.sentiment.polarity\n",
    " \n",
    "    if neg > pos:\n",
    "        negative_list.append(chat)\n",
    "        negative += 1\n",
    "    elif pos > neg:\n",
    "        positive_list.append(chat)\n",
    "        positive += 1\n",
    " \n",
    "    elif pos == neg:\n",
    "        neutral_list.append(chat)\n",
    "        neutral += 1"
   ]
  },
  {
   "cell_type": "code",
   "execution_count": 10,
   "metadata": {},
   "outputs": [
    {
     "name": "stdout",
     "output_type": "stream",
     "text": [
      "57686\n",
      "11259\n",
      "33755\n"
     ]
    }
   ],
   "source": [
    "print(len(neutral_list))\n",
    "print(len(negative_list))\n",
    "print(len(positive_list))"
   ]
  },
  {
   "cell_type": "code",
   "execution_count": 11,
   "metadata": {},
   "outputs": [
    {
     "data": {
      "text/plain": [
       "['yes!!!',\n",
       " 'The greatest twitch fam',\n",
       " 'Cool',\n",
       " 'Where the prince lol 😆',\n",
       " 'Is he still playing',\n",
       " '@xxslasherxx let’s play on xbox',\n",
       " 'pog',\n",
       " 'Beautiful',\n",
       " '@f9boa what’s ur gt',\n",
       " 'GG',\n",
       " 'You awake tonight lmao',\n",
       " 'Don’t have your mic muted today lol',\n",
       " 'can i get a sub to i love him so much but my friend made me sub to ninja',\n",
       " 'What up king rich',\n",
       " 'what is good everyone',\n",
       " 'Amazon Prime members get a free Twitch subscription every month. Link Your Account Here: twitch.amazon.com/prime and subscribe to KR for free!',\n",
       " 'Ready to see the king slay',\n",
       " 'Welcome to the kingdom',\n",
       " \"@xllbannedll people still put x's and l'x in their name lul\",\n",
       " 'can i get a sub i love king so much but my friend made me sub to ninja',\n",
       " 'is his mic still muted? kappa',\n",
       " 'I wish the stream could just start',\n",
       " 'how do i get better at Fortnite',\n",
       " 'King RICH BOY FOR DAYS',\n",
       " 'Keep playing',\n",
       " 'MY MAN IS GOD',\n",
       " 'kingrichLaser2 kingrichLaser3 Every 100 subscribers we are giving away $25 in v-bucks! Stay tuned! Use !primesub or !sub to join the kingdom! kingrichLuv',\n",
       " 'sambr0415 its called playing',\n",
       " 'play them goon toons',\n",
       " 'i yelled and you came on lol you must have heard me lol',\n",
       " 'can i get a sub i love king so much but my friend made me sub to ninja',\n",
       " 'kappakappakappa kappa',\n",
       " 'Amazon Prime members get a free Twitch subscription every month. Link Your Account Here: twitch.amazon.com/prime and subscribe to KR for free!',\n",
       " 'wait yes',\n",
       " 'can i get a sub i love king so much but my friend made me sub to ninja',\n",
       " 'Amazon Prime members get a free Twitch subscription every month. Link Your Account Here: twitch.amazon.com/prime and subscribe to KR for free!',\n",
       " 'can i get a sub i love king so much but my friend made me sub to ninja',\n",
       " 'aye, whats up chat :D',\n",
       " '@phoenixflare42 well now nvm',\n",
       " '@aidensondgeroth you don’t need to say it so many times we’ve been doing a pretty damn good job of ignoring you',\n",
       " 'kappakappakappakappakappa kappa',\n",
       " 'I want it to start kingrichRip kingrichSalt kingrichSalt kingrichSalt kingrichSalt kingrichSalt',\n",
       " 'Amazon Prime members get a free Twitch subscription every month. Link Your Account Here: twitch.amazon.com/prime and subscribe to KR for free!',\n",
       " '@Jessie148 lmao for real. sucks to be youkappakingrichLuv',\n",
       " 'Minnesota count kappa',\n",
       " '@math1380 you Canadians are way too nice',\n",
       " 'Lol',\n",
       " 'Is it just me or does Richard look like Eric Gordon',\n",
       " '@skittles_goku relax lol',\n",
       " '@Jessie148 maybe Sugar can help. who knows?',\n",
       " '6 wins (22k, 10k, 20k, 17k, 18k, 15k)',\n",
       " '@phoenixflare42 guess what im eating kappa',\n",
       " 'I want a stream start screen like this...',\n",
       " 'are theq rockets winning or losing right now',\n",
       " \"It's clearly spelled peas scent kappa\",\n",
       " '@Jessie148 true. @austn420millr what? Keepo',\n",
       " 'Amazon Prime members get a free Twitch subscription every month. Link Your Account Here: twitch.amazon.com/prime and subscribe to KR for free!',\n",
       " 'Eww I’m with the plebs. My gift from somebody in the kingdom ran out and now I’m back at square 1 with all the toxics and saltys.',\n",
       " '@connorvik12 winning by 3',\n",
       " \"Lol it's hot in my computer room screw this I'm going to the basement peace\",\n",
       " '@austn420millr more worldstar content pog',\n",
       " 'lul',\n",
       " 'lol',\n",
       " 'lol',\n",
       " 'I like this copy pasta',\n",
       " \"I'm the best fortnite player... I once killed 97 ppl in solo squads.. seriously im not lying\",\n",
       " '@austn420millr pog',\n",
       " 'Mmmm, calzones :D',\n",
       " '<3 <3',\n",
       " 'I love you all,',\n",
       " \"i'm on 427 win streak\",\n",
       " 'lul',\n",
       " 'Love this song',\n",
       " 'TriHard Clap',\n",
       " 'o yeah',\n",
       " 'If you enjoy the channel and want to support the dream FOLLOW, !SUBSCRIBE, or !DONATE THANK YOU!',\n",
       " 'half these dudes sound the same lol',\n",
       " 'lol',\n",
       " '@WafflesEVRYday you souped who sound like 2 chainz',\n",
       " 'rich god',\n",
       " '@talbot690 damn you got some god stats kappa',\n",
       " 'in the beginning of the song i thought for sure he was a different rapper @eugi lol',\n",
       " '@Bostonsecret yes',\n",
       " 'Amazon Prime members get a free Twitch subscription every month. Link Your Account Here: twitch.amazon.com/prime and subscribe to KR for free!',\n",
       " 'pls dont always sub mode in chat please BlessRNG BlessRNG BlessRNG',\n",
       " '10,500+ amazing Subs supporting this amazing kingdom kingrichPKB kingrichLuv',\n",
       " 'lul',\n",
       " 'Ha',\n",
       " 'Hoping no sub mode for a few hours BlessRNG',\n",
       " 'Beautiful morning',\n",
       " '@phoenixflare42 i hope a while',\n",
       " 'kanye is god',\n",
       " 'kappa',\n",
       " '500+ ppl and hes not even hear... im happy to get 5..... I...I mean these are rookie numbers i get like 30k ppl in my chat... SeriousSloth',\n",
       " 'kappa 21 min',\n",
       " 'lmao that patrick emote',\n",
       " '20 mins of loading screen lul',\n",
       " 'welcome ladies and gents to loading simulator',\n",
       " 'tfueHI tfueHI tfueHI lul',\n",
       " 'rockets won come on let’s play now bby',\n",
       " 'kappa',\n",
       " 'You guys must be new kappa',\n",
       " '@L4dyKnights MY SUB MY LOVE LOOK I CRY AND UNTIL JUNE 12 I WONT BE A SUB :(((',\n",
       " '@L4dyKnights Lol',\n",
       " 'lul',\n",
       " '@Talbot690 what you want?',\n",
       " 'Spicy chicken ceaser please.',\n",
       " '@ausar00 all hail king killmonger',\n",
       " 'YOU MADE NINJA lul',\n",
       " '@Jessie148 Ripperinno in kappa',\n",
       " 'Him lul',\n",
       " 'Sup richard! <3',\n",
       " 'ey rich is herre :)',\n",
       " 'lol wuuuut dang',\n",
       " \"She's best bro kappa\",\n",
       " 'hows the best player of fortnite doing tonight ?',\n",
       " 'my boy richy rich',\n",
       " 'Oh my god start stream BagOfMemes BagOfMemes BagOfMemes BagOfMemes BagOfMemes BagOfMemes BagOfMemes',\n",
       " 'Ayyy Gratz on 700k @KingRichard',\n",
       " 'pog',\n",
       " 'all hail the king',\n",
       " '20 minutes later lul',\n",
       " 'Shadow Ops FTW',\n",
       " 'It looks like a jetpack',\n",
       " 'Helllo Chat! <3 kingrichLuv',\n",
       " 'Hi richard so glad to see the stream school almost out!',\n",
       " 'IS best bro kappa',\n",
       " 'Honestly the jetpack is better for slowing falls than gaining altitude.',\n",
       " 'lul',\n",
       " 'LOL',\n",
       " 'lul',\n",
       " 'lmao',\n",
       " 'lmao',\n",
       " 'she isn’t gonna be able to understand him lul',\n",
       " 'lmao',\n",
       " 'How is desiigner gonna make call outs lol he gonna be like “ayoo theres a dude ajahss grrrr aahhh grow”',\n",
       " 'I love you',\n",
       " 'First game in first win? kappa',\n",
       " 'LMFAO',\n",
       " 'lul',\n",
       " 'Lmfao Hahaha Hahaha',\n",
       " 'i hope she can stream that',\n",
       " 'true @raynefactor',\n",
       " '6* lul',\n",
       " 'lul',\n",
       " 'Amazon Prime members get a free Twitch subscription every month. Link Your Account Here: twitch.amazon.com/prime and subscribe to KR for free!',\n",
       " 'I feel like Desiigner wont stop flirting with poki and then myth is gonna sideeyeing him the whole time lul',\n",
       " 'Just gonna hit the plug on everything real quick lul',\n",
       " 'anyone here good at making graphs',\n",
       " 'gets jet pack in his first game, I played for 3 hours and never found it tfueEH tfueEH tfueEH',\n",
       " 'EZ',\n",
       " 'wait am i meant to moderate chat kappa',\n",
       " 'How you like jet pack?',\n",
       " 'hey i need help making a graph, is anyone good at making those or not?',\n",
       " 'Do you think you will win this week bro ?',\n",
       " 'Who knows kappa',\n",
       " '@L4dyKnights yes love u are',\n",
       " 'Tell me how I thought it was just for the Solid Gold. I’m playing Solo’s I see a motherfucka jetpacking tree to tree in Wailing Woods.',\n",
       " 'lul',\n",
       " 'Amazon Prime members get a free Twitch subscription every month. Link Your Account Here: twitch.amazon.com/prime and subscribe to KR for free!',\n",
       " 'lul',\n",
       " 'KR who you think gonna win it all in the WCF??',\n",
       " '@KingRichard We gonna see some JetPack Snipes in the future ? :D',\n",
       " 'they nerfed the shit out of it',\n",
       " 'yes recharge',\n",
       " 'kinda lul',\n",
       " 'yes it does recharge',\n",
       " 'Good evening @KingRichard ! Hope you and all your loyal subjects are doing well today! kingrichLuv kingrichPKB kingrichTmpe1',\n",
       " 'lul',\n",
       " 'its like marios water nozzle in mario sunshine except when it runs out u can refill it',\n",
       " 'WELCOME TO THE KINGDOM EVERYONE. IF YOU ARE ENJOYING THE STREAM PLEASE DROP A FOLLOW. YOUR SUPPORT IS ALWAYS APPRECIATED kingrichLuv',\n",
       " 'its pretty balanced imo not very quick movement horizontally and all around balanced',\n",
       " 'take care u can take fall damge',\n",
       " 'lul',\n",
       " \"It's the new challenge thingy that is making that sound\",\n",
       " 'Does anybody told you that you look like PATRICE EVRA?',\n",
       " 'hugged NiTE_BoSS kingrichLuv (677 hugs have been given)',\n",
       " '@kingrichard who’s your favorite TSM member',\n",
       " 'can someone help me with making a bar graph pls',\n",
       " 'You playing in that pro am?',\n",
       " '@austn420millr Fuckin share bruh DansGame',\n",
       " 'hugged MexGoku kingrichLuv (678 hugs have been given)',\n",
       " 'does anyone else hit the target when harvesting mats? been playing fortnite since September and I just started doing that yesterday tfueDERP',\n",
       " 'More like Julius Randle',\n",
       " 'catch you later gonna play fortnite',\n",
       " 'hugged moss805 kingrichLuv (679 hugs have been given)',\n",
       " 'you better hit some sick plays wit the jetpack',\n",
       " 'Pharah lul',\n",
       " 'Are you playing in the pro am? @kingrichard',\n",
       " 'kappa',\n",
       " 'hugged CaptainSwagDaddy kingrichLuv (680 hugs have been given)',\n",
       " 'lul 4 rocket launchers and a jet pack @phoenixflare42',\n",
       " 'king richard with a jetpack and a bolt actionlullul lul',\n",
       " 'Amazon Prime members get a free Twitch subscription every month. Link Your Account Here: twitch.amazon.com/prime and subscribe to KR for free!',\n",
       " 'Noice',\n",
       " '@MissKitten lul',\n",
       " 'what\\'s the movie with the kid that hugs something and is like \" I love you\"?',\n",
       " '@NastyTwitch its like uhm. do you have discord youll see why im confused',\n",
       " 'In high explosives u could have hit a “justice rains from above with like 4 rpgs @kingrichard',\n",
       " '@kingrichard are you playing in the pro am, and if so, with who?',\n",
       " 'ez dub for tha king rn',\n",
       " '@MissKitten Nut Kreygasm kappa',\n",
       " 'assuming KR is a pro lul',\n",
       " 'lul',\n",
       " 'welcome to the......kingdom',\n",
       " 'what’s good. @kingrichard',\n",
       " 'noice snipe',\n",
       " '6 wins (22k, 10k, 20k, 17k, 18k, 15k)',\n",
       " \"@dannytheemu I think I'd end up throwing up then lul\",\n",
       " '@DannyTheEmu wus good',\n",
       " \"@HidingBadger they were the most popular team in the league, but kicked one of their best players due to pr misunderstandings, now they're just a laughing stock of the league\",\n",
       " 'theres no strats to this',\n",
       " 'gg',\n",
       " \"@phoenixflare42 im curious, do you purposely not @ me in chat because I don't like to be @ in discord? kappa\",\n",
       " '* kappa',\n",
       " '@chrisking25 yes',\n",
       " '@eggde yeah xqc was the only time they would win, harry hook is ass',\n",
       " 'Richard glad to see another black brotha succeed MindManners',\n",
       " '@L4dyKnights kappa',\n",
       " 'play splid gold @kingrichard',\n",
       " '@rapplegate77 are you good at making bar graphs',\n",
       " 'Press F to Pay Respects',\n",
       " 'rockets are always OP. but i still love it',\n",
       " 'Should I @ you more? kappa',\n",
       " '@phoenixflare42 lul',\n",
       " '@kingrichard missed my sub feels good bro',\n",
       " '@KingRichard Fairlight Excalibur is playing FH again, maybe its ur turn?? :P',\n",
       " \"@HidingBadger pretty much, they clearly watch his stream, considering that they used to quote it, but they didn't watch it enough to understand how his personality was\",\n",
       " 'lul',\n",
       " 'I WASNT WRONG',\n",
       " '@ItsRiddleZ Heya pog',\n",
       " 'Go off with that LMG just like ninja',\n",
       " 'Sup @phoenixflare42 pog',\n",
       " '6 wins (22k, 10k, 20k, 17k, 18k, 15k)',\n",
       " 'dude the jetpacks love you. this is epic telling you to make some plays',\n",
       " 'You’d better keep that LMG all game just like ninja in his 23 clutch 😂😂😂👌🏼',\n",
       " '@supaa14 lul',\n",
       " 'Amazon Prime members get a free Twitch subscription every month. Link Your Account Here: twitch.amazon.com/prime and subscribe to KR for free!',\n",
       " 'Like how a gold item drops like commons',\n",
       " 'jet packs are good',\n",
       " 'was playing for 3 hours and never found the jet pack ONCE PJSalt PJSalt',\n",
       " 'you ate to good for tiltted',\n",
       " 'fuckin never playin this game again lol these fucking players are so gey',\n",
       " 'think theyre good cause theyre trying as hard as they can haha',\n",
       " \"@phoenixflare42 i technically wasn't wrong cuz the team i guessed is co-owned by team envyus kappa\",\n",
       " 'yeah',\n",
       " 'I hope not @DannyTheEmu',\n",
       " 'no lol',\n",
       " '@L4dyKnights The Detective was right pog',\n",
       " 'that cool',\n",
       " 'and the shirt he was wearing that night was the dallas fuel shirt pog',\n",
       " '@L4dyKnights eat that edible to celebrate kappa',\n",
       " 'lul',\n",
       " 'pog',\n",
       " 'wow',\n",
       " 'OH yeah @L4dyKnights how was the eddy',\n",
       " 'Ok pog',\n",
       " 'EZ',\n",
       " '@L4dyKnights ah okay',\n",
       " 'huh wish my double pump was that quick... the game takes 10 years to switch for me',\n",
       " '@baukiingkenny agreed',\n",
       " '@KingRichard i join the shadow ops gang!',\n",
       " 'god',\n",
       " 'King and Jetpack pog',\n",
       " 'OMG AM I COOL IF I SAY pog?',\n",
       " 'lol',\n",
       " '@L4dyKnights be careful with homemade lolol',\n",
       " 'nice for what',\n",
       " 'probs laced with pcp kappa',\n",
       " 'kappa',\n",
       " '@L4dyKnights could be more fun than ever',\n",
       " 'If you enjoy the channel and want to support the dream FOLLOW, !SUBSCRIBE, or !DONATE THANK YOU!',\n",
       " '@trmesk nah i trust them plus they said they had some arleady and said it was good shit',\n",
       " '10,500+ amazing Subs supporting this amazing kingdom kingrichPKB kingrichLuv',\n",
       " 'pog',\n",
       " 'pog',\n",
       " 'good good !!!',\n",
       " 'Congrats King pog',\n",
       " 'wuts good!!!',\n",
       " 'congrats, moving on uppp.',\n",
       " '@KingRichard hopefully good internet there',\n",
       " 'Team house kappa',\n",
       " 'nice',\n",
       " 'You showed out in the tournament bro much love',\n",
       " 'cool thanks @matd20012001',\n",
       " '@MissKitten give it a good ole shave kappa',\n",
       " 'lul @phoenixflare42',\n",
       " '@KingRichard you payin straight cash homie/',\n",
       " 'Never heard of envy! Ill have to check em out. hope you have fun there Richard',\n",
       " 'lul',\n",
       " 'omg xD @itsriddlez',\n",
       " 'IM A GOD',\n",
       " 'yes',\n",
       " 'cheer100 hope you have a nice time at ur new place in TX and do you like the new jet pack',\n",
       " 'Perfect pog',\n",
       " '@kingrichard and it’s all thanks to your supporters',\n",
       " 'How do you like jet packs so far?',\n",
       " 'GOOD LORD',\n",
       " '10,500+ amazing Subs supporting this amazing kingdom kingrichPKB kingrichLuv',\n",
       " 'pog',\n",
       " 'gg borther',\n",
       " 'Congrats man!',\n",
       " \"@KingRichard I'm happy for you kingrichLuv kingrichLuv\",\n",
       " 'wow',\n",
       " 'jetpack is so much fun',\n",
       " 'his wife is mia khalifa lul',\n",
       " 'pog',\n",
       " 'pog',\n",
       " 'Who you got winning the finals',\n",
       " '@buuubbino are you okay?',\n",
       " 'EZ',\n",
       " 'why this shit so easy KR',\n",
       " 'Amazon Prime members get a free Twitch subscription every month. Link Your Account Here: twitch.amazon.com/prime and subscribe to KR for free!',\n",
       " 'ur god kr',\n",
       " 'triple pump lul',\n",
       " '3 pumps pog',\n",
       " 'fresh jetpack in tilted',\n",
       " '5 pumps is god tier',\n",
       " '@euraiah are you good at making bar graphs',\n",
       " 'that pick axe is sweet',\n",
       " 'is he playing in the friday tourney?????',\n",
       " 'u are better lol',\n",
       " '@Tuswift__ yes, teamed up with ninja again',\n",
       " 'Always room for improvement',\n",
       " 'bless you',\n",
       " \"I mean eh but there's a site that helps\",\n",
       " 'bless you',\n",
       " 'bless you',\n",
       " 'Bless a king',\n",
       " 'bless you sir',\n",
       " 'Bless you',\n",
       " 'BLESS U',\n",
       " 'Bless you',\n",
       " 'bless you! lul',\n",
       " 'bless your soul',\n",
       " 'bless u richard',\n",
       " 'lul',\n",
       " 'Bless you',\n",
       " 'bless u king',\n",
       " 'bless you',\n",
       " 'Bless you kind sir',\n",
       " 'GOD BLESS YER KING RICHARD',\n",
       " 'Bless you x2',\n",
       " 'Stay blessed @kingrichard',\n",
       " 'Bless u',\n",
       " '@ItsRiddleZ r u good at math',\n",
       " 'first win of the night or what people?',\n",
       " \"that's a pro, Always looking for ways to perfect your craft.\",\n",
       " '6 wins (22k, 10k, 20k, 17k, 18k, 15k)',\n",
       " '@packers21304 ok are you good at making graphs',\n",
       " 'Bless you😂',\n",
       " 'oh ok',\n",
       " 'EZ',\n",
       " '2 of the best for honor players now they took over fortnite! KR15xSYPHERPK',\n",
       " 'that is why i just stopped playing lol',\n",
       " 'ur to good for this game',\n",
       " 'ok look its not the graph itself @packers21304 its the variables',\n",
       " 'Ez work. Lemme help ya @dannytheemu',\n",
       " 'Low gravity game mode would be kinda cool :P',\n",
       " '10,500+ amazing Subs supporting this amazing kingdom kingrichPKB kingrichLuv',\n",
       " 'who won keemstar last week? is there another friday?',\n",
       " '@acusaurio my ping was 1100 earlier, at&t is god internet',\n",
       " '@KingRichard What is a good way to get connected with pro teams?',\n",
       " 'he isnt dae so theres no hairline reveal lol',\n",
       " 'Amazon Prime members get a free Twitch subscription every month. Link Your Account Here: twitch.amazon.com/prime and subscribe to KR for free!',\n",
       " 'u ever played sports?',\n",
       " 'Aye big plays here',\n",
       " 'just cause you black and wear a hat dont mean your hair is bad we love hats',\n",
       " '@packers21304 ok so, we have 26 # of Vital Capacity which is how much Volume of air you can inhale during a normal breath. and then we have male and female. this graph is supposed to compare M and F vs VItal Capacity but idk how to organize it',\n",
       " 'nightbot give me the link for linked my amazon account to twitch',\n",
       " '@hidingbadger pretty sure you can always send clips. They usually have a unique link',\n",
       " 'GG',\n",
       " 'What’s good with that jet pack you don’t like it?',\n",
       " 'u played sports?',\n",
       " '6 wins (22k, 10k, 20k, 17k, 18k, 15k)',\n",
       " 'Lme get a welcome to the kingdom @KingRichard',\n",
       " 'his real name is john cena lul',\n",
       " 'ive never seen someone exit the game so fast lol',\n",
       " 'do you have any tips on growing twitch channel?',\n",
       " 'an h play solid gold',\n",
       " 'good try bro',\n",
       " 'do you complet challenges',\n",
       " 'please',\n",
       " '@KingRichard will you in the future join solo scrims or thinking abt it',\n",
       " 'next time you play woth ninja build up as if you have a launch pad and jump with the jetpack lol @kingrichard',\n",
       " 'cheer100 how do you make clappin cheeks look so easy',\n",
       " 'u are the best men',\n",
       " 'Do you have any tips for growing twitch channel?',\n",
       " '6 wins (22k, 10k, 20k, 17k, 18k, 15k)',\n",
       " 'Amazon Prime members get a free Twitch subscription every month. Link Your Account Here: twitch.amazon.com/prime and subscribe to KR for free!',\n",
       " 'EZ',\n",
       " 'lul',\n",
       " 'wow',\n",
       " 'If you enjoy the channel and want to support the dream FOLLOW, !SUBSCRIBE, or !DONATE THANK YOU!',\n",
       " 'kingrichLaser2 kingrichLaser3 Every 100 subscribers we are giving away $25 in v-bucks! Stay tuned! Use !primesub or !sub to join the kingdom! kingrichLuv',\n",
       " 'king richard is good at fornit',\n",
       " '@cnettell10 congrats u can self advertise want a cookie?',\n",
       " 'DO YOU COMPLETE CHALLENGES?',\n",
       " '10,500+ amazing Subs supporting this amazing kingdom kingrichPKB kingrichLuv',\n",
       " '@SilverHazeOG yoo pog',\n",
       " 'gg',\n",
       " 'lul',\n",
       " 'lol gg get rekt',\n",
       " '1hp and a dream',\n",
       " 'lul',\n",
       " 'lul',\n",
       " 'LOL',\n",
       " 'Whiskey Rich??',\n",
       " 'Whats good KR',\n",
       " '6 wins (22k, 10k, 20k, 17k, 18k, 15k)',\n",
       " 'yo king, u da best brother',\n",
       " 'Favorite skin so far?',\n",
       " 'You shouldve played it safe and built a wall after the first pump shot',\n",
       " 'welcome to the kingdom',\n",
       " 'love u @kingrichard',\n",
       " '6 wins in an hour? ??',\n",
       " 'Heya guys :)',\n",
       " 'gg',\n",
       " 'i will donate 100 dollars if you slap yourself in the face',\n",
       " \"why don't u land pleasent no more?\",\n",
       " '@kingrichard any tips for winning solos I destroy kids in duos and squads but I seem to be in a huge slump in solos I’m top 1% in duos and squads idk what to do man',\n",
       " \"DON'T LAND TILTED\",\n",
       " 'who won rockets or gsw?',\n",
       " 'yoo whats good king @KingRichard',\n",
       " 'rockets won',\n",
       " 'Lmao',\n",
       " 'Favorite skin so far?',\n",
       " 'lol',\n",
       " 'you wont drop junk...you wont',\n",
       " 'ok ty',\n",
       " 'ok chat',\n",
       " 'kingrichLaser2 kingrichLaser3 Every 100 subscribers we are giving away $25 in v-bucks! Stay tuned! Use !primesub or !sub to join the kingdom! kingrichLuv',\n",
       " 'Do the orange justice dance richard',\n",
       " '@KingRichard love the streams with calvin man so entertaining',\n",
       " 'good look chat',\n",
       " 'we should get a win counter on the screen',\n",
       " 'We cant type for a lil kappa',\n",
       " 'Amazon Prime members get a free Twitch subscription every month. Link Your Account Here: twitch.amazon.com/prime and subscribe to KR for free!',\n",
       " 'yes king',\n",
       " 'Yo rich wassup',\n",
       " '@KingRichard are you planning to join solo scrims in the future?',\n",
       " 'Mr clean',\n",
       " 'Amazon Prime members get a free Twitch subscription every month. Link Your Account Here: twitch.amazon.com/prime and subscribe to KR for free!',\n",
       " 'yo who play h1z1?',\n",
       " 'Favorite rapper?',\n",
       " 'gg',\n",
       " 'You really like that shadow ops, huh?',\n",
       " '6 wins (22k, 10k, 20k, 17k, 18k, 15k)',\n",
       " 'in your opinion who is the best builder',\n",
       " '@KingRichard ur a god in pleasant',\n",
       " '@L4dyKnights lul',\n",
       " 'like how crazy is that',\n",
       " 'Lol',\n",
       " '@l4dyknights pass whatever you got lul',\n",
       " 'Sounds like a great time @l4dyknights',\n",
       " 'lmao',\n",
       " 'Your just a god in general don’t worry lol',\n",
       " '6 wins (22k, 10k, 20k, 17k, 18k, 15k)',\n",
       " 'wait we have 6 wins arleady?',\n",
       " '@L4dyKnights im done with you.lulI was ready for a serious message',\n",
       " 'Hello to my favorite chat on twitch',\n",
       " 'honestly i dont have an opinoin on what one is better lol, i just wanted to stir the pot lol',\n",
       " '@l4dyknights im skeptical about the 6 wins lol',\n",
       " '@garyin705 people handle it differently. I normally just take a day or two break and or play something else',\n",
       " 'Sometimes you gotta clap dragon cheeks Kreygasm',\n",
       " 'How to get better at using picaxe? nickmercsAMPZ lul',\n",
       " '@L4dyKnights got any other good clips',\n",
       " 'Kreygasm Kreygasm Kreygasm Kreygasm',\n",
       " 'lul lul',\n",
       " 'Kind Richard is the god',\n",
       " 'for real though chat.. what is the best skin in fortnite? ... go',\n",
       " '@bigkc89 just get in same solo as friend and find a trap',\n",
       " '@bigkc89 yeah it feels like as soon as that ad the challenge I can’t get any trap kills',\n",
       " 'who here is good at biology',\n",
       " 'ty',\n",
       " '@ItsRiddleZ how considerate kingrichLuv',\n",
       " 'biology was the only class I aced in high school lmao',\n",
       " 'best skin in fortnite chat?',\n",
       " 'nice clip @L4dyKnights kappa',\n",
       " 'thanks',\n",
       " 'Is that your favorite skin @kingrichard ?',\n",
       " '@L4dyKnights never played that game or understood it, but from what i can tell he did something very awesome',\n",
       " 'Lol just build',\n",
       " 'My Fav Skin is Tricera Ops',\n",
       " \"@motivatedkid don't ever play lazy\",\n",
       " 'I was gonna buy it yesterday, i couldnt decide if it was worth 20 or not @JCasH_ThaGoaT',\n",
       " 'whos the best brown streamer kappa',\n",
       " 'That for honor clip is lit',\n",
       " 'You And Dae the best',\n",
       " 'Who is the best Pakistani streamer?',\n",
       " '@farhanpathan1160 omegalol',\n",
       " 'Love the stream bro',\n",
       " '@kingrichard best 27% gay streamer on the planet',\n",
       " '@t4trust It’s def worth it , although I think the set is too expensive. 1200 vBucks for a Pickaxe ? Come on',\n",
       " 'ah, thanks ag',\n",
       " '@MissKitten go to sleep and hopefully itll go away',\n",
       " '@twitchutah np man',\n",
       " 'was good chat',\n",
       " 'Jk',\n",
       " 'You and Daequan the best Black streamers',\n",
       " '@austn420millr <3',\n",
       " '@joemap43 yes every friday',\n",
       " 'yea :/ if there is no other skin that comes out soon that i like ill spend my vbucks on her i think. but yeah that pickaxe is overpriced for sure.',\n",
       " 'Amazon Prime members get a free Twitch subscription every month. Link Your Account Here: twitch.amazon.com/prime and subscribe to KR for free!',\n",
       " 'it smells like updog @KingRichard',\n",
       " 'whos good at biology',\n",
       " 'What’s your favorite skin?',\n",
       " 'so glad i have no work tomorrow. i can stay up 💯💯',\n",
       " 'i need to get a new pickaxe though @JCasH_ThaGoaT i also hope u saw my last message because i forgot to tag u in there',\n",
       " '@dannytheemu why you always in here acting like a doctor telling people medical advice',\n",
       " 'Pay to win?',\n",
       " 'Why don’t you like tfue?',\n",
       " '@Jaysontatumthegoat does king holding back tfue? lol clearly you just hatin on king',\n",
       " 'Wow',\n",
       " '@kingrichard why don’t you like tfue?',\n",
       " '@dannytheemu yes you do',\n",
       " 'Whats good Rich King? @kingrichard',\n",
       " '@twitchcruelty he does but dosent like the language he uses',\n",
       " 'it like a storm tracker radar',\n",
       " 'LOS POLLOS Is the best black streamer then King',\n",
       " 'what new backpack chat please',\n",
       " 'Wow',\n",
       " 'lol',\n",
       " 'lmao',\n",
       " 'What’s good king',\n",
       " '@kingrichard any tips for winning solos I destroy kids in duos and squads but I seem to be in a huge slump in solos I’m top 1% in duos and squads idk what to do man',\n",
       " 'gg',\n",
       " 'is this your fav female skin?',\n",
       " '@deathknight1 that was a joke yesterday.........',\n",
       " '@silverhazeog children lmfao',\n",
       " '@t4trust it was clearly accidental but he does have to be more conscious of what he’s saying',\n",
       " '@KingRichard gg',\n",
       " 'youre lucky i play ps4 rich ... youre my fav streamer but id still have to give you the smoke',\n",
       " '@deathknight1 i barley do that tho tbh so maybe only yes and today i did',\n",
       " '@kingrichard would u mind playing yes indeed anytime soon? Love the song!',\n",
       " 'Bro I’m a Christian but honestly rhinocrunch annoyed me',\n",
       " 'yeah',\n",
       " 'interesting',\n",
       " \"Wow I'm late to the party.....\",\n",
       " \"@Jaysontatumthegoat ok bud, we're not worried about that in this chat. So just chill, watch and learn\",\n",
       " '@KingRichard how can you start without drinking your mountain dew kickstart? Use PromoCode KingRichard15 kappa',\n",
       " 'make tilted great again',\n",
       " 'lul',\n",
       " 'your doing great rich lets get it',\n",
       " 'You playing in the tournament again?',\n",
       " 'just won my first squads and then won 2 more. feels good man',\n",
       " '10,500+ amazing Subs supporting this amazing kingdom kingrichPKB kingrichLuv',\n",
       " 'oof 700k, congrats',\n",
       " 'so what is the deal with b dubs? are the wings good? i fux with the fried pickles.',\n",
       " 'Congrats king! Big fan!',\n",
       " 'Another one kappa',\n",
       " '@L4dyKnights \"something went wrong\" That\\'s all I see lmao',\n",
       " '@deathknight1 and for vitamin D i was just saying that going in the sun helps which is true',\n",
       " '@deathknight1 That\\'s what I tell my patients, \"I\\'m gonna be right back, let me check the Googles.\" kappa',\n",
       " 'i was just tryna help',\n",
       " 'its not like they gonna listen anyways lmfao',\n",
       " 'Jetpack is fun',\n",
       " 'whole meta of game revolves around high ground, and they make a random item drop that gives players an easy means of getting high ground. lul',\n",
       " 'you r an easy target using the jetpack',\n",
       " '@buckshotboyz thats quite a list there but didnt name anything not fire',\n",
       " \"@Schwarzes_Schafer So you're Web MD? kappa\",\n",
       " '@dannytheemu but googled the anwser you have to be right correct I mean Google cant be wrong so if you give advice and they use it and get worse you not at fault right',\n",
       " 'the jetpack really isnt that big of a deal lol',\n",
       " '@deathknight1 dude like i said',\n",
       " '@deathknight1 those arent serious problems',\n",
       " 'Pharah pog',\n",
       " \"what's good king rich\",\n",
       " 'pog pog',\n",
       " 'More minis up top I think',\n",
       " 'pog',\n",
       " 'clip that',\n",
       " 'if the fuel was only unlimited, lol',\n",
       " '@kush177 second favorite hybrid behind girl scout cookies',\n",
       " 'I love dis richard boyz :D',\n",
       " 'If you enjoy the channel and want to support the dream FOLLOW, !SUBSCRIBE, or !DONATE THANK YOU!',\n",
       " '@Schwarzes_Schafer wait till Sav hears about this kappa',\n",
       " 'EZ',\n",
       " 'i like men',\n",
       " 'Kreygasm Kreygasm Kreygasm',\n",
       " 'nice',\n",
       " 'Great play my dude',\n",
       " 'need a bunch of rocket launchers and you can cosplay pharah LOL @KingRichard',\n",
       " 'pog pog',\n",
       " '@phoenixflare42 Not unless I tell her first kappa',\n",
       " 'You playing in the tournament again?',\n",
       " '@KingRichard how can i aim good with shotgun please ?',\n",
       " 'nice shot',\n",
       " '6 wins (22k, 10k, 20k, 17k, 18k, 15k)',\n",
       " \"yes. he's playing with ninja in the tournament again\",\n",
       " \"I'm not racist, kingrichard is my fav streamer\",\n",
       " '@chizzkram lmao',\n",
       " '@deathknight1 DUDE I WAS JUST TRYNA HELP BibleThump',\n",
       " 'Amazon Prime members get a free Twitch subscription every month. Link Your Account Here: twitch.amazon.com/prime and subscribe to KR for free!',\n",
       " 'LMAO',\n",
       " 'kappa',\n",
       " 'lul',\n",
       " 'lul',\n",
       " 'lmao',\n",
       " 'lul',\n",
       " 'lmfao',\n",
       " 'brooooooooo lmfao',\n",
       " 'lul',\n",
       " 'lul',\n",
       " 'lul',\n",
       " 'omg, lol',\n",
       " 'lul',\n",
       " 'Lmao',\n",
       " 'Lmao',\n",
       " 'clip it lul',\n",
       " 'played',\n",
       " 'TRISHA CALM DOWN',\n",
       " 'dope lol',\n",
       " 'lul',\n",
       " 'Lmao',\n",
       " 'What’s good',\n",
       " 'Ok?',\n",
       " 'congratulations u played yourself',\n",
       " 'wait do you like the jet pack @KingRichard',\n",
       " 'lul',\n",
       " 'Clip it!',\n",
       " \"@DannyTheEmu It's Tylenol. Regular strength Tylenol. Here's what you do. You take a handful of pills, open your mouth and throw them in. Whatever sticks, that's the correct dosage.\",\n",
       " '@dannytheemu lmao just trying to help yoy not kill people my bad wont happen again',\n",
       " 'Never there when you want it',\n",
       " '@QUEENxyZEE -> The command \"!wins\" has been edited successfully.',\n",
       " '@Schwarzes_Schafer lul',\n",
       " 'pogpogpog pog',\n",
       " 'lul',\n",
       " '0 wins',\n",
       " 'EZ Clap',\n",
       " 'It seems as if the jet packs are pretty balanced',\n",
       " 'WELCOME TO THE KINGDOM EVERYONE. IF YOU ARE ENJOYING THE STREAM PLEASE DROP A FOLLOW. YOUR SUPPORT IS ALWAYS APPRECIATED kingrichLuv',\n",
       " 'why people like ninja?',\n",
       " 'u better than ninja rn',\n",
       " \"Don't forget to use campfire KingRichard\",\n",
       " 'he play with some pleb',\n",
       " \"@dannytheemu lmao just trting to help you man I'm sorry\",\n",
       " 'LMAO',\n",
       " 'King, are you drinking tonight? seemed like it there...',\n",
       " 'lul',\n",
       " 'lol',\n",
       " 'ok',\n",
       " 'ping 3 one of my wishes',\n",
       " 'EZ Clap',\n",
       " 'lul',\n",
       " 'Lol',\n",
       " 'lul',\n",
       " 'lol',\n",
       " 'lul',\n",
       " '@Schwarzes_Schafer ok Sir',\n",
       " 'beeee careful',\n",
       " 'Did you see Dakotaz and Ninja play last night?',\n",
       " 'I recognized Allthework guy he is playing with... not the others though',\n",
       " 'lul',\n",
       " 'Lmao BE CAREFUL',\n",
       " 'beeeeee careful',\n",
       " 'beeeee Careful',\n",
       " 'be careful',\n",
       " '@dannytheemu what I told you yes lmao',\n",
       " 'BEEE CAREFUL lul',\n",
       " 'kingrichLaser2 kingrichLaser3 Every 100 subscribers we are giving away $25 in v-bucks! Stay tuned! Use !primesub or !sub to join the kingdom! kingrichLuv',\n",
       " 'great duo',\n",
       " 'Wildcat is your replacement lol. He can’t stand being without u',\n",
       " 'I’m delayed rn so I just saw the chat flood with kingrichSnipe then I saw the snipe lol',\n",
       " '@deathknight1 ok',\n",
       " 'yeah ninja is replacing you with dakotaz',\n",
       " 'just kidding',\n",
       " 'They played together?',\n",
       " 'U can eat apples :P',\n",
       " 'Ads lul',\n",
       " 'myth is that u lul',\n",
       " 'All the work dude? he plays with Dr. Lupo and timthetatman',\n",
       " 'Ninja played with TimTatMan earlier too it was funny',\n",
       " 'lol yes @wickerslicklickermcdicker',\n",
       " 'Ez',\n",
       " '@IdipUdipWEdip lul',\n",
       " 'EZ',\n",
       " 'Yoo Richard it’s kadar so happy for you bro, all this time never even put it together that it was you',\n",
       " 'i think he was tryna edit your stairs lol',\n",
       " 'can someone who knows a lot about affiliate program please whisper me and help me',\n",
       " '@kush177 op was butthurt ninja didn’t want to play duos w him but then sees his playing with Dakota moments later... duos lmao',\n",
       " 'I have a dream ...',\n",
       " 'Jetpack is straight broken lol',\n",
       " 'You ready for the tourney this weekend?',\n",
       " 'jetpack isnt broken. taking 1 slot is huge',\n",
       " '@dannytheemu no sorry but yes it annoys me when I see someone sprewing what ever they googled attempting to seems intelligent when for all they know they could be injuring people',\n",
       " 'epic is actually so good with balancing',\n",
       " '@deathknight1 i legit was never trying to seem intelligent',\n",
       " '@DannyTheEmu yikes T_T you gonna invent some nanotechnology in the future for us plebs? xD',\n",
       " 'i like that they dont auto refill fuel',\n",
       " 'i mean in a game where high ground is so good jetpacks are powerful by default',\n",
       " 'its good but i think they will remove it and tweak it.... if they keep it at all',\n",
       " '@halloway I have to agree. So many things that could or would be op out of control without he effort they are putting in',\n",
       " \"it's an interesting concept though. utility Slot for belt\",\n",
       " 'hitting people that use jetpacks is really easy if they arent careful. and it makes you give up either double shotgun or utility',\n",
       " 'Tactical has better spread',\n",
       " '@KingRichard did you see the rocket ride jetpack clip with Lupo and Ninja',\n",
       " 'Amazon Prime members get a free Twitch subscription every month. Link Your Account Here: twitch.amazon.com/prime and subscribe to KR for free!',\n",
       " 'stairway to heaven with jetpack waaaaay to OP',\n",
       " 'True',\n",
       " 'ok',\n",
       " 'Tac better than heavy too',\n",
       " 'Is this solid gold?',\n",
       " 'tac is better while editing to',\n",
       " '@Schwarzes_Schafer Better than you kappa',\n",
       " 'gg',\n",
       " 'i think a bit less gas on the jetpacks and its all good',\n",
       " 'In high level play though the jet pack exposes you in the air',\n",
       " 'u can afford to build so high with the pack lul',\n",
       " '@deathknight1 but 1 pill of tylenol cannot kill someone',\n",
       " \"I still don't understand how to double pump on console. The old double pump definitely worked but I don't really notice the benefit now.\",\n",
       " '@zamb11 Yes but that means nothing when people can counter good builders by holding space bar and flying through the air using double pump and rpgs. Its not good for the game.',\n",
       " 'pog',\n",
       " \"@QueckMaths can you explain more of this. I'm interested. ninjaPopcorn\",\n",
       " '10 story 1x1 with jetbacks tholullul lul',\n",
       " 'Ok thanks!',\n",
       " '@KingRichard i just did a 278 m snipe today learned from the best. keep it up',\n",
       " \"@SilverHazeOG because he's a god\",\n",
       " 'KreyGasm',\n",
       " 'pog',\n",
       " 'Richard do you play off stream?',\n",
       " 'tsm tower lol',\n",
       " 'Like pc',\n",
       " 'Is this solid gold?',\n",
       " 'how could this be solid gold',\n",
       " '@Jh_Swipes are u kidding me, lol',\n",
       " 'Yes that’s why he has rates',\n",
       " '@jh_swipes yess yes it is',\n",
       " 'is this solid gold he asked..',\n",
       " 'Lmao',\n",
       " 'ITS SOLID GOLD EVERYONE',\n",
       " 'be careful',\n",
       " 'dude thought he was smart',\n",
       " 'lul',\n",
       " 'Yes so happy he’s playing solid gold',\n",
       " '@austn420millr stfu u probably have 0 wins',\n",
       " '@Jh_Swipes lol',\n",
       " 'When’s the next drinking stream rich? 🍻🍻🍻',\n",
       " '@Jh_Swipes lmao',\n",
       " '@zRaida Bullshit lol. Its like having a portable hop rock and nobody likes them',\n",
       " 'kingrichLaser2 kingrichLaser3 Every 100 subscribers we are giving away $25 in v-bucks! Stay tuned! Use !primesub or !sub to join the kingdom! kingrichLuv',\n",
       " 'some people dont know u can shoot with a jetpack',\n",
       " '0 wins',\n",
       " \"what's good @kingrichard\",\n",
       " 'he shotgunned him? lol',\n",
       " '@big_e_cheese lmao I just said it to make the chat angry hahaha',\n",
       " 'lul',\n",
       " '@darthwishh it’s laughable that you guys are pretending it’s a big deal. They are so slow it’s a joke. Any good player with a good shot and decent build can counter that crap',\n",
       " 'is this high explosives? lul',\n",
       " '@L4dyKnights lul',\n",
       " 'Finally your playing 50v50 🤣',\n",
       " 'lul',\n",
       " 'is this solid gold?',\n",
       " '@DarthWishh A good builder wouldnt die from a jetpack, is make you so easy to kill while youre floating in the air.',\n",
       " '@L4dyKnights 15 months pog',\n",
       " 'Anyone know if this is solid gold mode',\n",
       " 'he just bailed lul',\n",
       " '@big_e_cheese can we be best friends now?',\n",
       " '0 ping lul',\n",
       " '@babablue3 he clearly has blue tac',\n",
       " 'If this was solid gold he would have all gold',\n",
       " \"@deathknight1 Usually Tylenol is a pretty good option for sensitive stomachs because it's not an NSAID (Google that) so it's usually a bit easier for the stomach and digestive track to handle.\",\n",
       " '@darthwishh I can see it being annoying in a comp setting with loads of good players using them. Agree with that. Regular game... I don’t think it’s gonna be that big of a deal',\n",
       " 'lul',\n",
       " '@Squid000000 well ABVIOUSLY',\n",
       " 'this is one strong rat',\n",
       " '@kush177 just been donoing to king lol',\n",
       " 'GG',\n",
       " '@zRaida Basically yeah. In normal it wont be too much of an issue',\n",
       " 'gg',\n",
       " 'Shadow Gang bitch. Easy wins ez life. shroudInsane shroudInsane shroudInsane',\n",
       " 'gg',\n",
       " 'gg',\n",
       " 'lol',\n",
       " 'EZ Clap',\n",
       " 'GG',\n",
       " 'gg',\n",
       " 'He really wanted to win',\n",
       " '@DannyTheEmu for the challenges',\n",
       " '@QUEENxyZEE -> The command \"!wins\" has been edited successfully.',\n",
       " 'Wow',\n",
       " 'its for the challenge',\n",
       " 'weekly challenge',\n",
       " 'GG',\n",
       " 'how do u use the jetpack boys. like how do u equip it',\n",
       " 'GG rich!',\n",
       " 'solo squad please bro @KingRichard',\n",
       " 'Gg',\n",
       " 'lul',\n",
       " 'at least he tried taking hg for a bit lol',\n",
       " 'best skin',\n",
       " 'pog',\n",
       " \"what's good @kingrichard\",\n",
       " '@fludd95 @agarioisfunzoo oh so i just hold jump? how about if i wanted to jump normally? i tap it like normal?',\n",
       " 'yep',\n",
       " '1 wins (15k)',\n",
       " '@unchartedboom yep',\n",
       " '@trmesk a better man than i',\n",
       " 'cool ty',\n",
       " 'EZ Clap',\n",
       " 'lul',\n",
       " \"as of right now, there's no one who's actually good with the jetpack so it just seems like more of a hinderance than a good pick to me. i guess it just has a huge learning curve\",\n",
       " '10,500+ amazing Subs supporting this amazing kingdom kingrichPKB kingrichLuv',\n",
       " 'AVA lul',\n",
       " 'Hey Richard you like the jet pack?',\n",
       " 'King rich Pats or Genos?',\n",
       " \"i think he's happier now\",\n",
       " 'Amazon Prime members get a free Twitch subscription every month. Link Your Account Here: twitch.amazon.com/prime and subscribe to KR for free!',\n",
       " 'good for him',\n",
       " 'what is even happening with you two its been like 45 minutes',\n",
       " 'What region do u play on',\n",
       " \"that's a great story honestly\",\n",
       " 'lul',\n",
       " 'Damn trust the process! Glad you’re where you’re at brother',\n",
       " 'Love your content',\n",
       " '1 wins (15k)',\n",
       " '@deathknight1 ok whatever idgaf anymore im just not gonna tell people suggestions',\n",
       " 'your welcome for my tax dollara bye glad you made it!',\n",
       " 'lol Los subs WaitWhat',\n",
       " 'I feel like im playing cod now',\n",
       " 'the plebs are free?',\n",
       " 'Bet is saves on gas lol',\n",
       " '@dannytheemu thank you for not hurting people with ignorance',\n",
       " 'dude i worked in an office for 3 months then our lease ran out and ive been working from home since, i am praying we dont get a new office lol',\n",
       " 'working from home is toooooo good',\n",
       " '@deathknight1 Clap',\n",
       " 'working from home is half the reason I chose to work in IT lol',\n",
       " 'did he win',\n",
       " \"which is ok cuz im going into software dev'\",\n",
       " 'lol',\n",
       " '@QUEENxyZEE queeeeeeeeeeen <3',\n",
       " 'kappa',\n",
       " '@queenxyzeepogpog pog',\n",
       " '@dannytheemu Dannyyyy!!! <3 How you?',\n",
       " '@FatDidz if youre good with tech stuff getting a certificate is a much cheaper option that can still get you a job',\n",
       " '@big_e_cheese you’re good just making sure',\n",
       " '@jaystheory thats for the support',\n",
       " 'yo you look like stevethegamer55',\n",
       " '@QUEENxyZEE im good queen thanks for asking, how are you?',\n",
       " \"@Rhalon if i had degree money that'd be another story. Lol\",\n",
       " 'lul',\n",
       " '@deathknight1 not a fucking death pill',\n",
       " 'If you enjoy the channel and want to support the dream FOLLOW, !SUBSCRIBE, or !DONATE THANK YOU!',\n",
       " '@QUEENxyZEE i got to play fortnite without raging lul',\n",
       " 'You two are ridiculous lul',\n",
       " 'lul',\n",
       " '@dannytheemu I’m doing pretty good, kinda got a headache tho. <3',\n",
       " '@QUEENxyZEE ok dont take any medicine',\n",
       " '@QUEENxyZEE get better tho',\n",
       " '@QUEENxyZEE Pop some Tylenol kappa',\n",
       " '@gadgetmanty You sure? Lol. I gotta see for myself.',\n",
       " 'r u da quin? lul',\n",
       " 'kappa',\n",
       " 'Good start',\n",
       " '@QUEENxyZEE go check pog',\n",
       " 'Tylenol is da solution',\n",
       " 'i have to go get another D:',\n",
       " 'Is H1Z1 fun cause I’m downloading it on PlayStation right now and I just want to know if it’s fun',\n",
       " '@gadgetmanty I will in a few lol',\n",
       " '@drewyeets it’s alright',\n",
       " \"@queenxyzee about to take a break so I don't ban someone ;p\",\n",
       " 'yeah way better than pubg on xbox @DrewYeets',\n",
       " 'Lmfaooo fax kappa',\n",
       " '@DrewYeets NOT EVEn full screen lul',\n",
       " 'Nice 5 subs!',\n",
       " \"@QUEENxyZEE In fact, I'll help you out. Take a handful of pills and throw them in your mouth. Whatever sticks, there you go kappa\",\n",
       " 'quit job and try to be pro fortnite player for 100 mil kappa',\n",
       " 'I love your channel',\n",
       " 'pog',\n",
       " '@KingRichard I dont think you get enough credit/attention man. I alway sfeel like you should have more viewers when your on bro. Keep it up',\n",
       " '5 subs lul',\n",
       " 'i love you nightbot, i apreciate your tips and everything',\n",
       " '@deathknight1 Please don’t.. He’s on of my favorites. Take a break! <3',\n",
       " 'unless you live in moms basement xD',\n",
       " '@Schwarzes_Schafer lul',\n",
       " 'reaching for the limits',\n",
       " '@schwarzes_schafer Y’all gotta chill.. Lmao. lul',\n",
       " 'this months rent lmao',\n",
       " '@queenxyzee lol I dont ban people for making me angry ;p',\n",
       " '@KingRichard oh i know bro, but i want you to get up there bro. thats all im saying',\n",
       " 'Yo same rich is my favorite',\n",
       " '@drewyeets its fun... breath of fresh air frm fortnite',\n",
       " '@xxgoldenscarxx lol is bots what you call little kids ;)',\n",
       " 'Lmfao I like how subs call people who aren’t subs plebs 😂😂',\n",
       " 'yes lop',\n",
       " 'love yah rich kingrichLuv',\n",
       " 'Yo don’t compare yourself to ninja your better then he his',\n",
       " '1 PING the DREAM ...',\n",
       " 'cause Ninja is fantastic at this game?',\n",
       " '@AirBigRooster i love your positivity',\n",
       " '@deathknight1 How are you feeling tho? Ready to go back to work?',\n",
       " '@KingRichard You playing in fridays tourney?',\n",
       " 'you are good its like hip hop, people go to the cloud',\n",
       " 'I like ninja but in charity stream Lupo raised much more with 25% of the viewers',\n",
       " '@kingbxom i guess so. they need to fix that, and then allow you to adjust the graphics on it',\n",
       " '10,500+ amazing Subs supporting this amazing kingdom kingrichPKB kingrichLuv',\n",
       " 'Amazon Prime members get a free Twitch subscription every month. Link Your Account Here: twitch.amazon.com/prime and subscribe to KR for free!',\n",
       " 'love ya man❤❤❤❤❤',\n",
       " 'EZ',\n",
       " '@deathknight1 not give me some explination on me trying to help someone so im sorry',\n",
       " '@dannytheemu I was reading.. Its okay.. Just leave it please! <3',\n",
       " '@deathknight1 are we good now?',\n",
       " 'Cuz you good boi',\n",
       " 'Great counter build',\n",
       " '@kingrichard I love you so much rich. I started watching you a couple months ago, and your positivity got me through a tough time when my mom died from cancer. Keep up the good work #braverstrongerloved',\n",
       " 'How do u suggest I get better at fortnite',\n",
       " 'is this solid gold?',\n",
       " 'lul',\n",
       " \"Definetly. if Dr. Lupo and Ninja playing at the same time it's the same.\",\n",
       " '@deathknight1 Thank you.. & Did it go well?',\n",
       " 'lol its exactly 60%',\n",
       " \"well I'm here #LOYALTY\",\n",
       " 'I love Ninja but hes become so boring without the rage, trash talk, and now hes playing so passive',\n",
       " 'its all love',\n",
       " 'I thoroughly enjoy watching you way better than watching ninja. He’s good but I think he’s overrated at fortnite',\n",
       " 'ninja has a good personality and is fun to watch.....you are good also....sypher seems like an ass....lupo is kind of dry and boring',\n",
       " '@god_faux they are the center of the circle! New challenge for this week',\n",
       " '@KingRichard I went on a trip who won the 2v2 tourney',\n",
       " 'Lol not a chance I watch you over ninja every time',\n",
       " '@IMarceo god bless',\n",
       " '@KingRichard are you excited for friday!?',\n",
       " 'pog',\n",
       " \"@dannytheemu then just talk to other people leave me alone queen ask me go be nice I'm not nice so\",\n",
       " 'word thanks',\n",
       " '@ausar00 lul',\n",
       " 'I know I did . Now you’re my favorite gay streamer behind HoodGaming',\n",
       " '@deathknight1 That’s great!! I’m glad to hear!! <3',\n",
       " 'My favorite streamer is me kappa',\n",
       " 'i like you better than ninja',\n",
       " 'I admit at first you were getting hosted but now you play less and less with ninja and your getting a fan base',\n",
       " '@KingRichard im loyal to u brother since for honor days',\n",
       " '10,500+ amazing Subs supporting this amazing kingdom kingrichPKB kingrichLuv',\n",
       " '@sebastianvonryan sypher is super cool bro',\n",
       " 'JP pog',\n",
       " 'I want some seafood salad',\n",
       " \"ninja is good dont get me wrong. he's just a little too hyper/all over the place for my taste. i like ur stream cuz its a little more chill/mellow.\",\n",
       " 'pog',\n",
       " 'McDonald’s internet at its best keeps freezing',\n",
       " 'I started watching you from when you played with summit @kingrichard',\n",
       " '@dannytheemu good, how you know me?',\n",
       " '@ausar00 im ur main hoe kappa',\n",
       " 'Go to do the challenge',\n",
       " 'you and dakotaz play well together',\n",
       " '@kingrichard I love you so much rich. I started watching you a couple months ago, and your positivity got me through a tough time when my mom died from cancer. Keep up the good work #braverstrongerloved',\n",
       " 'pog',\n",
       " '@queenxyzee I have one last surgery in 4 months hope to be the last',\n",
       " 'I think KR is better than ninja and Daequan is to in my own opinion',\n",
       " 'i found you from playing with calvin loved ur streams ever since i tuned in!',\n",
       " 'KR and Ninja OG double pump was the best',\n",
       " 'i like your vibe, its more tchill',\n",
       " 'hopefully you and Ninja rock kids this Friday',\n",
       " '@connorwb07 sorry to hear that brother. awesome u doing well now man.',\n",
       " 'Play H1Z1 KingRichard',\n",
       " \"@nydesel71 yeah people say that....I am just giving my impression on how he comes across stream....something about him bugs me and I can't watch him for more than 10 min before I go somewhere else\",\n",
       " 'It’s all about whos betterlulwho cares watch who you like',\n",
       " 'you need glasses lol',\n",
       " 'jetpack wow',\n",
       " '@kingrichard I love you so much rich. I started watching you a couple months ago, and your positivity got me through a tough time when my mom died from cancer. Keep up the good work #braverstrongerloved',\n",
       " 'lullullul RATlullul lul',\n",
       " 'Hey rich hey chat hows everyone doing',\n",
       " 'i ended up here bcuz KR was top when ninja wasnt on, he usually is',\n",
       " 'Play H1Z1 KingRichard',\n",
       " 'wow you got a Jetpack again',\n",
       " 'EZ extermination',\n",
       " 'omg, the jetpack, lol',\n",
       " '@deathknight1 Awww, I hope so too!! <3',\n",
       " 'lul',\n",
       " 'if you call the jetpack OP you have less than 30 wins and most of those are in squads.',\n",
       " \"I don't like watching ninja squad. Only time i watch ninja is when he is in super competitive mode which is rare\\\\\",\n",
       " '@SilverHazeOG i mean yeah but maybe be less of an asshole about it',\n",
       " 'double 9ers on that pump xD',\n",
       " 'jetpack is fun to use though',\n",
       " 'I found u from ninj, and like you so much more. keep er goin my man',\n",
       " 'jet pack is not op at all its actually pretty balanced',\n",
       " 'KR is good to watch....I watch for more than just gameplay....the conversations and engaging the audience helps keep me watching',\n",
       " 'I thought the ketpack was wack but KR makes it look good',\n",
       " 'Richard i prefer your content over anyone. Keep up the good work <3',\n",
       " 'epic its way must better than EA',\n",
       " 'I usually workout while i watch your stream haha',\n",
       " '@deathknight1 A divorce? Ohh no.. That sucks. & I’m due time everything will work out in your favor! <3',\n",
       " 'they should get rid of hop rocks if they want to keep the jetpack',\n",
       " '@airbigrooster Yes?',\n",
       " '@deathknight1 im 16 so ignore the shit i say',\n",
       " 'PLAY NINJJA',\n",
       " '@queenxyzee she forgpt she signed a prenup so not exactly rhe worse',\n",
       " 'lul',\n",
       " 'omegalol',\n",
       " '@austn420millr that calzone gettin to ya? kappa',\n",
       " 'lul',\n",
       " 'lul',\n",
       " 'that was a good fight',\n",
       " '@deathknight1 Lol well good for you.',\n",
       " 'respect to that guy pushing the king, poorly executed',\n",
       " 'Amazon Prime members get a free Twitch subscription every month. Link Your Account Here: twitch.amazon.com/prime and subscribe to KR for free!',\n",
       " 'Root beer is the best soda.. don’t @ me',\n",
       " 'lets go rich',\n",
       " 'I will donate -100 dollars if you win',\n",
       " 'Alright chat',\n",
       " 'good hit',\n",
       " 'If you enjoy the channel and want to support the dream FOLLOW, !SUBSCRIBE, or !DONATE THANK YOU!',\n",
       " 'wait the better question is why your phone or PC doesnt have the date',\n",
       " ...]"
      ]
     },
     "execution_count": 11,
     "metadata": {},
     "output_type": "execute_result"
    }
   ],
   "source": [
    "positive_list"
   ]
  },
  {
   "cell_type": "markdown",
   "metadata": {},
   "source": [
    "# Add labels to dataset"
   ]
  },
  {
   "cell_type": "code",
   "execution_count": 12,
   "metadata": {},
   "outputs": [],
   "source": [
    "df[\"label\"] = np.where(df[\"chats\"].isin(negative_list), 1, 0)"
   ]
  },
  {
   "cell_type": "markdown",
   "metadata": {},
   "source": [
    "# Cleaning chats for model"
   ]
  },
  {
   "cell_type": "code",
   "execution_count": 13,
   "metadata": {},
   "outputs": [],
   "source": [
    "#Functions to tokenize text\n",
    "from nltk.stem.snowball import SnowballStemmer\n",
    "\n",
    "#Replaces pos tags with lemmatize compatable tags\n",
    "def pos_replace(treebank_tag):\n",
    "    if treebank_tag.startswith('J'):\n",
    "        return wordnet.ADJ\n",
    "    elif treebank_tag.startswith('V'):\n",
    "        return wordnet.VERB\n",
    "    elif treebank_tag.startswith('N'):\n",
    "        return wordnet.NOUN\n",
    "    elif treebank_tag.startswith('R'):\n",
    "        return wordnet.ADV\n",
    "    else:\n",
    "        return wordnet.NOUN\n",
    "    \n",
    "#Makes list of punctuation to exclude, keeps certain symbols\n",
    "punct = list(string.punctuation)\n",
    "keep_punct = ['?', '!', '@', ',', '.']\n",
    "punct = [p for p in punct if p not in keep_punct]\n",
    "\n",
    "#Removes non-ASCII characters (aka emojis that cant be converted to original symbol)\n",
    "def remove_junk(tweet):\n",
    "    return ''.join([i if ord(i) < 128 else ' ' for i in tweet])\n",
    "    \n",
    "\"\"\"\n",
    "Try handling misspellings?\n",
    "True reduce_len = True\n",
    "\"\"\"\n",
    "\n",
    "def chat_tokenizer(doc, stop_words = sw):\n",
    "    #Any regex needed\n",
    "    doc = re.sub(r'http\\S+', '', doc)\n",
    "    #Gets rid of weird characters\n",
    "    doc = remove_junk(doc)\n",
    "    #Tokenizes using NLTK Twitter Tokenizer as similar to tweets\n",
    "    chat_token = TweetTokenizer(strip_handles = True)\n",
    "    doc = chat_token.tokenize(doc)\n",
    "    #Gets rid of numbers\n",
    "#     doc_2 = []\n",
    "#     for w in doc:\n",
    "#         if any([c.isdigit() for c in w]):\n",
    "#             pass\n",
    "#         else:\n",
    "#             doc_2.append(w)\n",
    "    #Gets rid of leftover stopwords/punctuation\n",
    "    #doc = [w for w in doc if w.lower() not in sw]\n",
    "    doc = [w for w in doc if w not in punct]\n",
    "    #Stemmer\n",
    "#     snows = SnowballStemmer('english')\n",
    "#     doc = [snows.stem(w) for w in doc]\n",
    "    #Lemmatizes tokens\n",
    "    doc = pos_tag(doc)\n",
    "    doc = [(w[0], pos_replace(w[1])) for w in doc]\n",
    "    lemmatizer = WordNetLemmatizer() \n",
    "    doc = [lemmatizer.lemmatize(word[0], word[1]) for word in doc]\n",
    "    \n",
    "    return doc"
   ]
  },
  {
   "cell_type": "markdown",
   "metadata": {},
   "source": [
    "# Data Exploration"
   ]
  },
  {
   "cell_type": "code",
   "execution_count": 115,
   "metadata": {},
   "outputs": [
    {
     "name": "stderr",
     "output_type": "stream",
     "text": [
      "<ipython-input-115-a106b74ccdd0>:3: SettingWithCopyWarning: \n",
      "A value is trying to be set on a copy of a slice from a DataFrame.\n",
      "Try using .loc[row_indexer,col_indexer] = value instead\n",
      "\n",
      "See the caveats in the documentation: https://pandas.pydata.org/pandas-docs/stable/user_guide/indexing.html#returning-a-view-versus-a-copy\n",
      "  one_vid['time'] = one_vid['offset'] // 60\n"
     ]
    },
    {
     "data": {
      "image/png": "[encoded data removed]",
      "text/plain": [
       "<Figure size 864x576 with 1 Axes>"
      ]
     },
     "metadata": {
      "needs_background": "light"
     },
     "output_type": "display_data"
    }
   ],
   "source": [
    "#Graphing hate over course of a single stream\n",
    "one_vid = df[df['video_id'] == 262866347]\n",
    "one_vid['time'] = one_vid['offset'] // 60\n",
    "graph = one_vid.groupby('time')['label'].sum()\n",
    "\n",
    "fig, ax = plt.subplots(figsize = (12,8))\n",
    "sns.lineplot(x = graph.index, y = graph.values, color = '#6441A5')\n",
    "ax.set_xlabel('Time (Minutes)')\n",
    "ax.set_ylabel('Count of Hate Chats')\n",
    "plt.yticks(np.arange(0, 21, 4.0));\n",
    "plt.savefig('single_stream', dpi = 300)"
   ]
  },
  {
   "cell_type": "code",
   "execution_count": 93,
   "metadata": {},
   "outputs": [
    {
     "data": {
      "image/png": "[encoded data removed]",
      "text/plain": [
       "<Figure size 1008x720 with 1 Axes>"
      ]
     },
     "metadata": {},
     "output_type": "display_data"
    }
   ],
   "source": [
    "#Most frequent time of day for hate speech\n",
    "graph = df.groupby('day_night')['label'].count().sort_values(ascending = False)\n",
    "bar_heights = list(graph.values)\n",
    "index = list(graph.index)\n",
    "\n",
    "sns.set_style(\"ticks\")\n",
    "fig, ax = plt.subplots(figsize=(14, 10))\n",
    "sns.set(font_scale = 2)\n",
    "sns.barplot(x = index, y = bar_heights, order = index, color = '#00B9F1')\n",
    "ax.yaxis.set_major_formatter(mpl.ticker.StrMethodFormatter('{x:,.0f}'))\n",
    "ax.set_ylabel('Total Hate Chats')\n",
    "sns.despine()\n",
    "plt.savefig('time_of_day', dpi = 300, transparent = True)"
   ]
  },
  {
   "cell_type": "code",
   "execution_count": 94,
   "metadata": {},
   "outputs": [
    {
     "data": {
      "text/plain": [
       "102700"
      ]
     },
     "execution_count": 94,
     "metadata": {},
     "output_type": "execute_result"
    }
   ],
   "source": [
    "len(df)"
   ]
  },
  {
   "cell_type": "code",
   "execution_count": 92,
   "metadata": {},
   "outputs": [
    {
     "data": {
      "text/plain": [
       "day_night\n",
       "Late Night    47881\n",
       "Day           34302\n",
       "Night         20517\n",
       "Name: label, dtype: int64"
      ]
     },
     "execution_count": 92,
     "metadata": {},
     "output_type": "execute_result"
    }
   ],
   "source": [
    "graph = df.groupby('day_night')['label'].count().sort_values(ascending = False)\n",
    "graph"
   ]
  },
  {
   "cell_type": "code",
   "execution_count": 61,
   "metadata": {},
   "outputs": [],
   "source": [
    "#index = ['Late Night (12am - 7am)', 'Day (7am - 7pm)', 'Night (7pm - 12am)']"
   ]
  },
  {
   "cell_type": "code",
   "execution_count": 150,
   "metadata": {},
   "outputs": [
    {
     "data": {
      "text/plain": [
       "<AxesSubplot:>"
      ]
     },
     "execution_count": 150,
     "metadata": {},
     "output_type": "execute_result"
    },
    {
     "data": {
      "image/png": "[encoded data removed]",
      "text/plain": [
       "<Figure size 432x288 with 1 Axes>"
      ]
     },
     "metadata": {
      "needs_background": "light"
     },
     "output_type": "display_data"
    }
   ],
   "source": [
    "graph = df.groupby('hour')['label'].sum()\n",
    "bar_heights = list(graph.values)\n",
    "index = list(graph.index)\n",
    "\n",
    "fig, ax = plt.subplots()\n",
    "sns.barplot(x = index, y = bar_heights)"
   ]
  },
  {
   "cell_type": "code",
   "execution_count": 151,
   "metadata": {},
   "outputs": [
    {
     "data": {
      "text/plain": [
       "<AxesSubplot:>"
      ]
     },
     "execution_count": 151,
     "metadata": {},
     "output_type": "execute_result"
    },
    {
     "data": {
      "image/png": "[encoded data removed]",
      "text/plain": [
       "<Figure size 432x288 with 1 Axes>"
      ]
     },
     "metadata": {
      "needs_background": "light"
     },
     "output_type": "display_data"
    }
   ],
   "source": [
    "#Hate per streamer\n",
    "graph = df.groupby('channel_id')['label'].sum()\n",
    "bar_heights = list(graph.values)\n",
    "index = list(graph.index)\n",
    "\n",
    "fig, ax = plt.subplots()\n",
    "sns.barplot(x = index, y = bar_heights)"
   ]
  },
  {
   "cell_type": "code",
   "execution_count": 10,
   "metadata": {},
   "outputs": [],
   "source": [
    "#Percent hate per streamer\n",
    "import matplotlib.patches as mpatches\n",
    "\n",
    "total = df.groupby('channel_id')['label'].count().reset_index()\n",
    "negative = df.groupby('channel_id')['label'].sum().reset_index()\n",
    "negative['Percent Negative'] = [i / j * 100 for i,j in zip(negative['label'], total['label'])]\n",
    "total['Percent Negative'] = [i / j * 100 for i,j in zip(total['label'], total['label'])]\n",
    "\n",
    "\n",
    "creator = ['Scarra', 'Scarra', 'KingRichard', 'KingRichard', 'Tfue', 'Tfue', 'KingRichard', 'xChocoBars', 'xChocoBars']\n",
    "\n",
    "total['Streamer'] = ['Scarra', 'xChocoBars', 'Tfue', 'KingRichard']\n",
    "negative['Streamer'] = ['Scarra', 'xChocoBars', 'Tfue', 'KingRichard']"
   ]
  },
  {
   "cell_type": "code",
   "execution_count": 16,
   "metadata": {},
   "outputs": [
    {
     "data": {
      "image/png": "[encoded data removed]",
      "text/plain": [
       "<Figure size 1008x720 with 1 Axes>"
      ]
     },
     "metadata": {},
     "output_type": "display_data"
    }
   ],
   "source": [
    "sns.set_style(\"ticks\")\n",
    "fig, ax = plt.subplots(figsize=(14, 10))\n",
    "sns.set(font_scale = 2)\n",
    "\n",
    "\n",
    "# bar chart 1 -> top bars (group of 'smoker=No')\n",
    "#bar1 = sns.barplot(x=\"Streamer\",  y=\"Percent Negative\", data=total, color = '#6441A5', ax = ax)\n",
    "\n",
    "# bar chart 2 -> bottom bars (group of 'smoker=Yes')\n",
    "bar2 = sns.barplot(x=\"Streamer\", y=\"Percent Negative\", data=negative, color = '#6441A5', ax = ax)\n",
    "\n",
    "# add legend\n",
    "#top_bar = mpatches.Patch(color='#6441A5', label='Not Negative')\n",
    "#bottom_bar = mpatches.Patch(color='#F15A22', label='Negative')\n",
    "#ax.legend(handles=[top_bar, bottom_bar])\n",
    "plt.ylabel('Comment Percent')\n",
    "sns.despine()\n",
    "plt.savefig('streamer_percent_only_negative', dpi = 300, transparent = True)"
   ]
  },
  {
   "cell_type": "code",
   "execution_count": 98,
   "metadata": {},
   "outputs": [
    {
     "data": {
      "text/html": [
       "<div>\n",
       "<style scoped>\n",
       "    .dataframe tbody tr th:only-of-type {\n",
       "        vertical-align: middle;\n",
       "    }\n",
       "\n",
       "    .dataframe tbody tr th {\n",
       "        vertical-align: top;\n",
       "    }\n",
       "\n",
       "    .dataframe thead th {\n",
       "        text-align: right;\n",
       "    }\n",
       "</style>\n",
       "<table border=\"1\" class=\"dataframe\">\n",
       "  <thead>\n",
       "    <tr style=\"text-align: right;\">\n",
       "      <th></th>\n",
       "      <th>channel_id</th>\n",
       "      <th>label</th>\n",
       "      <th>Percent Negative</th>\n",
       "      <th>Streamer</th>\n",
       "    </tr>\n",
       "  </thead>\n",
       "  <tbody>\n",
       "    <tr>\n",
       "      <th>0</th>\n",
       "      <td>22253819</td>\n",
       "      <td>3997</td>\n",
       "      <td>14.502377</td>\n",
       "      <td>Scarra</td>\n",
       "    </tr>\n",
       "    <tr>\n",
       "      <th>1</th>\n",
       "      <td>42583390</td>\n",
       "      <td>1806</td>\n",
       "      <td>6.783099</td>\n",
       "      <td>xChocoBars</td>\n",
       "    </tr>\n",
       "    <tr>\n",
       "      <th>2</th>\n",
       "      <td>60056333</td>\n",
       "      <td>2111</td>\n",
       "      <td>9.419902</td>\n",
       "      <td>Tfue</td>\n",
       "    </tr>\n",
       "    <tr>\n",
       "      <th>3</th>\n",
       "      <td>66691674</td>\n",
       "      <td>3671</td>\n",
       "      <td>14.062979</td>\n",
       "      <td>KingRichard</td>\n",
       "    </tr>\n",
       "  </tbody>\n",
       "</table>\n",
       "</div>"
      ],
      "text/plain": [
       "   channel_id  label  Percent Negative     Streamer\n",
       "0    22253819   3997         14.502377       Scarra\n",
       "1    42583390   1806          6.783099   xChocoBars\n",
       "2    60056333   2111          9.419902         Tfue\n",
       "3    66691674   3671         14.062979  KingRichard"
      ]
     },
     "execution_count": 98,
     "metadata": {},
     "output_type": "execute_result"
    }
   ],
   "source": [
    "negative"
   ]
  },
  {
   "cell_type": "code",
   "execution_count": null,
   "metadata": {},
   "outputs": [],
   "source": [
    "total = df.groupby('channel_id')['label'].sum().sort_values(ascending = False)\n",
    "graph2 = df.groupby('channel_id')['label'].count().sort_values(ascending = False)\n",
    "print(graph, graph2)"
   ]
  },
  {
   "cell_type": "code",
   "execution_count": 13,
   "metadata": {},
   "outputs": [
    {
     "data": {
      "text/plain": [
       "<AxesSubplot:>"
      ]
     },
     "execution_count": 13,
     "metadata": {},
     "output_type": "execute_result"
    },
    {
     "data": {
      "image/png": "[encoded data removed]",
      "text/plain": [
       "<Figure size 432x288 with 1 Axes>"
      ]
     },
     "metadata": {
      "needs_background": "light"
     },
     "output_type": "display_data"
    }
   ],
   "source": [
    "#Hate per stream\n",
    "graph = df.groupby(['video_id'])['label'].sum()\n",
    "bar_heights = list(graph.values)\n",
    "index = list(graph.index)\n",
    "\n",
    "fig, ax = plt.subplots()\n",
    "sns.barplot(x = index, y = bar_heights)"
   ]
  },
  {
   "cell_type": "code",
   "execution_count": 54,
   "metadata": {},
   "outputs": [],
   "source": [
    "import matplotlib as mpl"
   ]
  },
  {
   "cell_type": "code",
   "execution_count": 81,
   "metadata": {},
   "outputs": [
    {
     "data": {
      "image/png": "[encoded data removed]",
      "text/plain": [
       "<Figure size 1008x720 with 1 Axes>"
      ]
     },
     "metadata": {},
     "output_type": "display_data"
    }
   ],
   "source": [
    "#Hate per stream by creator\n",
    "# graph = df.groupby(['channel_id', 'video_id'])['label'].sum().sort_values(ascending = False)\n",
    "# video = []\n",
    "# creator = []\n",
    "# for i in graph.index:\n",
    "#     creator.append(i[0])\n",
    "#     video.append(i[1])\n",
    "# height = graph.values\n",
    "\n",
    "\n",
    "sns.set_style(\"ticks\")\n",
    "fig, ax = plt.subplots(figsize=(14, 10))\n",
    "sns.set(font_scale = 2)\n",
    "sns.barplot(x = video, y = height, hue = creator, order = video, ax = ax, dodge = False, \n",
    "            palette=[\"#00B9F1\", \"#F15A22\", \"#f0e442\", \"#009e73\"])\n",
    "ax.set_xlabel('Unique Stream')\n",
    "ax.set_xticklabels([])\n",
    "plt.tick_params(\n",
    "    axis='x',          # changes apply to the x-axis\n",
    "    which='both',      # both major and minor ticks are affected\n",
    "    bottom=False,      # ticks along the bottom edge are off\n",
    "    top=False,         # ticks along the top edge are off\n",
    "    labelbottom=False)\n",
    "ax.set_ylabel('Total Hate Chats')\n",
    "ax.yaxis.set_major_formatter(mpl.ticker.StrMethodFormatter('{x:,.0f}'))\n",
    "sns.despine()\n",
    "plt.savefig('streamers', dpi = 300)"
   ]
  },
  {
   "cell_type": "code",
   "execution_count": 75,
   "metadata": {},
   "outputs": [],
   "source": [
    "creator = ['Scarra', 'Scarra', 'KingRichard', 'KingRichard', 'Tfue', 'Tfue', 'KingRichard', 'xChocoBars', 'xChocoBars']"
   ]
  },
  {
   "cell_type": "code",
   "execution_count": 14,
   "metadata": {},
   "outputs": [
    {
     "name": "stderr",
     "output_type": "stream",
     "text": [
      "<ipython-input-14-1193c2345dc7>:3: SettingWithCopyWarning: \n",
      "A value is trying to be set on a copy of a slice from a DataFrame.\n",
      "Try using .loc[row_indexer,col_indexer] = value instead\n",
      "\n",
      "See the caveats in the documentation: https://pandas.pydata.org/pandas-docs/stable/user_guide/indexing.html#returning-a-view-versus-a-copy\n",
      "  negative_chats['chat_lower'] = negative_chats['chats'].apply(lambda x: x.lower())\n"
     ]
    }
   ],
   "source": [
    "# Word Cloud\n",
    "negative_chats = df[df['label'] == 1]\n",
    "negative_chats['chat_lower'] = negative_chats['chats'].apply(lambda x: x.lower())\n",
    "# cv = CountVectorizer(lowercase = True, tokenizer = chat_tokenizer)\n",
    "# chat = cv.fit_transform(negative_chats['chats'])"
   ]
  },
  {
   "cell_type": "code",
   "execution_count": 31,
   "metadata": {},
   "outputs": [
    {
     "data": {
      "image/png": "[encoded data removed]",
      "text/plain": [
       "<Figure size 432x288 with 1 Axes>"
      ]
     },
     "metadata": {
      "needs_background": "light"
     },
     "output_type": "display_data"
    },
    {
     "data": {
      "text/plain": [
       "<wordcloud.wordcloud.WordCloud at 0x7ff2999ab3a0>"
      ]
     },
     "execution_count": 31,
     "metadata": {},
     "output_type": "execute_result"
    }
   ],
   "source": [
    "from os import path\n",
    "from PIL import Image\n",
    "from wordcloud import WordCloud, STOPWORDS, ImageColorGenerator, get_single_color_func\n",
    "\n",
    "stopwords = set(STOPWORDS)\n",
    "stopwords.update([\"scarra\", \"tfue\", \"feelsbadman\", 'kingrichard', 's', 'im', 'good', 'will'])\n",
    "\n",
    "text = \" \".join(chat for chat in negative_chats.chat_lower)\n",
    "wordcloud = WordCloud(colormap = 'copper', max_words = 30, background_color=\"white\", stopwords = stopwords, width=800, height=400).generate(text)\n",
    "\n",
    "cf = get_single_color_func('#6441A5')\n",
    "\n",
    "plt.imshow(wordcloud.recolor(color_func = cf), interpolation='bilinear')\n",
    "plt.axis(\"off\")\n",
    "plt.show()\n",
    "wordcloud.to_file(\"wordcloud.png\")"
   ]
  },
  {
   "cell_type": "markdown",
   "metadata": {},
   "source": [
    "# Feature Engineering"
   ]
  },
  {
   "cell_type": "code",
   "execution_count": 14,
   "metadata": {},
   "outputs": [],
   "source": [
    "#Hour of stream\n",
    "df['created_at'] = pd.to_datetime(df['created_at'])\n",
    "df['hour'] = df.created_at.apply(lambda x: x.hour)\n",
    "\n",
    "#Sorts streams into night/day\n",
    "def day_night(hour):\n",
    "    if (hour >= 7) and (hour < 20):\n",
    "        return 'Day'\n",
    "    elif (hour >= 20) and (hour <= 23):\n",
    "        return 'Night'\n",
    "    else:\n",
    "        return 'Late Night'\n",
    "df['day_night'] = df.hour.apply(day_night)"
   ]
  },
  {
   "cell_type": "code",
   "execution_count": 15,
   "metadata": {},
   "outputs": [],
   "source": [
    "#Has emojis\n",
    "def any_emojis(emotes):\n",
    "    if emotes[2] == 'N':\n",
    "        return 0\n",
    "    else:\n",
    "        return 1\n",
    "    \n",
    "#Ratio capital to length tweet\n",
    "def capital_letter_ratio(chat):\n",
    "    if type(chat) == float:\n",
    "        return 0\n",
    "    if len(chat) == 0:\n",
    "        return 0\n",
    "    capital_count = 0\n",
    "    for c in chat:\n",
    "        if c.isupper():\n",
    "            capital_count += 1\n",
    "    return capital_count / len(chat)"
   ]
  },
  {
   "cell_type": "code",
   "execution_count": 16,
   "metadata": {},
   "outputs": [],
   "source": [
    "#Convert offset to minutes not seconds\n",
    "df['stream_min'] = df['offset'] // 60\n",
    "\n",
    "#Adds if chat contains emojis or not\n",
    "df['any_emojis'] = df.emotes.apply(any_emojis)\n",
    "\n",
    "#Adds ratio of capital letters\n",
    "df['cap_ratio'] = df.twitch_chat.apply(capital_letter_ratio)"
   ]
  },
  {
   "cell_type": "code",
   "execution_count": 17,
   "metadata": {},
   "outputs": [],
   "source": [
    "#Length of stream\n",
    "graph = df.groupby(['video_id'])['offset'].max()\n",
    "videos = list(graph.index)\n",
    "max_time = list(graph.values)\n",
    "time_pairings = []\n",
    "for i, v in enumerate(videos):\n",
    "    time_pairings.append((videos[i], max_time[i]))\n",
    "    \n",
    "def find_time(video):\n",
    "    for pair in time_pairings:\n",
    "        if video == pair[0]:\n",
    "            return pair[1]\n",
    "\n",
    "df['max_time'] = df.video_id.apply(find_time)\n",
    "df['offset_percent'] = (df.offset / df.max_time) * 100"
   ]
  },
  {
   "cell_type": "code",
   "execution_count": 18,
   "metadata": {},
   "outputs": [],
   "source": [
    "#User post frequency\n",
    "import collections\n",
    "\n",
    "counter = collections.Counter(df.commenter_id)\n",
    "\n",
    "def commenter_count(id):\n",
    "    return counter[id]\n",
    "\n",
    "df['total_comments'] = df.commenter_id.apply(commenter_count)"
   ]
  },
  {
   "cell_type": "markdown",
   "metadata": {},
   "source": [
    "# First Simple Model"
   ]
  },
  {
   "cell_type": "code",
   "execution_count": 19,
   "metadata": {},
   "outputs": [
    {
     "data": {
      "text/plain": [
       "0    0.89037\n",
       "1    0.10963\n",
       "Name: label, dtype: float64"
      ]
     },
     "execution_count": 19,
     "metadata": {},
     "output_type": "execute_result"
    }
   ],
   "source": [
    "df.label.value_counts(normalize = True)"
   ]
  },
  {
   "cell_type": "code",
   "execution_count": 39,
   "metadata": {},
   "outputs": [
    {
     "data": {
      "text/plain": [
       "Pipeline(steps=[('preproc',\n",
       "                 CountVectorizer(lowercase=False,\n",
       "                                 tokenizer=<function chat_tokenizer at 0x7fc8c093c940>)),\n",
       "                ('smote',\n",
       "                 SMOTE(random_state=213, sampling_strategy='minority')),\n",
       "                ('dtc', DecisionTreeClassifier(max_depth=5, random_state=213))])"
      ]
     },
     "execution_count": 39,
     "metadata": {},
     "output_type": "execute_result"
    }
   ],
   "source": [
    "from sklearn.metrics import recall_score, accuracy_score\n",
    "\n",
    "y = df['label']\n",
    "X = df['chats']\n",
    "X_train, X_test, y_train, y_test = train_test_split(X, y, random_state = 213)\n",
    "\n",
    "first = imbpipeline(steps=[\n",
    "    ('preproc', CountVectorizer(lowercase = False, tokenizer = chat_tokenizer)),\n",
    "    ('smote', SMOTE(sampling_strategy = 'minority', random_state = 213)),\n",
    "    ('dtc', DecisionTreeClassifier(random_state = 213, max_depth = 5))\n",
    "])\n",
    "\n",
    "first.fit(X_train, y_train)\n",
    "preds = first.predict(X_train)\n",
    "print(\"Training Score:\", recall_score(preds, y_train))\n",
    "scores = np.mean(cross_val_score(first, X_train, y_train, cv = 5, scoring = 'recall'))\n",
    "print(\"Validation Score:\" + str(scores))"
   ]
  },
  {
   "cell_type": "code",
   "execution_count": 114,
   "metadata": {},
   "outputs": [
    {
     "data": {
      "image/png": "[encoded data removed]",
      "text/plain": [
       "<Figure size 432x288 with 2 Axes>"
      ]
     },
     "metadata": {
      "needs_background": "light"
     },
     "output_type": "display_data"
    }
   ],
   "source": [
    "from sklearn.metrics import ConfusionMatrixDisplay, confusion_matrix\n",
    "\n",
    "y_hat = first.predict(X_train)\n",
    "cm = confusion_matrix(y_train, y_hat)\n",
    "cmdis = ConfusionMatrixDisplay(cm)\n",
    "cmdis.plot();"
   ]
  },
  {
   "cell_type": "markdown",
   "metadata": {},
   "source": [
    "# Iterations"
   ]
  },
  {
   "cell_type": "code",
   "execution_count": 23,
   "metadata": {},
   "outputs": [],
   "source": [
    "df['channel_id'] = df['channel_id'].astype(str)\n",
    "df['video_id'] = df['video_id'].astype(str)"
   ]
  },
  {
   "cell_type": "markdown",
   "metadata": {},
   "source": [
    "## Multinomial Bayes + Complement Bayes"
   ]
  },
  {
   "cell_type": "code",
   "execution_count": 22,
   "metadata": {},
   "outputs": [],
   "source": [
    "from sklearn.metrics import recall_score, accuracy_score, make_scorer\n",
    "from sklearn.model_selection import cross_validate\n",
    "\n",
    "#Creates features and target then performs train test split\n",
    "y = df['label']\n",
    "X = df[['chats', 'channel_id', 'video_id', 'hour', 'day_night', \n",
    "            'any_emojis', 'cap_ratio', 'offset_percent', 'total_comments']]\n",
    "X_train, X_test, y_train, y_test = train_test_split(X, y, random_state = 213)\n",
    "\n",
    "count_vec = ColumnTransformer([\n",
    "    ('cv', CountVectorizer(lowercase = False, tokenizer = chat_tokenizer), 'chats'),\n",
    "    ('ohe', OneHotEncoder(), ['channel_id', 'video_id', 'day_night'])],\n",
    "    remainder = 'passthrough')\n",
    "\n",
    "mnb_cv = imbpipeline(steps=[\n",
    "    ('preproc', count_vec),\n",
    "    ('smote', SMOTE(sampling_strategy = 'minority', random_state = 213)),\n",
    "    ('mnb', MultinomialNB())\n",
    "])\n",
    "\n",
    "#Fits model and prints training score\n",
    "mnb_cv.fit(X_train, y_train)\n",
    "preds = mnb_cv.predict(X_train)\n",
    "print(\"Training Recall:\", recall_score(preds, y_train))\n",
    "print(\"Training Accuracy:\", mnb_cv.score(X_train, y_train))\n",
    "#Cross validates model and prints average result\n",
    "scoring = {\n",
    "    'acc': make_scorer(accuracy_score),\n",
    "    'rec': 'recall'\n",
    "}\n",
    "scores = cross_validate(mnb_cv, X_train, y_train, cv = 5, scoring = scoring)\n",
    "print(\"Validation Recall:\" + str(np.mean(scores['test_rec'])))\n",
    "print(\"Validation Accuracy:\" + str(np.mean(scores['test_acc'])))"
   ]
  },
  {
   "cell_type": "code",
   "execution_count": 156,
   "metadata": {},
   "outputs": [
    {
     "name": "stdout",
     "output_type": "stream",
     "text": [
      "Training Recall: 0.21377432125108797\n",
      "Training Accuracy: 0.6216856183809946\n",
      "Validation Recall:0.7881241747838456\n",
      "Validation Accuracy:0.5588586920856187\n"
     ]
    }
   ],
   "source": [
    "tfidf_vec = ColumnTransformer([\n",
    "    ('cv', TfidfVectorizer(lowercase = False, tokenizer = chat_tokenizer), 'chats'),\n",
    "    ('ohe', OneHotEncoder(), ['channel_id', 'video_id', 'day_night'])],\n",
    "    remainder = 'passthrough')\n",
    "\n",
    "mnb_tfidf = imbpipeline(steps=[\n",
    "    ('preproc', tfidf_vec),\n",
    "    ('smote', SMOTE(sampling_strategy = 'minority', random_state = 213)),\n",
    "    ('mnb', MultinomialNB())\n",
    "])\n",
    "\n",
    "#Fits model and prints training score\n",
    "mnb_tfidf.fit(X_train, y_train)\n",
    "preds = mnb_cv.predict(X_train)\n",
    "print(\"Training Recall:\", recall_score(preds, y_train))\n",
    "print(\"Training Accuracy:\", mnb_cv.score(X_train, y_train))\n",
    "#Cross validates model and prints average result\n",
    "scores = cross_validate(mnb_tfidf, X_train, y_train, cv = 5, scoring = scoring)\n",
    "print(\"Validation Recall:\" + str(np.mean(scores['test_rec'])))\n",
    "print(\"Validation Accuracy:\" + str(np.mean(scores['test_acc'])))"
   ]
  },
  {
   "cell_type": "code",
   "execution_count": 159,
   "metadata": {},
   "outputs": [
    {
     "name": "stdout",
     "output_type": "stream",
     "text": [
      "Training Recall: 0.1985851298828398\n",
      "Training Accuracy: 0.6064635320444433\n",
      "Validation Recall:0.7808720112517581\n",
      "Validation Accuracy:0.6130987245617645\n"
     ]
    }
   ],
   "source": [
    "from sklearn.naive_bayes import ComplementNB\n",
    "\n",
    "cnb = imbpipeline(steps=[\n",
    "    ('preproc', count_vec),\n",
    "    ('mnb', ComplementNB())\n",
    "])\n",
    "\n",
    "#Fits model and prints training score\n",
    "cnb.fit(X_train, y_train)\n",
    "preds = cnb.predict(X_train)\n",
    "print(\"Training Recall:\", recall_score(preds, y_train))\n",
    "print(\"Training Accuracy:\", cnb.score(X_train, y_train))\n",
    "#Cross validates model and prints average result\n",
    "scores = cross_validate(cnb, X_train, y_train, cv = 5, scoring = scoring)\n",
    "print(\"Validation Recall:\" + str(np.mean(scores['test_rec'])))\n",
    "print(\"Validation Accuracy:\" + str(np.mean(scores['test_acc'])))"
   ]
  },
  {
   "cell_type": "markdown",
   "metadata": {},
   "source": [
    "### Grid Search"
   ]
  },
  {
   "cell_type": "code",
   "execution_count": 162,
   "metadata": {},
   "outputs": [
    {
     "data": {
      "text/plain": [
       "{'preproc__cv__max_df': 0.5,\n",
       " 'preproc__cv__max_features': None,\n",
       " 'preproc__cv__ngram_range': (1, 1)}"
      ]
     },
     "execution_count": 162,
     "metadata": {},
     "output_type": "execute_result"
    }
   ],
   "source": [
    "#Creates parameters to test\n",
    "params = {\n",
    "    'preproc__cv__max_features': [None, 4000, 8000],\n",
    "    'preproc__cv__max_df': [.5, .8, 1],\n",
    "    'preproc__cv__ngram_range': [(1,1), (2,2)]\n",
    "}\n",
    "\n",
    "#Fits gridsearch on model and prints out the best parameters\n",
    "search = GridSearchCV(mnb_cv, param_grid = params, scoring = scoring, cv = 3, refit = 'rec')\n",
    "search.fit(X_train, y_train)\n",
    "search.best_params_"
   ]
  },
  {
   "cell_type": "code",
   "execution_count": 163,
   "metadata": {},
   "outputs": [
    {
     "name": "stdout",
     "output_type": "stream",
     "text": [
      "Training Recall: 0.21377432125108797\n",
      "Training Accuracy: 0.6216856183809946\n",
      "Validation Recall:0.8341574066897082\n",
      "Validation Accuracy:0.597733555553152\n"
     ]
    }
   ],
   "source": [
    "count_vec = ColumnTransformer([\n",
    "    ('cv', CountVectorizer(max_df = .5, lowercase = False, tokenizer = chat_tokenizer), 'chats'),\n",
    "    ('ohe', OneHotEncoder(), ['channel_id', 'video_id', 'day_night'])],\n",
    "    remainder = 'passthrough')\n",
    "\n",
    "mnb_tuned = imbpipeline(steps=[\n",
    "    ('preproc', count_vec),\n",
    "    ('smote', SMOTE(sampling_strategy = 'minority', random_state = 213)),\n",
    "    ('mnb', MultinomialNB())\n",
    "])\n",
    "\n",
    "#Fits model and prints training score\n",
    "mnb_tuned.fit(X_train, y_train)\n",
    "preds = mnb_tuned.predict(X_train)\n",
    "print(\"Training Recall:\", recall_score(preds, y_train))\n",
    "print(\"Training Accuracy:\", mnb_tuned.score(X_train, y_train))\n",
    "#Cross validates model and prints average result\n",
    "scores = cross_validate(mnb_tuned, X_train, y_train, cv = 5, scoring = scoring)\n",
    "print(\"Validation Recall:\" + str(np.mean(scores['test_rec'])))\n",
    "print(\"Validation Accuracy:\" + str(np.mean(scores['test_acc'])))"
   ]
  },
  {
   "cell_type": "markdown",
   "metadata": {},
   "source": [
    "## Logistic Regression"
   ]
  },
  {
   "cell_type": "code",
   "execution_count": 23,
   "metadata": {},
   "outputs": [
    {
     "data": {
      "text/plain": [
       "<AxesSubplot:>"
      ]
     },
     "execution_count": 23,
     "metadata": {},
     "output_type": "execute_result"
    },
    {
     "data": {
      "image/png": "[encoded data removed]",
      "text/plain": [
       "<Figure size 432x288 with 2 Axes>"
      ]
     },
     "metadata": {
      "needs_background": "light"
     },
     "output_type": "display_data"
    }
   ],
   "source": [
    "cont = df[['any_emojis', 'cap_ratio', 'offset_percent', 'total_comments']]\n",
    "sns.heatmap(cont.corr().abs(), annot = True)"
   ]
  },
  {
   "cell_type": "code",
   "execution_count": 42,
   "metadata": {},
   "outputs": [
    {
     "name": "stdout",
     "output_type": "stream",
     "text": [
      "Training Recall: 0.8499794492396219\n",
      "Training Accuracy: 0.9755274261603376\n",
      "Validation Recall:0.8428202230109786\n",
      "Validation Accuracy:0.9579746835443037\n"
     ]
    }
   ],
   "source": [
    "from sklearn.linear_model import LogisticRegression\n",
    "from sklearn.preprocessing import StandardScaler\n",
    "from sklearn.model_selection import cross_validate\n",
    "from sklearn.metrics import recall_score, accuracy_score, make_scorer\n",
    "\n",
    "#Get rid of channel_id + hour to avoid multicolinearity w/ video_id and day_night\n",
    "y = df['label']\n",
    "X = df[['chats', 'video_id', 'day_night', \n",
    "            'any_emojis', 'cap_ratio', 'offset_percent', 'total_comments']]\n",
    "X_train, X_test, y_train, y_test = train_test_split(X, y, random_state = 213)\n",
    "\n",
    "count_vec = ColumnTransformer([\n",
    "    ('cv', CountVectorizer(lowercase = False, tokenizer = chat_tokenizer), 'chats'),\n",
    "    ('ohe', OneHotEncoder(), ['video_id', 'day_night']),\n",
    "    ('ss', StandardScaler(), ['any_emojis', 'cap_ratio', 'offset_percent', 'total_comments'])],\n",
    "    remainder = 'passthrough')\n",
    "\n",
    "logreg = imbpipeline(steps=[\n",
    "    ('preproc', count_vec),\n",
    "    ('smote', SMOTE(sampling_strategy = 'minority', random_state = 213)),\n",
    "    ('lr', LogisticRegression(max_iter = 10000, random_state = 213))\n",
    "])\n",
    "\n",
    "#Fits model and prints training score\n",
    "logreg.fit(X_train, y_train)\n",
    "\n",
    "preds = logreg.predict(X_train)\n",
    "print(\"Training Recall:\", recall_score(preds, y_train))\n",
    "print(\"Training Accuracy:\", logreg.score(X_train, y_train))\n",
    "\n",
    "#Cross validates model and prints average result\n",
    "scores = cross_validate(logreg, X_train, y_train, cv = 5, scoring = scoring)\n",
    "print(\"Validation Recall:\" + str(np.mean(scores['test_rec'])))\n",
    "print(\"Validation Accuracy:\" + str(np.mean(scores['test_acc'])))"
   ]
  },
  {
   "cell_type": "code",
   "execution_count": 44,
   "metadata": {},
   "outputs": [
    {
     "data": {
      "text/plain": [
       "{'preproc__cv__lowercase': True,\n",
       " 'preproc__cv__max_df': 0.5,\n",
       " 'preproc__cv__max_features': 8000,\n",
       " 'preproc__cv__ngram_range': (1, 1)}"
      ]
     },
     "execution_count": 44,
     "metadata": {},
     "output_type": "execute_result"
    }
   ],
   "source": [
    "#Creates parameters to test\n",
    "params = {\n",
    "    'preproc__cv__max_features': [None, 4000, 8000],\n",
    "    'preproc__cv__max_df': [.5, .8, 1],\n",
    "    'preproc__cv__ngram_range': [(1,1), (2,2)],\n",
    "    'preproc__cv__lowercase': [False, True]\n",
    "}\n",
    "\n",
    "#Fits gridsearch on model and prints out the best parameters\n",
    "search = GridSearchCV(logreg, param_grid = params, scoring = scoring, cv = 3, refit = 'rec')\n",
    "search.fit(X_train, y_train)\n",
    "search.best_params_"
   ]
  },
  {
   "cell_type": "markdown",
   "metadata": {},
   "source": [
    "# FINAL MODEL"
   ]
  },
  {
   "cell_type": "code",
   "execution_count": 37,
   "metadata": {},
   "outputs": [],
   "source": [
    "from sklearn.utils import class_weight\n",
    "\n",
    "class_weight = class_weight.compute_class_weight('balanced', classes = np.unique(df.label), y = df.label)"
   ]
  },
  {
   "cell_type": "code",
   "execution_count": null,
   "metadata": {},
   "outputs": [],
   "source": [
    "#Creates a new train test split with the added features\n",
    "y = df['label']\n",
    "X = df[['chats', 'video_id', 'day_night', \n",
    "            'any_emojis', 'cap_ratio', 'offset', 'total_comments']]\n",
    "X_train, X_test, y_train, y_test = train_test_split(X, y, random_state = 213)\n",
    "\n",
    "#Pipeline for processing and fitting model\n",
    "count_vec = ColumnTransformer([\n",
    "    ('cv', CountVectorizer(lowercase = False, tokenizer = chat_tokenizer), 'chats'),\n",
    "    ('ohe', OneHotEncoder(), ['video_id', 'day_night']),\n",
    "    ('ss', StandardScaler(), ['any_emojis', 'cap_ratio', 'offset', 'total_comments'])],\n",
    "    remainder = 'passthrough')\n",
    "\n",
    "logreg = imbpipeline(steps=[\n",
    "    ('preproc', count_vec),\n",
    "    ('smote', SMOTE(sampling_strategy = 'minority', random_state = 213)),\n",
    "    ('lr', LogisticRegression(max_iter = 10000, random_state = 213))\n",
    "])\n",
    "\n",
    "#Fits model and prints training score\n",
    "logreg.fit(X_train, y_train)\n",
    "preds = logreg.predict(X_train)\n",
    "print(\"Training Recall:\", recall_score(preds, y_train))\n",
    "print(\"Training Accuracy:\", logreg.score(X_train, y_train))\n",
    "\n",
    "#Cross validates model and prints average result\n",
    "scores = cross_validate(logreg, X_train, y_train, cv = 5, scoring = scoring)\n",
    "print(\"Validation Recall:\" + str(np.mean(scores['test_rec'])))\n",
    "print(\"Validation Accuracy:\" + str(np.mean(scores['test_acc'])))"
   ]
  },
  {
   "cell_type": "code",
   "execution_count": 39,
   "metadata": {},
   "outputs": [
    {
     "name": "stderr",
     "output_type": "stream",
     "text": [
      "/Users/kelseylane/opt/anaconda3/envs/learn-env/lib/python3.8/site-packages/sklearn/linear_model/_logistic.py:679: FutureWarning: elementwise comparison failed; returning scalar instead, but in the future will perform elementwise comparison\n",
      "  if class_weight == \"balanced\":\n"
     ]
    },
    {
     "name": "stdout",
     "output_type": "stream",
     "text": [
      "Training Recall: 0.9079730779187161\n",
      "Training Accuracy: 0.9700486854917235\n"
     ]
    },
    {
     "name": "stderr",
     "output_type": "stream",
     "text": [
      "/Users/kelseylane/opt/anaconda3/envs/learn-env/lib/python3.8/site-packages/sklearn/linear_model/_logistic.py:679: FutureWarning: elementwise comparison failed; returning scalar instead, but in the future will perform elementwise comparison\n",
      "  if class_weight == \"balanced\":\n",
      "/Users/kelseylane/opt/anaconda3/envs/learn-env/lib/python3.8/site-packages/sklearn/linear_model/_logistic.py:679: FutureWarning: elementwise comparison failed; returning scalar instead, but in the future will perform elementwise comparison\n",
      "  if class_weight == \"balanced\":\n",
      "/Users/kelseylane/opt/anaconda3/envs/learn-env/lib/python3.8/site-packages/sklearn/linear_model/_logistic.py:679: FutureWarning: elementwise comparison failed; returning scalar instead, but in the future will perform elementwise comparison\n",
      "  if class_weight == \"balanced\":\n",
      "/Users/kelseylane/opt/anaconda3/envs/learn-env/lib/python3.8/site-packages/sklearn/linear_model/_logistic.py:679: FutureWarning: elementwise comparison failed; returning scalar instead, but in the future will perform elementwise comparison\n",
      "  if class_weight == \"balanced\":\n",
      "/Users/kelseylane/opt/anaconda3/envs/learn-env/lib/python3.8/site-packages/sklearn/linear_model/_logistic.py:679: FutureWarning: elementwise comparison failed; returning scalar instead, but in the future will perform elementwise comparison\n",
      "  if class_weight == \"balanced\":\n"
     ]
    },
    {
     "name": "stdout",
     "output_type": "stream",
     "text": [
      "Validation Recall:0.7387042021485632\n",
      "Validation Accuracy:0.9579746835443037\n"
     ]
    }
   ],
   "source": [
    "from sklearn.linear_model import LogisticRegression\n",
    "from sklearn.preprocessing import StandardScaler\n",
    "from sklearn.model_selection import cross_validate\n",
    "from sklearn.metrics import recall_score, accuracy_score, make_scorer\n",
    "\n",
    "#Get rid of channel_id + hour to avoid multicolinearity w/ video_id and day_night\n",
    "y = df['label']\n",
    "X = df[['chats', 'video_id', 'day_night', \n",
    "            'any_emojis', 'cap_ratio', 'offset', 'total_comments']]\n",
    "X_train, X_test, y_train, y_test = train_test_split(X, y, random_state = 213)\n",
    "\n",
    "count_vec = ColumnTransformer([\n",
    "    ('cv', CountVectorizer(lowercase = True, max_df = .5, max_features = 8000, tokenizer = chat_tokenizer), 'chats'),\n",
    "    ('ohe', OneHotEncoder(), ['video_id', 'day_night']),\n",
    "    ('ss', StandardScaler(), ['any_emojis', 'cap_ratio', 'offset', 'total_comments'])],\n",
    "    remainder = 'passthrough')\n",
    "\n",
    "logreg_tune = imbpipeline(steps=[\n",
    "    ('preproc', count_vec),\n",
    "    #('smote', SMOTE(sampling_strategy = 'minority', random_state = 213)),\n",
    "    ('lr', LogisticRegression(class_weight = class_weight, max_iter = 10000, random_state = 213))\n",
    "])\n",
    "\n",
    "#Fits model and prints training score\n",
    "logreg_tune.fit(X_train, y_train)\n",
    "preds = logreg_tune.predict(X_train)\n",
    "print(\"Training Recall:\", recall_score(preds, y_train))\n",
    "print(\"Training Accuracy:\", logreg_tune.score(X_train, y_train))\n",
    "\n",
    "scoring = {\n",
    "    'acc': make_scorer(accuracy_score),\n",
    "    'rec': 'recall'\n",
    "}\n",
    "\n",
    "#Cross validates model and prints average result\n",
    "scores = cross_validate(logreg_tune, X_train, y_train, cv = 5, scoring = scoring)\n",
    "print(\"Validation Recall:\" + str(np.mean(scores['test_rec'])))\n",
    "print(\"Validation Accuracy:\" + str(np.mean(scores['test_acc'])))"
   ]
  },
  {
   "cell_type": "code",
   "execution_count": 40,
   "metadata": {},
   "outputs": [
    {
     "name": "stdout",
     "output_type": "stream",
     "text": [
      "Training Recall: 0.8456028651014723\n",
      "Training Accuracy: 0.9559493670886076\n"
     ]
    }
   ],
   "source": [
    "preds = logreg_tune.predict(X_test)\n",
    "print(\"Training Recall:\", recall_score(preds, y_test))\n",
    "print(\"Training Accuracy:\", logreg_tune.score(X_test, y_test))"
   ]
  },
  {
   "cell_type": "markdown",
   "metadata": {},
   "source": [
    "#### Assumption test"
   ]
  },
  {
   "cell_type": "code",
   "execution_count": 49,
   "metadata": {},
   "outputs": [
    {
     "name": "stderr",
     "output_type": "stream",
     "text": [
      "<ipython-input-49-812980efa55c>:3: RuntimeWarning: divide by zero encountered in true_divide\n",
      "  log_odds = np.log(pred / (1 - pred))\n",
      "<ipython-input-49-812980efa55c>:3: RuntimeWarning: divide by zero encountered in log\n",
      "  log_odds = np.log(pred / (1 - pred))\n"
     ]
    },
    {
     "data": {
      "image/png": "[encoded data removed]",
      "text/plain": [
       "<Figure size 432x288 with 1 Axes>"
      ]
     },
     "metadata": {
      "needs_background": "light"
     },
     "output_type": "display_data"
    }
   ],
   "source": [
    "#Grabs probabilities and calculates log odds\n",
    "pred = logreg_tune.predict_proba(X_train)[:, 0]\n",
    "log_odds = np.log(pred / (1 - pred))\n",
    "#Plots log odds versus continuous variable to check for linearity\n",
    "plt.scatter(x = X_train['offset_percent'], y = log_odds)\n",
    "plt.xlabel(\"offset_percent\")\n",
    "plt.ylabel(\"Log-odds\")\n",
    "plt.show()"
   ]
  },
  {
   "cell_type": "code",
   "execution_count": 88,
   "metadata": {},
   "outputs": [],
   "source": [
    "words = logreg_tune.named_steps[\"preproc\"].transformers_[0][1].get_feature_names()\n",
    "ohe = logreg_tune.named_steps[\"preproc\"].transformers_[1][1].get_feature_names()\n",
    "numbers = logreg_tune.named_steps[\"preproc\"].transformers_[2][2]\n",
    "\n",
    "columns = [*words, *ohe, *numbers]\n",
    "\n",
    "coef_dict = {}\n",
    "for coef, feat in zip(logreg_tune['lr'].coef_[0, :], columns):\n",
    "    coef_dict[feat] = coef"
   ]
  },
  {
   "cell_type": "code",
   "execution_count": 91,
   "metadata": {},
   "outputs": [
    {
     "data": {
      "text/plain": [
       "['wtf',\n",
       " 'rip',\n",
       " 'kill',\n",
       " 'feelsbadman',\n",
       " ':(',\n",
       " 'hell',\n",
       " 'damage',\n",
       " 'dead',\n",
       " 'lag',\n",
       " 'damn',\n",
       " 'ban',\n",
       " 'shit',\n",
       " 'no',\n",
       " 'miss',\n",
       " 'insane',\n",
       " 'hate',\n",
       " 'nasty',\n",
       " 'suck',\n",
       " 'bitch',\n",
       " 'bomb']"
      ]
     },
     "execution_count": 91,
     "metadata": {},
     "output_type": "execute_result"
    }
   ],
   "source": [
    "coef_dict\n",
    "\n",
    "import heapq\n",
    "heapq.nlargest(20, coef_dict, key = coef_dict.get)"
   ]
  },
  {
   "cell_type": "code",
   "execution_count": 41,
   "metadata": {},
   "outputs": [
    {
     "data": {
      "image/png": "[encoded data removed]",
      "text/plain": [
       "<Figure size 432x288 with 2 Axes>"
      ]
     },
     "metadata": {
      "needs_background": "light"
     },
     "output_type": "display_data"
    }
   ],
   "source": [
    "from sklearn.metrics import ConfusionMatrixDisplay, confusion_matrix\n",
    "\n",
    "y_hat = logreg_tune.predict(X_train)\n",
    "cm = confusion_matrix(y_train, y_hat)\n",
    "cmdis = ConfusionMatrixDisplay(cm)\n",
    "cmdis.plot();"
   ]
  },
  {
   "cell_type": "markdown",
   "metadata": {},
   "source": [
    "## Random Forest"
   ]
  },
  {
   "cell_type": "code",
   "execution_count": 230,
   "metadata": {},
   "outputs": [
    {
     "name": "stdout",
     "output_type": "stream",
     "text": [
      "Training Recall: 1.0\n",
      "Training Accuracy: 1.0\n",
      "Validation Recall:0.3858905179558423\n",
      "Validation Accuracy:0.9256979978770259\n"
     ]
    }
   ],
   "source": [
    "from sklearn.ensemble import RandomForestClassifier \n",
    "y = df['label']\n",
    "X = df[['chats', 'channel_id', 'video_id', 'hour', 'day_night', \n",
    "            'any_emojis', 'cap_ratio', 'offset_percent', 'total_comments']]\n",
    "X_train, X_test, y_train, y_test = train_test_split(X, y, random_state = 213)\n",
    "\n",
    "count_vec = ColumnTransformer([\n",
    "    ('cv', CountVectorizer(lowercase = False, tokenizer = chat_tokenizer), 'chats'),\n",
    "    ('ohe', OneHotEncoder(), ['channel_id', 'video_id', 'day_night'])],\n",
    "    remainder = 'passthrough')\n",
    "\n",
    "rfc = imbpipeline(steps=[\n",
    "    ('preproc', count_vec),\n",
    "    ('smote', SMOTE(sampling_strategy = 'minority', random_state = 213)),\n",
    "    ('rf', RandomForestClassifier(random_state = 213))\n",
    "])\n",
    "\n",
    "#Fits model and prints training score\n",
    "rfc.fit(X_train, y_train)\n",
    "preds = rfc.predict(X_train)\n",
    "print(\"Training Recall:\", recall_score(preds, y_train))\n",
    "print(\"Training Accuracy:\", rfc.score(X_train, y_train))\n",
    "#Cross validates model and prints average result\n",
    "scores = cross_validate(rfc, X_train, y_train, cv = 5, scoring = scoring)\n",
    "print(\"Validation Recall:\" + str(np.mean(scores['test_rec'])))\n",
    "print(\"Validation Accuracy:\" + str(np.mean(scores['test_acc'])))"
   ]
  },
  {
   "cell_type": "code",
   "execution_count": 239,
   "metadata": {},
   "outputs": [
    {
     "data": {
      "text/plain": [
       "{'rf__criterion': 'gini', 'rf__max_depth': None, 'rf__min_samples_split': 10}"
      ]
     },
     "execution_count": 239,
     "metadata": {},
     "output_type": "execute_result"
    }
   ],
   "source": [
    "#Creates parameters to test\n",
    "params = {\n",
    "    'rf__criterion': ['gini', 'entropy'],\n",
    "    'rf__max_depth': [None, 50, 100],\n",
    "    'rf__min_samples_split': [2, 5, 10]\n",
    "}\n",
    "\n",
    "#Fits gridsearch on model and prints out the best parameters\n",
    "search = GridSearchCV(rfc, param_grid = params, scoring = scoring, cv = 3, refit = 'rec')\n",
    "search.fit(X_train, y_train)\n",
    "search.best_params_"
   ]
  },
  {
   "cell_type": "code",
   "execution_count": 243,
   "metadata": {},
   "outputs": [
    {
     "name": "stdout",
     "output_type": "stream",
     "text": [
      "Training Recall: 0.9960725424511956\n",
      "Training Accuracy: 0.998698966979782\n",
      "Validation Recall:0.4344583766437246\n",
      "Validation Accuracy:0.9297962645898616\n"
     ]
    }
   ],
   "source": [
    "count_vec = ColumnTransformer([\n",
    "    ('cv', CountVectorizer(lowercase = False, tokenizer = chat_tokenizer), 'chats'),\n",
    "    ('ohe', OneHotEncoder(), ['channel_id', 'video_id', 'day_night'])],\n",
    "    remainder = 'passthrough')\n",
    "\n",
    "rfc_tune = imbpipeline(steps=[\n",
    "    ('preproc', count_vec),\n",
    "    ('smote', SMOTE(sampling_strategy = 'minority', random_state = 213)),\n",
    "    ('rf', RandomForestClassifier(min_samples_split = 10, random_state = 213))\n",
    "])\n",
    "\n",
    "#Fits model and prints training score\n",
    "rfc_tune.fit(X_train, y_train)\n",
    "preds = rfc_tune.predict(X_train)\n",
    "print(\"Training Recall:\", recall_score(preds, y_train))\n",
    "print(\"Training Accuracy:\", rfc_tune.score(X_train, y_train))\n",
    "#Cross validates model and prints average result\n",
    "scores = cross_validate(rfc_tune, X_train, y_train, cv = 5, scoring = scoring)\n",
    "print(\"Validation Recall:\" + str(np.mean(scores['test_rec'])))\n",
    "print(\"Validation Accuracy:\" + str(np.mean(scores['test_acc'])))"
   ]
  },
  {
   "cell_type": "code",
   "execution_count": 238,
   "metadata": {},
   "outputs": [
    {
     "name": "stdout",
     "output_type": "stream",
     "text": [
      "no\n"
     ]
    },
    {
     "data": {
      "text/plain": [
       "0.038538826298286304"
      ]
     },
     "execution_count": 238,
     "metadata": {},
     "output_type": "execute_result"
    }
   ],
   "source": [
    "words = rfc_tune.named_steps[\"preproc\"].transformers_[0][1].get_feature_names()\n",
    "ohe = rfc_tune.named_steps[\"preproc\"].transformers_[1][1].get_feature_names()\n",
    "numbers = ['hour', 'any_emojis', 'cap_ratio', 'offset_percent', 'total_comments']\n",
    "\n",
    "columns = [*words, *ohe, *numbers]\n",
    "\n",
    "for name, importance in zip(columns, rfc_tune['rf'].feature_importances_):\n",
    "    print(name, importance)"
   ]
  },
  {
   "cell_type": "markdown",
   "metadata": {},
   "source": [
    "## SVM"
   ]
  },
  {
   "cell_type": "code",
   "execution_count": null,
   "metadata": {},
   "outputs": [],
   "source": [
    "from sklearn.svm import SVC\n",
    "\n",
    "count_vec = ColumnTransformer([\n",
    "    ('cv', CountVectorizer(lowercase = False, tokenizer = chat_tokenizer), 'chats'),\n",
    "    ('ohe', OneHotEncoder(), ['channel_id', 'video_id', 'day_night']),\n",
    "    ('ss', StandardScaler(), ['hour', 'any_emojis', 'cap_ratio', 'offset_percent', 'total_comments'])],\n",
    "    remainder = 'passthrough')\n",
    "\n",
    "svm_untune = imbpipeline(steps=[\n",
    "    ('preproc', count_vec),\n",
    "    ('smote', SMOTE(sampling_strategy = 'minority', random_state = 213)),\n",
    "    ('svm', SVC(kernel='linear', gamma='auto'))\n",
    "])\n",
    "\n",
    "#Fits model and prints training score\n",
    "svm_untune.fit(X_train, y_train)\n",
    "preds = svm_untune.predict(X_train)\n",
    "print(\"Training Recall:\", recall_score(preds, y_train))\n",
    "print(\"Training Accuracy:\", svm_untune.score(X_train, y_train))\n",
    "#Cross validates model and prints average result\n",
    "scores = cross_validate(svm_untune, X_train, y_train, cv = 5, scoring = scoring)\n",
    "print(\"Validation Recall:\" + str(np.mean(scores['test_rec'])))\n",
    "print(\"Validation Accuracy:\" + str(np.mean(scores['test_acc'])))"
   ]
  },
  {
   "cell_type": "markdown",
   "metadata": {},
   "source": [
    "# XGBoost"
   ]
  },
  {
   "cell_type": "code",
   "execution_count": 26,
   "metadata": {},
   "outputs": [
    {
     "data": {
      "text/plain": [
       "0    91441\n",
       "1    11259\n",
       "Name: label, dtype: int64"
      ]
     },
     "execution_count": 26,
     "metadata": {},
     "output_type": "execute_result"
    }
   ],
   "source": [
    "df.label.value_counts()"
   ]
  },
  {
   "cell_type": "code",
   "execution_count": 27,
   "metadata": {},
   "outputs": [
    {
     "name": "stdout",
     "output_type": "stream",
     "text": [
      "Training Recall: 0.7497580384987633\n",
      "Training Accuracy: 0.9508081791626095\n",
      "Validation Recall:0.7750774360629501\n",
      "Validation Accuracy:0.9403440441415125\n"
     ]
    }
   ],
   "source": [
    "from xgboost import XGBClassifier\n",
    "\n",
    "#Creates a new train test split with the added features\n",
    "y = df['label']\n",
    "X = df[['chats', 'video_id', 'day_night', \n",
    "            'any_emojis', 'cap_ratio', 'offset_percent', 'total_comments']]\n",
    "X_train, X_test, y_train, y_test = train_test_split(X, y, random_state = 213)\n",
    "\n",
    "#Pipeline for processing and fitting model\n",
    "count_vec = ColumnTransformer([\n",
    "    ('cv', CountVectorizer(lowercase = False, tokenizer = chat_tokenizer), 'chats'),\n",
    "    ('ohe', OneHotEncoder(), ['video_id', 'day_night']),\n",
    "    ('ss', StandardScaler(), ['any_emojis', 'cap_ratio', 'offset_percent', 'total_comments'])],\n",
    "    remainder = 'passthrough')\n",
    "\n",
    "xgb = imbpipeline(steps=[\n",
    "    ('preproc', count_vec),\n",
    "    ('xgb', XGBClassifier(scale_pos_weight = 8, random_state = 213))\n",
    "])\n",
    "\n",
    "#Fits model and prints training score\n",
    "xgb.fit(X_train, y_train)\n",
    "preds = xgb.predict(X_train)\n",
    "print(\"Training Recall:\", recall_score(preds, y_train))\n",
    "print(\"Training Accuracy:\", xgb.score(X_train, y_train))\n",
    "\n",
    "scoring = {\n",
    "    'acc': make_scorer(accuracy_score),\n",
    "    'rec': 'recall'\n",
    "}\n",
    "\n",
    "#Cross validates model and prints average result\n",
    "scores = cross_validate(xgb, X_train, y_train, cv = 5, scoring = scoring)\n",
    "print(\"Validation Recall:\" + str(np.mean(scores['test_rec'])))\n",
    "print(\"Validation Accuracy:\" + str(np.mean(scores['test_acc'])))"
   ]
  },
  {
   "cell_type": "code",
   "execution_count": 38,
   "metadata": {},
   "outputs": [
    {
     "data": {
      "text/plain": [
       "{'xgb__learning_rate': 0.2, 'xgb__n_estimators': 400, 'xgb__subsample': 0.8}"
      ]
     },
     "execution_count": 38,
     "metadata": {},
     "output_type": "execute_result"
    }
   ],
   "source": [
    "params = {\n",
    "    'xgb__learning_rate': [0.2, 0.25],\n",
    "    'xgb__subsample': [0.7, 0.8],\n",
    "    'xgb__n_estimators': [300, 400]\n",
    "}\n",
    "\n",
    "search = GridSearchCV(xgb_train, param_grid = params, scoring = scoring, cv = 3, refit = 'rec')\n",
    "search.fit(X_train, y_train)\n",
    "search.best_params_"
   ]
  },
  {
   "cell_type": "code",
   "execution_count": null,
   "metadata": {},
   "outputs": [
    {
     "name": "stdout",
     "output_type": "stream",
     "text": [
      "Training Recall: 0.8514851485148515\n",
      "Training Accuracy: 0.9762284972411555\n"
     ]
    }
   ],
   "source": [
    "from sklearn.decomposition import TruncatedSVD\n",
    "\n",
    "xgb_train = imbpipeline(steps=[\n",
    "    ('preproc', count_vec),\n",
    "    ('xgb', XGBClassifier(learning_rate = .2, max_depth = 10, min_child_weight = 2,\n",
    "                          n_estimators = 400, subsample = .8, scale_pos_weight = 8, random_state = 213))\n",
    "])\n",
    "\n",
    "#Fits model and prints training score\n",
    "xgb_train.fit(X_train, y_train)\n",
    "preds = xgb_train.predict(X_train)\n",
    "print(\"Training Recall:\", recall_score(preds, y_train))\n",
    "print(\"Training Accuracy:\", xgb_train.score(X_train, y_train))\n",
    "\n",
    "#Cross validates model and prints average result\n",
    "scores = cross_validate(xgb_train, X_train, y_train, cv = 5, scoring = scoring)\n",
    "print(\"Validation Recall:\" + str(np.mean(scores['test_rec'])))\n",
    "print(\"Validation Accuracy:\" + str(np.mean(scores['test_acc'])))"
   ]
  },
  {
   "cell_type": "markdown",
   "metadata": {},
   "source": [
    "# Final Test"
   ]
  },
  {
   "cell_type": "code",
   "execution_count": 32,
   "metadata": {},
   "outputs": [
    {
     "name": "stdout",
     "output_type": "stream",
     "text": [
      "Test Recall: 0.740705734089477\n",
      "Test Accuracy: 0.9494839337877312\n"
     ]
    }
   ],
   "source": [
    "#Test results for final model\n",
    "preds = xgb_train.predict(X_test)\n",
    "print(\"Test Recall:\", recall_score(preds, y_test))\n",
    "print(\"Test Accuracy:\", xgb_train.score(X_test, y_test))"
   ]
  },
  {
   "cell_type": "code",
   "execution_count": 33,
   "metadata": {},
   "outputs": [
    {
     "data": {
      "image/png": "[encoded data removed]",
      "text/plain": [
       "<Figure size 432x288 with 2 Axes>"
      ]
     },
     "metadata": {
      "needs_background": "light"
     },
     "output_type": "display_data"
    }
   ],
   "source": [
    "#Plts confusion matric for test data\n",
    "cm = confusion_matrix(y_test, preds)\n",
    "cmdis = ConfusionMatrixDisplay(cm)\n",
    "cmdis.plot();"
   ]
  },
  {
   "cell_type": "markdown",
   "metadata": {},
   "source": [
    "# Test with NLPAug"
   ]
  },
  {
   "cell_type": "code",
   "execution_count": 28,
   "metadata": {},
   "outputs": [
    {
     "name": "stdout",
     "output_type": "stream",
     "text": [
      "What does this look like?\n",
      "What coiffe this look same? What coiffure this look like? What exercise this look similar? What manage this look like?\n"
     ]
    }
   ],
   "source": [
    "import nlpaug.augmenter.word as naw\n",
    "\n",
    "aug = naw.SynonymAug(model_path='bert-base-uncased', name='Synonym_Aug', aug_min = 1, \n",
    "                     aug_max = 5, aug_p=0.2, lang='eng') \n",
    " \n",
    "test = 'What does this look like?'\n",
    "test_aug = aug.augment(test, n = 4)\n",
    "print(test)\n",
    "print(test_aug)"
   ]
  },
  {
   "cell_type": "markdown",
   "metadata": {},
   "source": [
    "### Generate new negative chats"
   ]
  },
  {
   "cell_type": "code",
   "execution_count": 43,
   "metadata": {},
   "outputs": [],
   "source": [
    "chats = df[['chats', 'label']]\n",
    "train, test = train_test_split(chats, random_state = 213)\n",
    "train_neg = train[train.label == 1]"
   ]
  },
  {
   "cell_type": "code",
   "execution_count": 50,
   "metadata": {},
   "outputs": [],
   "source": [
    "new_negatives = []\n",
    "for sent in train_neg.chats:\n",
    "    train_aug = aug.augment(sent, n = 5)\n",
    "    new_negatives.extend(train_aug)"
   ]
  },
  {
   "cell_type": "code",
   "execution_count": 65,
   "metadata": {},
   "outputs": [],
   "source": [
    "neg_labels = [1] * len(new_negatives)\n",
    "new_df = pd.DataFrame(zip(new_negatives, neg_labels), columns=['chats', 'label'])\n",
    "new_train = pd.concat([train, new_df])"
   ]
  },
  {
   "cell_type": "markdown",
   "metadata": {},
   "source": [
    "### Train on new negatives"
   ]
  },
  {
   "cell_type": "code",
   "execution_count": 74,
   "metadata": {},
   "outputs": [
    {
     "name": "stdout",
     "output_type": "stream",
     "text": [
      "Training Recall: 0.9705906116183243\n",
      "Training Accuracy: 0.9663744284575695\n",
      "Validation Recall:0.8776178340889468\n",
      "Validation Accuracy:0.9307521288644658\n"
     ]
    }
   ],
   "source": [
    "from sklearn.linear_model import LogisticRegression\n",
    "from sklearn.preprocessing import StandardScaler\n",
    "from sklearn.model_selection import cross_validate\n",
    "from sklearn.metrics import recall_score, accuracy_score, make_scorer\n",
    "\n",
    "#Creates a new train test split with the added features\n",
    "X_train = new_train.chats\n",
    "X_test = test.chats\n",
    "y_train = new_train.label\n",
    "y_test = test.label\n",
    "\n",
    "logreg = imbpipeline(steps=[\n",
    "    ('preproc', CountVectorizer(lowercase = False, tokenizer = chat_tokenizer)),\n",
    "    ('lr', LogisticRegression(max_iter = 10000, random_state = 213))\n",
    "])\n",
    "\n",
    "#Fits model and prints training score\n",
    "logreg.fit(X_train, y_train)\n",
    "preds = logreg.predict(X_train)\n",
    "print(\"Training Recall:\", recall_score(preds, y_train))\n",
    "print(\"Training Accuracy:\", logreg.score(X_train, y_train))\n",
    "\n",
    "scoring = {\n",
    "    'acc': make_scorer(accuracy_score),\n",
    "    'rec': 'recall'\n",
    "}\n",
    "\n",
    "#Cross validates model and prints average result\n",
    "scores = cross_validate(logreg, X_train, y_train, cv = 5, scoring = scoring)\n",
    "print(\"Validation Recall:\" + str(np.mean(scores['test_rec'])))\n",
    "print(\"Validation Accuracy:\" + str(np.mean(scores['test_acc'])))"
   ]
  },
  {
   "cell_type": "code",
   "execution_count": 75,
   "metadata": {},
   "outputs": [
    {
     "name": "stdout",
     "output_type": "stream",
     "text": [
      "Test Recall: 0.7413299395482024\n",
      "Test Accuracy: 0.9490555014605647\n"
     ]
    }
   ],
   "source": [
    "#Test results for final model\n",
    "preds = logreg.predict(X_test)\n",
    "print(\"Test Recall:\", recall_score(preds, y_test))\n",
    "print(\"Test Accuracy:\", logreg.score(X_test, y_test))"
   ]
  },
  {
   "cell_type": "code",
   "execution_count": null,
   "metadata": {},
   "outputs": [],
   "source": []
  }
 ],
 "metadata": {
  "kernelspec": {
   "display_name": "Python 3 (ipykernel)",
   "language": "python",
   "name": "python3"
  },
  "language_info": {
   "codemirror_mode": {
    "name": "ipython",
    "version": 3
   },
   "file_extension": ".py",
   "mimetype": "text/x-python",
   "name": "python",
   "nbconvert_exporter": "python",
   "pygments_lexer": "ipython3",
   "version": "3.8.12"
  }
 },
 "nbformat": 4,
 "nbformat_minor": 4
}
